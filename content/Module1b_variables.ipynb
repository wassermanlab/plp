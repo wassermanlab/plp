{
  "cells": [
    {
      "attachments": {},
      "cell_type": "markdown",
      "id": "03375196",
      "metadata": {},
      "source": [
        "# 1b. Variables\n",
        "\n",
        "<aside>\n",
        "📌 Key points: What is a variable, writing variables in Python, naming conventions.\n",
        "\n",
        "</aside>\n",
        "\n",
        "# Introducing: Variables\n",
        "\n",
        "### Intro - the first computer program\n",
        "\n",
        "![Portrait of Ada (c. 1836)](images/Ada-Lovelace.jpg.webp)\n",
        "\n",
        "Portrait of Ada (c. 1836)\n",
        "\n",
        "![Portrait of Charles Babbage (c. 1820)](images/British_(English)_School_-_Charles_Babbage_(17921871)_-_814168_-_National_Trust.jpg)\n",
        "Portrait of Charles Babbage (c. 1820)\n",
        "\n",
        "> “Imagination is the Discovering Faculty, pre-eminently. It is that which penetrates into the unseen worlds around us, the worlds of Science.” - Ada Lovelace\n",
        "> \n",
        "\n",
        "Augusta Ada King, Countess of Lovelace, or Ada Lovelace for short, was an early 19th century English mathematician and writer. \n",
        "\n",
        "She is perhaps best known for her work with the English polymath Charles Babbage on one of the world’s first computers, called the difference machine, a machine for performing complex mathematical calculations. \n",
        "\n",
        "Ada saw the potential of such a machine to carry out operations beyond numerical calculation and wrote the first computer algorithm for a newer machine called the analytical engine. As a result, she is seen today as the first true computer programmer! \n",
        "\n",
        "![Part of Charles Babbage’s Difference Machine](images/440px-Difference_engine_plate_1853.jpg)\n",
        "\n",
        "Part of Charles Babbage’s Difference Machine\n",
        "\n",
        "Take a look at Ada’s algorithm below. What parts you recognize? How do you think the code is executed? What do you think it’s purpose is? Her code, written in 1840, is very similar to the modern programs that we write in languages like Python today.\n",
        "\n",
        "![Ada Lovelace’s first program](images/Diagram_for_the_computation_of_Bernoulli_numbers-2.jpg)\n",
        "\n",
        "Ada Lovelace’s first program\n",
        "\n",
        "Notice that many of the column’s labels include the word “variable”. This concept was one of the core ideas of Ada and Babbage’s work and is a core concept in modern programming.\n",
        "\n",
        "## What is a variable?\n",
        "\n",
        "A variable is something that is used to store information. Here are some examples."
      ]
    },
    {
      "cell_type": "code",
      "execution_count": null,
      "id": "aef4ee08",
      "metadata": {},
      "outputs": [],
      "source": [
        "animal = \"bat\"                    # this is a **string** data type\n",
        "\n",
        "is_it_afternoon = True            # this is a **boolean** data type\n",
        "\n",
        "temp = -109                       # this is a **integer** data type\n",
        "\n",
        "distance_from_sun = 29283.19      # this is a **float** data type\n",
        "\n",
        "# you'll learn about the different data types in the upcoming modules :)"
      ]
    },
    {
      "attachments": {},
      "cell_type": "markdown",
      "id": "a067f8cd",
      "metadata": {},
      "source": [
        "We give variables unique names that are referenced later on in our code. When referenced, we can use the variable as a stand-in for the data contained by the variable."
      ]
    },
    {
      "cell_type": "code",
      "execution_count": null,
      "id": "ddf5cf39",
      "metadata": {},
      "outputs": [],
      "source": [
        "animal = \"dog\" \n",
        "\n",
        "\"Hello \" + \"my favourite animal is a \" + animal    # reference to animal variable "
      ]
    },
    {
      "attachments": {},
      "cell_type": "markdown",
      "id": "871fe6c9",
      "metadata": {},
      "source": [
        "While you might not have used variables in the context of computer programming before, you already use them all the time in your daily life.\n",
        "\n",
        "- In math, x and y are common names for variables that reference a particular number or equation\n",
        "- In English, we use “they”, “them”, “he”, “she”, or any other pronouns as variables that can be used to reference particular people\n",
        "\n",
        "Similarly, we “assign” some data to a variable in a computer program. After the “assignment”, we can use the variable’s name to reference the stored data.\n",
        "\n",
        "## Variables in Python\n",
        "\n",
        "In Python, we name a variable and assign data to it at the same time.\n",
        "\n",
        "The syntax for this is:"
      ]
    },
    {
      "cell_type": "code",
      "execution_count": null,
      "id": "a6a7ad17",
      "metadata": {},
      "outputs": [],
      "source": [
        "name = data"
      ]
    },
    {
      "attachments": {},
      "cell_type": "markdown",
      "id": "d47522f0",
      "metadata": {},
      "source": [
        "**Name** always comes first and can be any combination of letters, numbers, and underscores. Names are case-sensitive, so Python will see “name” and “NAME” as two different variables.\n",
        "\n",
        "The **data** field can be of any type.\n",
        "\n",
        "Variables can be re-assigned multiple times to different pieces of data. Re-assigning a variable replaces its previous value."
      ]
    },
    {
      "cell_type": "code",
      "execution_count": null,
      "id": "e969d1c0",
      "metadata": {},
      "outputs": [],
      "source": [
        "x = \"3\"\n",
        "\n",
        "print(x)    # output: 3\n",
        "\n",
        "x = \"5\"     # the variable x now stores “5” instead of “3”\n",
        "\n",
        "print(x)    # output: 5"
      ]
    },
    {
      "attachments": {},
      "cell_type": "markdown",
      "id": "addfdb2a",
      "metadata": {},
      "source": [
        "### Naming Conventions\n",
        "\n",
        "Programmers have adopted conventions that, while not necessary to make a program work, make code much easier to read and share with others. Have you noticed that readability and collaboration are very important themes in programming?\n",
        "\n",
        "A couple adopted conventions for naming your variables:\n",
        "\n",
        "1. Start all variable names with a lowercase letter or a number\n",
        "2. If more than one word is in a variable name, separate words with an underscore. \n",
        "\n",
        "Try to explain why each of the following follows naming conventions or not!\n",
        "\n",
        "<aside>\n",
        "👍🏼  **Correct naming**\n",
        "\n",
        "this_is_a_variable_name\n",
        "\n",
        "test_file_small_1\n",
        "\n",
        "garage \n",
        "\n",
        "</aside>\n",
        "\n",
        "<aside>\n",
        "👎🏼 **Incorrect naming**\n",
        "\n",
        "Incorrect\n",
        "\n",
        "this_Is_Incorrect\n",
        "\n",
        "this-is-alsoIncorrect\n",
        "\n",
        "</aside>\n",
        "\n",
        "## Exercises\n",
        "\n",
        "Copy each of the following exercises to your Raspberry Pi and complete.\n",
        "\n",
        "**Exercise 1: Assigning Variables**"
      ]
    },
    {
      "cell_type": "code",
      "execution_count": null,
      "id": "75069b7e",
      "metadata": {},
      "outputs": [],
      "source": [
        "# Assign your name, the grade that you're in, and school that you attend to \n",
        "# variables named \"name\", \"grade\", and \"school\" (without the quotation marks). \n",
        "# Run the program after you have done so. If you successfully assigned all \n",
        "# variables, the program should print a short summary about yourself.\n",
        "\n",
        "# Assign variables here. \n",
        "\n",
        "name = \n",
        "\n",
        "grade = \n",
        "\n",
        "school = \n",
        "\n",
        "def printSummary():\n",
        "    print(\"My name is \" + name + \",\")\n",
        "    print(\"and I am in grade \" + grade + \" at \" + school + \".\" )\n",
        "\n",
        "printSummary()"
      ]
    },
    {
      "attachments": {},
      "cell_type": "markdown",
      "id": "0266884d",
      "metadata": {},
      "source": [
        "**Exercise 2: Following Assignment Statements**"
      ]
    },
    {
      "cell_type": "code",
      "execution_count": null,
      "id": "613d68a2",
      "metadata": {},
      "outputs": [],
      "source": [
        "# Consider the following variable assignments. \n",
        "# Please follow the instructions below. When you're done, run the code. \n",
        "# You should see 5 \"true\" statements printed to the console if correct.\n",
        "\n",
        "x = \"3\"\n",
        "y = \"5\"\n",
        "z = \"10\"\n",
        "\n",
        "x = \"5\"\n",
        "# What value does x now contain? Replace ... with your answer.\n",
        "x_answer1 = \"...\"\n",
        "\n",
        "y = x\n",
        "# What value do x and y now contain? Replace ... with your answer.\n",
        "y_answer1 = \"...\"\n",
        "x_answer2 = \"...\"\n",
        "\n",
        "x = z\n",
        "# What value does x now contain? Replace ... with your answer.\n",
        "x_answer3 = \"...\"\n",
        "\n",
        "z = y\n",
        "z = x\n",
        "x = z\n",
        "# What value does z now contain? Replace ... with your answer.\n",
        "z_answer1 = \"...\"\n",
        "\n",
        "# Please feel free to ask any questions you might have with assigning variables.\n"
      ]
    },
    {
      "attachments": {},
      "cell_type": "markdown",
      "id": "54e9529f",
      "metadata": {},
      "source": [
        "# Feedback Form\n",
        "\n",
        "Please take a moment to provide your thoughts on this module.\n",
        "\n",
        "[Module 1b (Introduction to Variables & Strings) - Feedback form](https://forms.gle/yVkU8mxvb6ZbVmWb6)"
      ]
    }
  ],
  "metadata": {
    "kernelspec": {
      "display_name": "Python (Pyodide)",
      "language": "python",
      "name": "python"
    },
    "language_info": {
      "codemirror_mode": {
        "name": "python",
        "version": 3
      },
      "file_extension": ".py",
      "mimetype": "text/x-python",
      "name": "python",
      "nbconvert_exporter": "python",
      "pygments_lexer": "ipython3",
      "version": "3.8"
    }
  },
  "nbformat": 4,
  "nbformat_minor": 5
}
