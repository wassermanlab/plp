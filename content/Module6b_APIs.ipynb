{
 "cells": [
  {
   "attachments": {},
   "cell_type": "markdown",
   "id": "9a8bc3ae",
   "metadata": {},
   "source": [
    "# b. More Libraries: APIs and Console Applications\n",
    "\n",
    "<aside>\n",
    "📌 Key points: APIs\n",
    "</aside>\n",
    "\n",
    "\n",
    "## A Refresher on Libraries\n",
    "\n",
    "- We learned in the previous module that libraries are abstracted code that others have created, which are meant to be reusable and have easily understandable functions\n",
    "- Libraries are interesting because we don’t necessarily need to understand exactly how a function works — what is important is knowing how to use it, and its resulting output\n",
    "- Libraries can be used together simultaneously with other libraries, including the standard libraries built into Python to create something entirely new\n",
    "- In this module, we will be demonstrating how we can use different libraries and their pre-built functions to create a simple game, and even create our own unique twist!"
   ]
  },
  {
   "attachments": {},
   "cell_type": "markdown",
   "id": "09df4fa6",
   "metadata": {},
   "source": [
    "### Revisiting Previous Modules\n",
    "\n",
    "- This game tutorial assumes you have already completed the previous modules, and will require your understanding on how the following is implemented and used:\n",
    "    - loop statements\n",
    "    - conditional statements\n",
    "    - user-defined functions\n",
    "    - import statements\n",
    "- You will also be learning to incorporate libraries through the use of something called an API, which will be explained in the next section"
   ]
  },
  {
   "attachments": {},
   "cell_type": "markdown",
   "id": "3e2cdb34",
   "metadata": {},
   "source": [
    "## Using Libraries: API Interfaces\n",
    "\n",
    "- **API** stands for “Application Programming Interface” which can be thought of as a way to communicate between two applications using each other’s requests and responses\n",
    "    - For example, think of a restaurant setting. The menu provides you with a list of food options, the waiter will take your request and send it to the kitchen, and the kitchen will process that request. The waiter in this case is comparable to an API.\n",
    "    - An API is essentially a software intermediary that allows two different applications to communicate with each other\n",
    "- APIs typically have a way to `GET` information, `DELETE`, `POST`, and `PATCH` information — these are the standard request conventions for most APIs\n",
    "    - For our purposes and to simplify this module, we will only be focusing on `GET` requests, which means we will be using an API call to `GET` certain kinds of information for us to use"
   ]
  },
  {
   "attachments": {},
   "cell_type": "markdown",
   "id": "bb9975d5",
   "metadata": {},
   "source": [
    "# Final Project: Creating a Wordle-Esque Game  💬\n",
    "\n",
    "- For this module, we will have you follow along to create your own (terminal) console-based word guessing game, similar to the popular ‘Wordle’ phone game!\n",
    "\n",
    "- [Wordle](https://www.nytimes.com/games/wordle/index.html) is a word-guessing game where a random 5 letter word is generated, and the user has a limited number of turns to guess the word. We recommend taking a few minutes to [play the game](https://www.nytimes.com/games/wordle/index.html) to understand how it works!\n",
    "    - If a correct letter is guessed in the correct spot, it will appear green\n",
    "    - If a correct letter is guessed in the wrong spot, it will appear yellow\n",
    "    - If an incorrect letter is guessed, it will appear grey\n",
    "    - The game ends when:\n",
    "        - the user has correctly guessed the word, with all letters in the correct spots, or\n",
    "        - the user has made 6 incorrect guesses\n",
    "\n",
    "![Untitled](images/wordle.png)\n",
    "\n",
    "- Since we will be creating this on the terminal’s console, we don’t have the option to use colour at the moment to signify correct spots, so instead, we’ll be modifying our game a bit to still have a similar functionality\n",
    "- Before we begin writing code, the most important part of creating software is to plan out and understand the steps we need to take to get to the end result of a working game\n",
    "- We need to identify what questions to ask and what steps to take in what order — which we can do by brainstorming some questions:\n",
    "    - **What are we trying to build?**\n",
    "    - **What should our game do?**\n",
    "    - **What are the steps to get our game to work?**\n",
    "### Exercises\n",
    "\n",
    "- Try to think about how you would answer these questions on your own if you were to build a Wordle game. Once you’ve thought about it, move on to the next step where we’ll try to brainstorm some solutions\n",
    "    - Think about each step needed to build a guessing game and how we can determine if someone’s guess is correct or incorrect\n",
    "    - **Thinking and planning is key to becoming an efficient programmer!**"
   ]
  },
  {
   "attachments": {},
   "cell_type": "markdown",
   "id": "983498ba",
   "metadata": {},
   "source": [
    "## 1. Planning: Identifying Our Questions\n",
    "\n",
    "- Let’s try to resolve each question in depth so we understand exactly how to tackle this game and have a good plan for where to start:\n",
    "- **What are we trying to build?**\n",
    "    - We will be building a Wordle-esque game where the user will be guessing a random 5 letter word and be told if they guessed a correct letter in the correct spot, a correct letter in an incorrect spot, or an incorrect letter\n",
    "    - Since we cannot use the colour system that Wordle originally uses, we will need to brainstorm or search for a different method, but *this will be done as an added feature later* on — for now, it’s most important to get the base game to work\n",
    "    - The game will end after 6 incorrect turns or a correct word guess\n",
    "- **What should our game do?**\n",
    "    - Our game will need to generate a random 5 letter word\n",
    "    - Our game will need to allow the player to guess 5 letter words — no more or less\n",
    "    - Our game will need to determine if the player’s answer is correct\n",
    "    - Our game will need to keep track of the number of attemps, and end after 6 incorrect guesses or if a correct guess was made before the 6th turn\n",
    "- **What are the steps to get our game to work?**\n",
    "    - Building off of our goals for the game in the previous question, we can expand further on the steps we need to take to get our base game to work — don’t worry about fancy features for now, what’s most important is going through each step and brainstorming some code so we get a better sense of how to begin building our game.\n",
    "    - *Our game will need to generate a random 5 letter word*\n",
    "        - We need to figure out a way to get random 5 letter words that are real dictionary words; in this case, our best bet would most likely be to find and use a free `API`\n",
    "    - *Our game will need to allow the player to guess 5 letter words — no more or less*\n",
    "        - We need an `input` statement to let the player enter their guesses\n",
    "        - We need to write an `if` condition to check that the player has only inputted words that are 5 letters, and reject their word otherwise\n",
    "    - *Our game will need to determine if the player’s answer is correct*\n",
    "        - We need to check the player’s guess each time to see if it matches the random word generated earlier, which will use an `if` condition to return `True` if correct\n",
    "    - *Our game will need to keep track of the turns, and end after 6 incorrect guesses or a correct guess before the 6th turn*\n",
    "        - We need a counter to keep track of how many incorrect guesses the player has made, and automatically `exit` the game when they have reached 6\n",
    "        - We need to `exit` the game when the player has guessed the correct answer\n",
    "        - We need to make sure the invalid guesses (not 5 letter words) are not counted towards the turn counter\n",
    "- Now that we have a plan for the most basic aspects of the gameplay, we need to begin figuring out how to implement these steps; [Google](http://google.ca/) will be your best friend when you’re stuck on something or you experience a strange error!\n",
    "    - If you are stuck or are experiencing any issues in the coding, please don’t hesitate to contact our TAs, we will be happy to assist you! 😊"
   ]
  },
  {
   "attachments": {},
   "cell_type": "markdown",
   "id": "a30f886d",
   "metadata": {},
   "source": [
    "\n",
    "## 2. Implementation: Putting Our Steps to Work\n",
    "\n",
    "- Before we start, we will need to create a new project in our `IDE` to hold the code and libraries that we will be putting in, you can name it anything you’d like or use `guessingGame`\n",
    "\n",
    "### Generating A Random 5-Letter Word\n",
    "\n",
    "\n",
    "⭐ *Our game will need to generate a random 5 letter word*\n",
    "\n",
    "- We need to figure out a way to get random 5 letter words that are real dictionary words; in this case, our best bet would most likely be to find and use a free `API`\n",
    "\n",
    "\n",
    "- Take a look at the [WonderWords Python API](https://pypi.org/project/wonderwords/) that can generate a random dictionary word\n",
    "    - This `API` allows single and multiple random words to be generated, along with specific `parameters` that can be added to specify word length and other filters"
   ]
  },
  {
   "attachments": {},
   "cell_type": "markdown",
   "id": "9cb8bf44",
   "metadata": {},
   "source": [
    "\n",
    "\n",
    "### Wonderwords API: Install and Import\n",
    "\n",
    "- In order to use this API, we will need to install the library package in order to use its functions\n",
    "    - We will not be concerned about how the library’s functions are implemented, rather, we will be focusing on the documentation provided on the [API’s website](https://pypi.org/project/wonderwords/) to understand how to use these functions and its parameters"
   ]
  },
  {
   "cell_type": "code",
   "execution_count": null,
   "id": "7c9d95b3",
   "metadata": {},
   "outputs": [],
   "source": [
    "import micropip\n",
    "await micropip.install('wonderwords')\n",
    "import wonderwords"
   ]
  },
  {
   "attachments": {},
   "cell_type": "markdown",
   "id": "eeb579c0",
   "metadata": {},
   "source": [
    "- Upon browsing the examples and documentation on the site, we can see how to use the basics of the API, and how it can return either a list of words or a single word\n",
    "- In our case, we only want to return a single word, so we can start the code by writing:"
   ]
  },
  {
   "cell_type": "code",
   "execution_count": null,
   "id": "a46e97eb",
   "metadata": {},
   "outputs": [],
   "source": [
    "from wonderwords import RandomWord\n",
    "\n",
    "r = RandomWord()\n",
    "\n",
    "# generate a random word\n",
    "r.word()"
   ]
  },
  {
   "attachments": {},
   "cell_type": "markdown",
   "id": "cfe47b95",
   "metadata": {},
   "source": [
    "- Run this code a few times and take a look at the words that get generated\n",
    "    - Is there anything you notice that might be a problem for our game?\n",
    "\n",
    "### Random-Word API: Establishing Parameters for Filters\n",
    "\n",
    "- What you might have noticed if you ran the code a few times is that the words that get generated are not always 5-letter words\n",
    "- So, how can we fix this?\n",
    "    - What we can do using the established API’s `parameters` is to set up `filters` for the words that are generated — meaning, we can set certain conditions so all words that don’t meet those conditions will not be shown"
   ]
  },
  {
   "cell_type": "code",
   "execution_count": null,
   "id": "c86d180a",
   "metadata": {},
   "outputs": [],
   "source": [
    "# we want our words to be 5 letters long, so we can do this:\n",
    "print(r.word(word_min_length=5, word_max_length=5))"
   ]
  },
  {
   "attachments": {},
   "cell_type": "markdown",
   "id": "238a1bee",
   "metadata": {},
   "source": [
    "### Exercise\n",
    "- Once again, run this code a few times and see if you can find any issues or errors that we might need to fix up for our game to run properly\n",
    "    - Is the code consistently generating words with these parameters?"
   ]
  },
  {
   "attachments": {},
   "cell_type": "markdown",
   "id": "bc512abb",
   "metadata": {},
   "source": [
    "Great! Let's recap what we have so far. We are now able to generate a random 5-letter word for the user to guess"
   ]
  },
  {
   "cell_type": "code",
   "execution_count": null,
   "id": "77cadcb1",
   "metadata": {},
   "outputs": [],
   "source": [
    "from wonderwords import RandomWord\n",
    "\n",
    "r = RandomWord()\n",
    "\n",
    "# generate a random word\n",
    "word = r.word(word_min_length=5, word_max_length=5)\n",
    "\n",
    "print(word)"
   ]
  },
  {
   "attachments": {},
   "cell_type": "markdown",
   "id": "57de596d",
   "metadata": {},
   "source": [
    "## 3. Inputting the Player’s Guesses\n",
    "\n",
    "*Our game will allow the player to guess 5 letter words — no more or less*\n",
    "\n",
    "- We need an `input` statement to let the player enter their guesses\n",
    "- We need to write an `while loop` to check that the player's guess is 5 letters long, otherwise, we will prompt the player to re-enter a 5 letter word. We can check the length of the player’s word guess using a built-in python command: `len()`\n",
    "    - `len()` returns an integer of the length of the word you use the function on\n",
    "- Here's what our code will look like"
   ]
  },
  {
   "cell_type": "code",
   "execution_count": 26,
   "id": "c330211a",
   "metadata": {},
   "outputs": [],
   "source": [
    "# copy and run the code here: https://www.programiz.com/python-programming/online-compiler/\n",
    "\n",
    "guess = \"\"\n",
    "\n",
    "while len(guess) != 5:\n",
    "\tguess = input(\"Guess a 5-letter word: \")"
   ]
  },
  {
   "attachments": {},
   "cell_type": "markdown",
   "id": "acab69c7",
   "metadata": {},
   "source": [
    "### Exercises\n",
    "\n",
    "- Try inputting different guesses for different lengths, see if it works properly!\n",
    "- Try inputting non-alphabetical characters such as numbers and symbols\n",
    "    - Does it accept these characters, and do you think the game should allow this?\n",
    "    - What could we do to fix this problem?\n",
    "\n",
    "### Player Guess Input: Alphabetical Letters Only\n",
    "\n",
    "- What you might have noticed when playing around with the input is that it allows any character, even non-alphabetical to be entered\n",
    "    - This is a problem since we know that the only words generated are purely alphabetical, so it would not make sense to allow non-alphabetical letters to be entered by the player\n",
    "- In order to check that the guess is all alphabetical letters, we can use the same function we used previously, `isalpha()` to also reject the guess when non-alphabetical characters are entered\n",
    "- Similar to the previous section, we can chain this condition, and keep the message:"
   ]
  },
  {
   "cell_type": "code",
   "execution_count": null,
   "id": "9330b13d",
   "metadata": {},
   "outputs": [],
   "source": [
    "# copy and run the code here: https://www.programiz.com/python-programming/online-compiler/\n",
    "\n",
    "guess = \"\"\n",
    "\n",
    "while len(guess) != 5 or not guess.isalpha():\n",
    "\tguess = input(\"Guess a 5-letter word: \")"
   ]
  },
  {
   "attachments": {},
   "cell_type": "markdown",
   "id": "951ed234",
   "metadata": {},
   "source": [
    "## 4. Determining A Winner\n",
    "*Our game will need to determine if the player’s answer is correct*\n",
    "\n",
    "- We need to check the player’s guess each time to see if it matches the random word generated earlier, which will use an `if-condition` to return `true` if correct\n",
    "\n",
    "\n",
    "### Player Wins: Checking for the Correct Answer\n",
    "\n",
    "- We can check if the player’s guess is correct by comparing it with  the generated word"
   ]
  },
  {
   "cell_type": "code",
   "execution_count": 27,
   "id": "131fb4e8",
   "metadata": {},
   "outputs": [],
   "source": [
    "if guess == word:\n",
    "\tprint(\"Congrats! You guessed the correct word.\")\n",
    "else:\n",
    "\tprint(\"That's not correct\")"
   ]
  },
  {
   "attachments": {},
   "cell_type": "markdown",
   "id": "3b93f19a",
   "metadata": {},
   "source": [
    "- Our current code that we have so far, when putting the last few sections together is as follows:"
   ]
  },
  {
   "cell_type": "code",
   "execution_count": 32,
   "id": "121c357d",
   "metadata": {},
   "outputs": [
    {
     "name": "stdout",
     "output_type": "stream",
     "text": [
      "gaudy\n",
      "That's not correct\n"
     ]
    }
   ],
   "source": [
    "from wonderwords import RandomWord\n",
    "\n",
    "r = RandomWord()\n",
    "\n",
    "# generate a random word\n",
    "word = r.word(word_min_length=5, word_max_length=5)\n",
    "\n",
    "print(word)\n",
    "\n",
    "guess = \"\"\n",
    "\n",
    "while len(guess) != 5 or not guess.isalpha():\n",
    "\tguess = input(\"Guess a 5-letter word: \")\n",
    "\n",
    "if guess == word:\n",
    "\tprint(\"Congrats! You guessed the correct word.\")\n",
    "else:\n",
    "\tprint(\"That's not correct\")"
   ]
  },
  {
   "attachments": {},
   "cell_type": "markdown",
   "id": "40a41acb",
   "metadata": {},
   "source": [
    "### Exercises\n",
    "\n",
    "- Try out the guessing game we have so far — since you can see the answer, try typing it out\n",
    "    - Does it work correctly when typing in uppercase?\n",
    "    - Why do you think this problem occurs, and what could we do to fix it?\n",
    "\n",
    "### Case Sensitivity\n",
    "\n",
    "- When entering the correct word with any uppercase letters, you might have noticed that the answer is still considered incorrect\n",
    "    - This is because in programming languages, uppercase and lowercase letters are encoded separately, and are not considered the same letter\n",
    "- We can resolve this issue by converting every letter of our `guess` and `word` to lowercase using the function: `lower()`\n"
   ]
  },
  {
   "cell_type": "code",
   "execution_count": 33,
   "id": "89ff44d0",
   "metadata": {},
   "outputs": [
    {
     "name": "stdout",
     "output_type": "stream",
     "text": [
      "Congrats! You guessed the correct word.\n"
     ]
    }
   ],
   "source": [
    "if guess.lower() == word.lower():\n",
    "\tprint(\"Congrats! You guessed the correct word.\")\n",
    "else:\n",
    "\tprint(\"That's not correct\")"
   ]
  },
  {
   "attachments": {},
   "cell_type": "markdown",
   "id": "411fe520",
   "metadata": {},
   "source": [
    "## 5. Tracking the Number of Player’s Guesses\n",
    "\n",
    "*Our game will need to keep track of the turns, and end after 6 incorrect guesses or a correct guess before the 6th turn*\n",
    "\n",
    "- We need a counter to keep track of how many incorrect guesses the player has made, and automatically `exit` the game when they have reached 6 incorrect guesses\n",
    "- We need to `exit` the game when the player has guessed the correct answer\n",
    "- We need to make sure the invalid guesses (not 5 letters) are not counted towards the turn counter\n",
    "\n",
    "- In order to keep track of the turns, we will need to implement a counter that can count each guess that the player makes, as well as keep a variable that tells us the maximum number of total guesses for each game instance (in our case is 6 guesses max. before the game ends)"
   ]
  },
  {
   "attachments": {},
   "cell_type": "markdown",
   "id": "39bcbb8a",
   "metadata": {},
   "source": [
    "### Tracking Guess Count: Current Guess Counter\n",
    "\n",
    "- We can implement the current turn counter by creating a variable to keep track, and increase the counter by 1 for every valid guess the player makes\n",
    "- We can do this by declaring an integer variable called `num_of_guesses = 0`, and increase this number everytime the user enters an input\n",
    "- let's verify that this is working first"
   ]
  },
  {
   "cell_type": "code",
   "execution_count": 35,
   "id": "17b2375c",
   "metadata": {},
   "outputs": [
    {
     "name": "stdout",
     "output_type": "stream",
     "text": [
      "young\n",
      "number of guesses:  1\n",
      "number of guesses:  2\n",
      "number of guesses:  3\n",
      "That's not correct\n"
     ]
    }
   ],
   "source": [
    "# player guess \n",
    "guess = \"\"\n",
    "num_of_guesses = 0\t\t\t# add guess counter\n",
    "while len(guess) != 5 or not guess.isalpha():\n",
    "\tguess = input(\"Guess a 5-letter word: \")\n",
    "\tnum_of_guesses += 1\t\t# increase number after each guess\n",
    "\tprint(\"number of guesses: \", num_of_guesses)\n",
    "\n",
    "# verify guess \n",
    "if guess == word:\n",
    "\tprint(\"Congrats! You guessed the correct word.\")\n",
    "else:\n",
    "\tprint(\"That's not correct\")"
   ]
  },
  {
   "attachments": {},
   "cell_type": "markdown",
   "id": "e98a9bb9",
   "metadata": {},
   "source": [
    "- Great! Our counter works, but we only want to increase the count when the user guesses a incorrect 5-letter word. We don't want to penalize them otherwise.\n",
    "\n",
    "### Tracking Guess Count: Allowing Multiple Guesses\n",
    "\n",
    "- Since we want our player to continue guessing while they still have guesses left and while the answer they have guessed is incorrect, we need to add another `while-loop` to our code\n",
    "- We will add this loop to allow our guess input to continue cycling, while also keeping track of the number of guesses that the player has entered"
   ]
  },
  {
   "cell_type": "code",
   "execution_count": 38,
   "id": "167bf5f0",
   "metadata": {},
   "outputs": [
    {
     "name": "stdout",
     "output_type": "stream",
     "text": [
      "young\n",
      "Congrats! You guessed the correct word.\n"
     ]
    }
   ],
   "source": [
    "# instantiate variables and constants\n",
    "MAX_NUM_OF_GUESSES = 6\n",
    "num_of_guesses = 0\n",
    "print(word) # so we know what the random_word is\n",
    "\n",
    "while num_of_guesses < MAX_NUM_OF_GUESSES: # add this while loop\n",
    "\t# player guess \n",
    "\tguess = \"\"\n",
    "\twhile len(guess) != 5 or not guess.isalpha():\n",
    "\t\tguess = input(\"Guess a 5-letter word: \")\n",
    "\t\t\n",
    "\t# verify guess \n",
    "\tif guess == word:\n",
    "\t\tprint(\"Congrats! You guessed the correct word.\")\n",
    "\telse:\n",
    "\t\tprint(\"That's not correct\")\n",
    "\t\n",
    "\tnum_of_guesses += 1\t\t\t\t\t\t\t\t# increase guess here\n",
    "\tprint(\"number of guesses: \", num_of_guesses)"
   ]
  },
  {
   "attachments": {},
   "cell_type": "markdown",
   "id": "dde773f9",
   "metadata": {},
   "source": [
    "- there are some final edits we need to make to our game\n",
    "1. Try a case when you guess the right word before you use up all your guesses.\n",
    "- you might notice that the game wants you to continue playing. Thus we need to include a `break` after we win, to break out of the while loop\n",
    "2. We want a final message that says we used up all our guesses if we don't manage to guess the word in 5 tries."
   ]
  },
  {
   "cell_type": "code",
   "execution_count": 46,
   "id": "7b694a87",
   "metadata": {},
   "outputs": [
    {
     "name": "stdout",
     "output_type": "stream",
     "text": [
      "young\n",
      "That's not correct\n",
      "number of guesses:  1\n",
      "That's not correct\n",
      "number of guesses:  2\n",
      "That's not correct\n",
      "number of guesses:  3\n",
      "That's not correct\n",
      "number of guesses:  4\n",
      "That's not correct\n",
      "number of guesses:  5\n",
      "Congrats! You guessed the correct word.\n"
     ]
    }
   ],
   "source": [
    "# instantiate variables and constants\n",
    "MAX_NUM_OF_GUESSES = 6\n",
    "num_of_guesses = 0\n",
    "print(word) # so we know what the random_word is\n",
    "\n",
    "while num_of_guesses < MAX_NUM_OF_GUESSES: \n",
    "\t# player guess \n",
    "\tguess = \"\"\n",
    "\twhile len(guess) != 5 or not guess.isalpha():\n",
    "\t\tguess = input(\"Guess a 5-letter word: \")\n",
    "\t\t\n",
    "\t# verify guess \n",
    "\tif guess == word:\n",
    "\t\tbreak # include break here\n",
    "\telse:\n",
    "\t\tprint(\"That's not correct\")\n",
    "\t\n",
    "\tnum_of_guesses += 1\t\t\t\t\t\t\t\t\n",
    "\tprint(\"number of guesses: \", num_of_guesses)\n",
    "\n",
    "if num_of_guesses < MAX_NUM_OF_GUESSES:\t\t\t\t# check condition  here\n",
    "\tprint(\"Congrats! You guessed the correct word.\")\n",
    "else:\n",
    "\tprint(\"sorry, you used up all your guesses\") "
   ]
  },
  {
   "attachments": {},
   "cell_type": "markdown",
   "id": "c2ec4f84",
   "metadata": {},
   "source": [
    "Altogether, our final code looks something like this"
   ]
  },
  {
   "cell_type": "code",
   "execution_count": 47,
   "id": "18faa6e7",
   "metadata": {},
   "outputs": [
    {
     "name": "stdout",
     "output_type": "stream",
     "text": [
      "whale\n",
      "That's not correct\n",
      "number of guesses:  1\n",
      "Congrats! You guessed the correct word.\n"
     ]
    }
   ],
   "source": [
    "from wonderwords import RandomWord\n",
    "\n",
    "r = RandomWord()\n",
    "word = r.word(word_min_length=5, word_max_length=5)\n",
    "\n",
    "MAX_NUM_OF_GUESSES = 6\n",
    "num_of_guesses = 0\n",
    "\n",
    "print(\"generated word: \" + word)\n",
    "\n",
    "while num_of_guesses < MAX_NUM_OF_GUESSES: \n",
    "\tguess = \"\"\n",
    "\twhile len(guess) != 5 or not guess.isalpha():\n",
    "\t\tguess = input(\"Guess a 5-letter word: \")\n",
    "\t\t\n",
    "\tif guess == word:\n",
    "\t\tbreak \n",
    "\telse:\n",
    "\t\tprint(\"That's not correct\")\n",
    "\t\n",
    "\tnum_of_guesses += 1\t\t\t\t\t\t\t\t\n",
    "\tprint(\"number of guesses: \", num_of_guesses)\n",
    "\n",
    "if num_of_guesses < MAX_NUM_OF_GUESSES:\t\t\t\t\n",
    "\tprint(\"Congrats! You guessed the correct word.\")\n",
    "else:\n",
    "\tprint(\"sorry, you used up all your guesses\") "
   ]
  },
  {
   "attachments": {},
   "cell_type": "markdown",
   "id": "9ef3f9ce",
   "metadata": {},
   "source": [
    "- At this point, it seems we’ve got a working base game 😁 Give yourself a pat on the back, you’ve done a great job!\n",
    "\n",
    "### Exercises\n",
    "\n",
    "- Play around with your game for a bit, try to find any errors or issues that occur\n",
    "    - Keep running the code to generate different words, are there any issues that show up in the console?\n",
    "    - If there is, what do you think the problem might be, based on the error message given?"
   ]
  },
  {
   "attachments": {},
   "cell_type": "markdown",
   "id": "0880485f",
   "metadata": {},
   "source": [
    "## 6. Debugging: Fixing Possible Bugs\n",
    "\n",
    "- `Debugging` your code, also known as quality assurance (QA) is an **extremely important** part of programming - we want our code to be as predictable as possible before moving onto adding more advanced features\n",
    "- We can always add code on top, but every time we do this, we make it much more difficult to fix issues that previously existed since it is harder to pinpoint where the error is coming from\n",
    "    - Sometimes new code we add does not work as intended because of the existing issues\n",
    "    - You can see how it might be difficult to determine if the error lies in our new code or in our existing code — that is why it is important to make sure we check for any bugs beforehand\n",
    "- Were you able to find any bugs in the previous exercise? Don’t be upset if your code isn’t working as intended sometimes, it’s pretty rare to be able to get your code perfect the first time\n",
    "- There are situations called `edge cases` which are unlikely circumstances that happen, that a programmer might not have anticipated — these are the cases where bugs occur most often\n",
    "\n",
    "### Learning to Read Error Messages\n",
    "\n",
    "- Understanding the error messages in the console is another important skill in programming — in fact, you can solve majority of problems as long as you understand certain pieces of information\n",
    "- One of the most valuable pieces of information is the **line number** that is given\n",
    "    - This is the line the error occurs, and your first source of inspection when dealing with bugs\n",
    "- The other valuable piece is the **error name** that is given\n",
    "    - Even if you don’t quite understand what the name means, it gives you a key word that you can google and find further information on\n",
    "- One thing to note is that you don’t necessarily need to solve errors in order. You can try tackling easier ones first!\n",
    "    - We will be going through this error message, and resolving any additional bugs that show"
   ]
  },
  {
   "attachments": {},
   "cell_type": "markdown",
   "id": "a257a372",
   "metadata": {},
   "source": [
    "### Exercises\n",
    "\n",
    "- After solving an error, make sure to check that your solution works by running the program many times and seeing if any additional errors come up"
   ]
  },
  {
   "attachments": {},
   "cell_type": "markdown",
   "id": "b11c956b",
   "metadata": {},
   "source": [
    "# Going further: Adding Correct Letter Hints\n",
    "\n",
    "- Although this game is working, it’s not very playable since once it is extremely difficult to guess the word without any hints\n",
    "- We can continue working on our wordle game to give the player hints when they guess the correct letter in the right spot, in the wrong spot, and when the letter is fully incorrect!"
   ]
  },
  {
   "attachments": {},
   "cell_type": "markdown",
   "id": "b20d6a28",
   "metadata": {},
   "source": [
    "# Feedback Form\n",
    "\n",
    "Please take a moment to provide your thoughts on this module\n",
    "\n",
    "[Module 6b (libraries) - Feedback form](https://docs.google.com/forms/d/e/1FAIpQLSdA9BQdqqvlrba2LiMz2b2FlCVqmKVnGPljMSjktu8eZqtSqQ/viewform?usp=sf_link)"
   ]
  }
 ],
 "metadata": {
  "kernelspec": {
   "display_name": "Python 3",
   "language": "python",
   "name": "python3"
  },
  "language_info": {
   "codemirror_mode": {
    "name": "ipython",
    "version": 3
   },
   "file_extension": ".py",
   "mimetype": "text/x-python",
   "name": "python",
   "nbconvert_exporter": "python",
   "pygments_lexer": "ipython3",
   "version": "3.10.4"
  }
 },
 "nbformat": 4,
 "nbformat_minor": 5
}
