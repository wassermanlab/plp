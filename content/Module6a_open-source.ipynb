{
 "cells": [
  {
   "attachments": {},
   "cell_type": "markdown",
   "id": "be6e25fb",
   "metadata": {},
   "source": [
    "# a. Introduction to Open-Source Libraries\n",
    "\n",
    "<aside>\n",
    "📌 Key points: libraries, bar graph, line plot\n",
    "</aside>\n",
    "\n",
    "\n",
    "# “**Don't Reinvent The Wheel**”\n",
    "\n",
    "- A popular saying amongst programmers is not to reinvent the wheel, referring to the idea that we shouldn’t duplicate methods that already exist\n",
    "- In programming, we often reuse code that others have already created, which is offered for free and publicly distributed as “open-source” resources\n",
    "- We can refer to these code repositories as “libraries”\n",
    "- You may have heard of other programming languages, such as JavaScript, C, and C++. However, one of Python’s greatest strengths is that it has large standard library that comes with built-in functions you can use in your own code!\n",
    "\n",
    "# Using Libraries: Import Statements\n",
    "\n",
    "- In real world terms, a library is a collection of books that are stored and accessed at your own convenience\n",
    "- Similarly, in programming, a library is a collection of precompiled code that can be used in programs for specific operations\n",
    "- In order to use these libraries, we need to:\n",
    "    1.  `import` the library into the code, so your file understands what to use \n",
    "        - `import` tells the user what the custom statements used mean, otherwise, your computer will not know what certain keywords are referring to because it’s not built into Python\n",
    "    2.  `install` the library onto your computer\n",
    "- For this module, we will be focusing solely on MatPlotLib, but there are thousands of open-source libraries out there, which is what makes Python such a popular and useful language!\n",
    "\n",
    "### Why MatPlotLib?\n",
    "\n",
    "- MatPlotLib is one of the most popular 2D data visualization libraries in Python\n",
    "- It is a tool used to graph data visually, and is actually built on other popular libraries, such as NumPy and SciPi. Think of these different libraries like a tree hierarchy, where the roots (ie. other libraries) are the foundation for some of MatPlotLib’s functions\n",
    "- Plots, bar charts, histograms, pie charts, and scatterplots are some of the graphs you can make using MatPlotLib ![MatPlotLib Graphs](images/Untitled.png)"
   ]
  },
  {
   "attachments": {},
   "cell_type": "markdown",
   "id": "f529a234",
   "metadata": {},
   "source": [
    "- Check out the different plots you can make [here](https://matplotlib.org/stable/plot_types/index.html)!\n",
    "\n",
    "# Example 1: Creating A Basic Bar Graph 📊\n",
    "\n",
    "- Bar graphs help to visualize trends and patterns in categorical data\n",
    "    - Some examples of bar graphs might be:\n",
    "        - The number of red, blue, and yellow marbles in a jar\n",
    "        - The favorite ice cream flavour of students in a class of 30\n",
    "        - The number of male and female graduating students for each bachelor’s degree\n",
    "- Let’s begin creating our own bar graph using the example code below!\n",
    "\n",
    "### Example\n",
    "- Copy this code into your IDE and run the code to see what happens"
   ]
  },
  {
   "cell_type": "code",
   "execution_count": 4,
   "id": "93c6e6ee",
   "metadata": {},
   "outputs": [
    {
     "data": {
      "image/png": "[encoded data removed]",
      "text/plain": [
       "<Figure size 640x480 with 1 Axes>"
      ]
     },
     "metadata": {},
     "output_type": "display_data"
    }
   ],
   "source": [
    "# importing matplotlib module \n",
    "from matplotlib import pyplot as plt\n",
    "  \n",
    "# x-axis values\n",
    "x = [5, 2, 9, 4, 7]\n",
    "  \n",
    "# y-axis values\n",
    "y = [10, 5, 8, 4, 2]\n",
    "  \n",
    "# function to plot the bar\n",
    "plt.bar(x,y)\n",
    "  \n",
    "# function to show the plot\n",
    "plt.show()"
   ]
  },
  {
   "attachments": {},
   "cell_type": "markdown",
   "id": "7f638a71",
   "metadata": {},
   "source": [
    "- If nothing appears, it may be that Matplotlib wasn’t installed. If your code runs, you can skip this part, otherwise, follow the 2 steps below.\n",
    "1. We can install Matpltlip with the Python package manager, pip. Open a terminal window on your computer and type: `pip install matplotlib`\n",
    "2. now rerun the above code, and it should work!\n"
   ]
  },
  {
   "attachments": {},
   "cell_type": "markdown",
   "id": "c5a2043a",
   "metadata": {},
   "source": [
    "- Notice how `plt` is called to create the bar graph using `plt.bar(x, y)` and displays it onto your screen using `plt.show()`\n",
    "- Explain to your partner how Python knows which x-axis value corresponds to which y-axis value!\n",
    "\n",
    "### Exercise\n",
    "\n",
    "- Notice how `x` and `y` represent the values of the bars, try changing the values and see what happens when you change `x`, `y`, or both\n",
    "\n",
    "## Adding Titles and Axes Labels\n",
    "\n",
    "- Graphs come with a title and axes labels so that we know what sort of data the graph is trying to summarize\n",
    "\n",
    "### Exercise\n",
    "\n",
    "- You will need the following page to do the next few exercises. [Matplotlib Labels and Title](https://www.w3schools.com/python/matplotlib_labels.asp)"
   ]
  },
  {
   "cell_type": "markdown",
   "id": "5842be82",
   "metadata": {},
   "source": [
    "- Create your own bar graph summarizing whatever data you like. You can use the given examples above for inspiration if you have trouble coming up with your own\n",
    "- Add a title, x-axis label, and y-axis label to your graphs\n",
    "- Try customizing the font, colour, and size of your text so that the graph clearly displays the data and is visually appealing. You can also try changing the location at which the labels are positioned.\n",
    "\n",
    "# Example 2: Creating A Basic Line Plot 📈\n",
    "\n",
    "- Similar to the bar graph, we will be creating our own line plot using the example code below\n",
    "\n",
    "### Example\n",
    "\n",
    "- Once you have run the library installation, you do not need to import it again unless you decide to create a file in a different folder (we will include it here for now)\n",
    "- Run this code and see what is produced!"
   ]
  },
  {
   "cell_type": "code",
   "execution_count": null,
   "id": "c5867be8",
   "metadata": {},
   "outputs": [],
   "source": [
    "# importing matplotlib module \n",
    "from matplotlib import pyplot as plt\n",
    "  \n",
    "# x-axis values\n",
    "x = [5, 2, 9, 4, 7]\n",
    "  \n",
    "# Y-axis values\n",
    "y = [10, 5, 8, 4, 2]\n",
    "  \n",
    "# Function to plot\n",
    "plt.plot(x,y)\n",
    "  \n",
    "# function to show the plot\n",
    "plt.show()"
   ]
  },
  {
   "attachments": {},
   "cell_type": "markdown",
   "id": "ef4219a4",
   "metadata": {},
   "source": [
    "- Notice how `plt` is called to create the line plot using `plt.plot(x, y)` and displays it onto your screen using `plt.show()`, just like the bar graph previously\n",
    "\n",
    "### Exercises\n",
    "\n",
    "- Try changing the values of `x` and `y` to see what happens\n",
    "- Notice how the code is almost identical to the previous bar graph, but looks completely different! Can you figure out what the small difference is between the code of the bar graph vs the line plot?\n",
    "- Give the x and y axes appropriate labels and title your line plot accordingly\n",
    "\n",
    "# Abstraction: A Powerful Tool in Software Design\n",
    "\n",
    "- Abstraction in Python is when unecessary information or parts of code is hidden from the user, essentially running in the background\n",
    "- We don’t always need to know what each line of code does in order to use an already existing function, especially when the function is complex and long\n",
    "- Libraries are examples of function abstraction. We know **what the code does and how to use it**, but we **don’t necessarily need to understand how it works** to use it\n",
    "- This makes things more efficient and less complex\n",
    "\n",
    "# Unit Project — Do Sharks Eat Ice Cream?  🦈\n",
    "\n",
    "After the fifth recorded shark attack on Beach Newport, you were contacted by John, a lifeguard that works at the beach, to conduct an investigation into the incident. Once there, you noticed the sheer amount of ice cream stalls located around the perimeter of the beach 🏖️. \n",
    "\n",
    "John comes up to you and says: “It’s crazy. They were all just eating ice cream and having fun before they got attacked!” Thinking to yourself that this is a most peculiar coincidence, you decide to collect data on the number of ice cream sales and the number of shark attacks that occurred each month throughout the year. \n",
    "\n",
    "What if, you thought, sharks were being baited by the beachgoers’ irresistable ice cream treats 🍦? After a year of fruitful investigation, this is the data that you’ve gathered:\n",
    "\n",
    "| Month | # of ice cream sales | # of shark attacks |\n",
    "| --- | --- | --- |\n",
    "| January | 8 | 0 |\n",
    "| February | 10 | 0 |\n",
    "| March | 11 | 1 |\n",
    "| April | 14 | 1 |\n",
    "| May | 20 | 2 |\n",
    "| June | 50 | 4 |\n",
    "| July | 90 | 7 |\n",
    "| August | 120 | 9 |\n",
    "| September | 100 | 5 |\n",
    "| October | 30 | 3 |\n",
    "| November | 25 | 1 |\n",
    "| December | 5 | 0 |\n",
    "\n",
    "Using your newly gained knowledge of MatPlotLib, you are going to find out whether there is any basis to the correlation that you’ve made between ice cream and sharks. Do sharks just enjoy ice cream 🤔? \n",
    "\n",
    "Here are some things to consider:\n",
    "\n",
    "- What sort of plot/graph would represent this data most effectively?\n",
    "- Note how there are now two variables we need to plot — the number of ice cream sold and the number of shark attacks\n",
    "    - How can we distinguish between the two sets of data clearly (think of colours, markers, legends, text size, etc.)?\n",
    "    \n",
    "\n",
    "You print out your graph and eagerly rush down to Beach Newport to inform John of your conclusion. \n",
    "\n",
    "Based on your graph, what news do you bring to him? Choose one of the following.\n",
    "\n",
    "1. Sharks eat ice cream 😎\n",
    "2. Sharks are lactose intolerant 😔 \n",
    "\n",
    "This is a clear example of how correlation does not equal causation. Despite the strong correlation between the number of ice cream sold and shark attacks each month, they are not actually causing one another. A more plausible reason is that during the warmer months, more people are likely to visit the beach and buy ice cream, thus increasing the chances of a shark attack occuring. The confounding variable in this scenario is the climate. \n",
    "\n",
    "Although graphs appear objective at first, it is important to keep in mind that they can be manipulated and may not represent the full picture!"
   ]
  },
  {
   "cell_type": "markdown",
   "id": "f887a8b5",
   "metadata": {},
   "source": [
    "# Feedback Form\n",
    "\n",
    "Please take a moment to provide your thoughts on this module\n",
    "\n",
    "[Module 6a (libraries) - Feedback form](https://docs.google.com/forms/d/e/1FAIpQLSeQqfdUMYsraNknDY8ISkCtIVXBoU_rZ-Bg1L-mGRLiil5oDQ/viewform?usp=sf_link)\n",
    "\n",
    "# Further Readings / Additional Content\n",
    "\n",
    "Check out this website for other fun and wacky correlations!\n",
    "\n",
    "[15 Insane Things That Correlate With Each Other](https://www.tylervigen.com/spurious-correlations)\n",
    "\n",
    "Scroll through the left side legend of this website to find out more ways in which you can customize your graphs/plots! \n",
    "\n",
    "[Matplotlib Tutorial](https://www.w3schools.com/python/matplotlib_intro.asp)\n",
    "\n",
    "[Understanding Abstraction in Python - AskPython](https://www.askpython.com/python/oops/abstraction-in-python)\n",
    "\n",
    "Skim these websites if you like! (no need to go in detail)\n",
    "\n",
    "[The Python Standard Library - Python 3.10.5 documentation](https://docs.python.org/3/library/)\n",
    "\n",
    "Object Oriented Programming (OOP)\n",
    "\n",
    "[Python Object Oriented Programming](https://www.programiz.com/python-programming/object-oriented-programming)"
   ]
  }
 ],
 "metadata": {
  "kernelspec": {
   "display_name": "Python 3",
   "language": "python",
   "name": "python3"
  },
  "language_info": {
   "codemirror_mode": {
    "name": "ipython",
    "version": 3
   },
   "file_extension": ".py",
   "mimetype": "text/x-python",
   "name": "python",
   "nbconvert_exporter": "python",
   "pygments_lexer": "ipython3",
   "version": "3.10.4"
  }
 },
 "nbformat": 4,
 "nbformat_minor": 5
}
