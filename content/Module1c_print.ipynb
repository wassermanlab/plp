{
  "cells": [
    {
      "attachments": {},
      "cell_type": "markdown",
      "id": "7543fb1c",
      "metadata": {},
      "source": [
        "# 1c. Print Statements and Inputs\n",
        "\n",
        "<aside>\n",
        "📌 Key points: print statements, concatenation of strings, inputting values\n",
        "</aside>\n",
        "\n",
        "\n",
        "# Print Statements\n",
        "\n",
        "- Previously, we learned about how different values of strings can be assigned to variable names, such as: `name = “John”` or `name = 'John'`\n",
        "- We know that the computer knows that, but how would other people see the name that you assigned to the variable?\n",
        "- A great way to display things on the *console* (area where any outputs will be shown) is to use something called **print statements**\n",
        "- For example, copy these lines of code into your IDE and run it to see what shows up:"
      ]
    },
    {
      "cell_type": "code",
      "execution_count": null,
      "id": "f032fc03",
      "metadata": {},
      "outputs": [],
      "source": [
        "print(\"Hello World\")"
      ]
    },
    {
      "cell_type": "code",
      "execution_count": null,
      "id": "c344fe89",
      "metadata": {},
      "outputs": [],
      "source": [
        "print('The weather is rainy again today')"
      ]
    },
    {
      "attachments": {},
      "cell_type": "markdown",
      "id": "83b33dfb",
      "metadata": {},
      "source": [
        "- We can see how the text we have entered inside the quotation marks (””) or apostrophes (’’) end up getting displayed in our IDE, called the *console*\n",
        "\n",
        "## Syntax\n",
        "\n",
        "- Try implementing your own `print` statements using the following syntax:"
      ]
    },
    {
      "cell_type": "code",
      "execution_count": null,
      "id": "68e3a4b5",
      "metadata": {},
      "outputs": [],
      "source": [
        "print(\"text goes here\")"
      ]
    },
    {
      "cell_type": "code",
      "execution_count": null,
      "id": "a3428d40",
      "metadata": {},
      "outputs": [],
      "source": [
        "print('text goes here')"
      ]
    },
    {
      "attachments": {},
      "cell_type": "markdown",
      "id": "c3937ad0",
      "metadata": {},
      "source": [
        "- For the statement to display properly, there must be a pair of quotation marks `''` or apostrophes `\"\"` surrounding what you would like to print\n",
        "- You can also input nothing into the print statement, which creates a new line space, similar to if you hit enter for a new paragraph on a text editor — try this out!"
      ]
    },
    {
      "cell_type": "code",
      "execution_count": null,
      "id": "b3d7a869",
      "metadata": {},
      "outputs": [],
      "source": [
        "# prints a blank line\n",
        "\n",
        "print()"
      ]
    },
    {
      "cell_type": "code",
      "execution_count": null,
      "id": "af5881e7",
      "metadata": {},
      "outputs": [],
      "source": [
        "# you can see the space between \"Hello\" and \"World\" \n",
        "\n",
        "print(\"Hello\")\n",
        "print()\n",
        "print(\"World\")"
      ]
    },
    {
      "attachments": {},
      "cell_type": "markdown",
      "id": "24a17a96",
      "metadata": {},
      "source": [
        "- Using what we’ve learned about variables in the previous module, we can even declare a string variable, store a message, and use the variable name to print it out!"
      ]
    },
    {
      "cell_type": "code",
      "execution_count": null,
      "id": "494cc194",
      "metadata": {},
      "outputs": [],
      "source": [
        "message = \"This whole message can be printed by just typing in the variable name\"\n",
        "another_message = 'Try this out yourself!'\n",
        "\n",
        "print(message)\n",
        "print(another_message)"
      ]
    },
    {
      "attachments": {},
      "cell_type": "markdown",
      "id": "b0e17639",
      "metadata": {},
      "source": [
        "## Exercises\n",
        "\n",
        "- Create some print statements that introduce yourself! Write your name, what grade you’re\n",
        "in, and any hobbies/interests\n",
        "    - If you’re stuck, you can try out this template to give yourself a start."
      ]
    },
    {
      "cell_type": "code",
      "execution_count": null,
      "id": "d7efdaf8",
      "metadata": {},
      "outputs": [],
      "source": [
        "print(\"Hi everyone! My name is ________\")\n",
        "print(\"I'm in grade ___ and I like to do __________ in my free time\")"
      ]
    },
    {
      "attachments": {},
      "cell_type": "markdown",
      "id": "50d2ca67",
      "metadata": {},
      "source": [
        "- Try putting some of these values in variables and then using the variable names in your introduction message. Are you able to create the same print outputs?\n",
        "- What do you think the advantage of putting things in variables is versus writing everything out?\n",
        "\n",
        "## String Formatting\n",
        "\n",
        "- Along with letters and numbers, we might want to be able to format our strings in different ways, like adding new lines or new spaces without manually doing these things in our print statements\n",
        "- Additionally, what do we do if we want to use quotation marks in our `print` statement?\n",
        "    - Try printing a message that contains quotations marks, see what happens\n",
        "    - You will notice that an error message is given, since python uses quotations as a special character to declare strings!\n",
        "- In order to use special characters and add new lines/spaces, we need to use the escape character `\\` in our strings to have it print out what we would like:\n",
        "\n",
        "| String Formatting | Special Character | Usage Example | Output Example |\n",
        "| --- | --- | --- | --- |\n",
        "| New Line  | \\n | “123\\n45” | 123\n",
        "45 |\n",
        "| Tab Space | \\t | \"123\\t45” | 123        45 |\n",
        "| Backslash | \\\\ | \"123\\\\45” | 123\\45 |\n",
        "| Quotation | \\” | \"123\\”Hello\\”45” | 122”Hello”45 |\n",
        "| Multiple Lines | “” and “” | “Hello”\n",
        "”World” | Hello\n",
        "World |\n",
        "- If we want our strings to span multiple lines, we can enclose each line in its own double quote, for example:"
      ]
    },
    {
      "cell_type": "code",
      "execution_count": null,
      "id": "5a6ae6c7",
      "metadata": {},
      "outputs": [],
      "source": [
        "# strings can span multiple lines\n",
        "\n",
        "print(\"You can break up long strings\"\n",
        "      \" into multiple lines, but \"\n",
        "        \"remember to include spaces\")"
      ]
    },
    {
      "cell_type": "code",
      "execution_count": null,
      "id": "4efc463d",
      "metadata": {},
      "outputs": [],
      "source": [
        "# combining ' and \" to print\n",
        "\n",
        "print('\"This will show as a quote\"')\n",
        "print(\"'This will show in apostrophes'\")\n",
        "print(\"\\\"Using escape before works too\\\"\")"
      ]
    },
    {
      "attachments": {},
      "cell_type": "markdown",
      "id": "41530c0b",
      "metadata": {},
      "source": [
        "# Concatenation of Strings\n",
        "\n",
        "- When we merge two strings together, we call this string concatenation\n",
        "- There are many ways to combine strings together to print out word combinations or even create entirely new strings that can be stored in different variables!\n",
        "- We can use different operators to concatenate strings. Try running the following blocks of code and explain what they do. If you encounter any errors, try to explain why."
      ]
    },
    {
      "cell_type": "code",
      "execution_count": null,
      "id": "6d24d19d",
      "metadata": {},
      "outputs": [],
      "source": [
        "print(\"Hello \" + \"World\")"
      ]
    },
    {
      "cell_type": "code",
      "execution_count": null,
      "id": "1193c59e",
      "metadata": {},
      "outputs": [],
      "source": [
        "str1=\"Hello\"\n",
        "str2=\"World\"\n",
        "\n",
        "str=str1+str2\n",
        "\n",
        "print(str)"
      ]
    },
    {
      "cell_type": "code",
      "execution_count": null,
      "id": "34ffa461",
      "metadata": {},
      "outputs": [],
      "source": [
        "print(\"Hi\"*4)"
      ]
    },
    {
      "cell_type": "code",
      "execution_count": null,
      "id": "5409b504",
      "metadata": {},
      "outputs": [],
      "source": [
        "print(5 + \"1\")"
      ]
    },
    {
      "attachments": {},
      "cell_type": "markdown",
      "id": "399a166a",
      "metadata": {},
      "source": [
        "# The `input()` function\n",
        "\n",
        "- The `input()` function is one of Python’s many built-in functions\n",
        "- It allows user input\n",
        "- The syntax of the function is `input(*prompt*)` where the prompt is a `String`\n",
        "- Take a look at the following examples\n",
        "\n",
        "💡 JupyterLite's Pyodide kernel (the runtime environment where your code is being executed) is a little different from a normal Python environment. When dealing with `input()` in your code, you will notice an error. Try running the following example\n",
        "\n",
        "**Example 1**"
      ]
    },
    {
      "cell_type": "code",
      "execution_count": null,
      "id": "9d86eef5",
      "metadata": {},
      "outputs": [],
      "source": [
        "day = input(\"What day is it today?:\")\n",
        "print(\"Today is\" + \" \" + day)"
      ]
    },
    {
      "attachments": {},
      "cell_type": "markdown",
      "id": "bfdbbf72",
      "metadata": {},
      "source": [
        "In a normal Python environment, this code would have ran as expected. However, Pyodide returns a TypeError, saying that our input is of type `Future`. The Future object is the eventual result of an asynchronous operation, such as a user's input.\n",
        "\n",
        "For this course, we will use the `result()` method as a temporary fix. `result()` returns the result of a Future object. In the above example, result() will return the variable `day` as a string. Take a look at our new version of the code. We will also split the lines into their own code cells, to ensure the user can input the answer before the following lines of code are executed. "
      ]
    },
    {
      "cell_type": "code",
      "execution_count": 1,
      "id": "c54c6b71",
      "metadata": {},
      "outputs": [],
      "source": [
        "day = input(\"What day is it today?:\")"
      ]
    },
    {
      "cell_type": "code",
      "execution_count": 2,
      "id": "474e49cf",
      "metadata": {},
      "outputs": [
        {
          "ename": "AttributeError",
          "evalue": "'str' object has no attribute 'result'",
          "output_type": "error",
          "traceback": [
            "\u001b[0;31m---------------------------------------------------------------------------\u001b[0m",
            "\u001b[0;31mAttributeError\u001b[0m                            Traceback (most recent call last)",
            "Cell \u001b[0;32mIn[2], line 1\u001b[0m\n\u001b[0;32m----> 1\u001b[0m \u001b[39mprint\u001b[39m(\u001b[39m\"\u001b[39m\u001b[39mToday is\u001b[39m\u001b[39m\"\u001b[39m \u001b[39m+\u001b[39m \u001b[39m\"\u001b[39m\u001b[39m \u001b[39m\u001b[39m\"\u001b[39m \u001b[39m+\u001b[39m day\u001b[39m.\u001b[39;49mresult()) \u001b[39m# add the result() method\u001b[39;00m\n\u001b[1;32m      2\u001b[0m \u001b[39mtype\u001b[39m(day\u001b[39m.\u001b[39mresult())\n",
            "\u001b[0;31mAttributeError\u001b[0m: 'str' object has no attribute 'result'"
          ]
        }
      ],
      "source": [
        "print(\"Today is\" + \" \" + day.result()) # added the result() method"
      ]
    },
    {
      "attachments": {},
      "cell_type": "markdown",
      "id": "aefd2073",
      "metadata": {},
      "source": [
        "**Example 2**"
      ]
    },
    {
      "cell_type": "code",
      "execution_count": null,
      "id": "37a314cc",
      "metadata": {},
      "outputs": [],
      "source": [
        "before_tax = input(\"How much does a milkshake cost? (approximately):\")\n",
        "tax = 1.05\n",
        "total_after_tax = tax * float(before_tax.result()) # note how we use result() here\n",
        "print(\"Your milkshake after tax is \" + \"$\" + str(total_after_tax))"
      ]
    },
    {
      "attachments": {},
      "cell_type": "markdown",
      "id": "e581a1e5",
      "metadata": {},
      "source": [
        "# Feedback Form\n",
        "\n",
        "Please take a moment to provide your thoughts on this Module 1a.\n",
        "\n",
        "[Module 1c (Using and Displaying Data: Print Statements and Inputs) - Feedback form](https://docs.google.com/forms/d/e/1FAIpQLSfI_-IodU6mbMNONS5Qd33Tt4lEGB1s1LKl3x2tv6cs8VOISQ/viewform?usp=sf_link)"
      ]
    }
  ],
  "metadata": {
    "kernelspec": {
      "display_name": "Python 3",
      "language": "python",
      "name": "python3"
    },
    "language_info": {
      "codemirror_mode": {
        "name": "ipython",
        "version": 3
      },
      "file_extension": ".py",
      "mimetype": "text/x-python",
      "name": "python",
      "nbconvert_exporter": "python",
      "pygments_lexer": "ipython3",
      "version": "3.10.4"
    }
  },
  "nbformat": 4,
  "nbformat_minor": 5
}
