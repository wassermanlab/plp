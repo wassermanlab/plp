{
 "cells": [
  {
   "attachments": {},
   "cell_type": "markdown",
   "metadata": {},
   "source": [
    "\n",
    "# Welcome!\n",
    "\n",
    "\n"
   ]
  },
  {
   "attachments": {},
   "cell_type": "markdown",
   "metadata": {},
   "source": [
    "We are so happy to have you join our introductory Python programming course. In this online course, we'll equip you with the fundamental concepts, syntax, and problem-solving techniques needed to write Python programs. This will provide you with a solid foundation for your future programming endeavours, regardless of the programming language or topic. \n",
    "\n",
    "Python is an excellent choice for your first programming language due to its simplicity, readability, and versatility that caters to beginners and experts alike. Python is also known for its extensive collection of libraries and frameworks and can be used for web development, data analysis, and machine learning, and much more. Python's popularity opens up numerous career opportunities and you will benefit from a supportive community who's ready to assist you with your journey.\n",
    "\n",
    "In the upcoming weeks, you will be exploring various topics, including learning how and when to use different data types, writing functions to solve problems, exploring different Python libraries, and writing small programs. This course is designed for students without a background in programming, so don’t worry if some or all of these terms are brand new to you! Once we dive into the material, you’ll get the hang of these concepts through guided exercises and activities. \n",
    "\n",
    "While the suggested pace is to complete one module per week, feel free to proceed at your own speed. You may notice the initial modules to go by relatively quickly, but we have many fun projects planned in the later modules that may require more time. We recommend ensuring a solid understanding of each module before moving forward, as concepts will build upon one another, but you'll have many opportunities to review your knowledge.\n",
    "\n",
    "Happy coding!\n",
    "\n",
    "\\- Python Learning Team"
   ]
  }
 ],
 "metadata": {
  "language_info": {
   "name": "python"
  },
  "orig_nbformat": 4
 },
 "nbformat": 4,
 "nbformat_minor": 2
}
