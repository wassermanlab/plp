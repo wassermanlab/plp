{
  "cells": [
    {
      "cell_type": "markdown",
      "id": "90d0843f",
      "metadata": {},
      "source": [
        "# Introduction to Variables: Number Data Types\n",
        "\n",
        "# New Data Type: `int`s and `float`s\n",
        "\n",
        "- In the last module we introduced `str`(strings),  which are messages surrounded by quotation marks that represent text\n",
        "- What if instead of words or text, we wanted to represent a number, like 0, 100, or 3.14?\n",
        "- Python stores its numbers in many different types — we'll be exploring two of those: `int` and `float`\n",
        "\n",
        "## `int` Data Type\n",
        "\n",
        "### What is an `int`?\n",
        "\n",
        "- `int`s, also known as an integer, represent non-decimal numbers\n",
        "- Unlike `str`, they do not need to be surrounded by quotation marks and can simply be left on their own\n",
        "\n",
        "### Examples of the `int` Data Type"
      ]
    },
    {
      "cell_type": "code",
      "execution_count": null,
      "id": "a5afe1ab",
      "metadata": {},
      "outputs": [],
      "source": [
        "3\n",
        "0\n",
        "-10\n",
        "456123911235"
      ]
    },
    {
      "cell_type": "markdown",
      "id": "7126cb8e",
      "metadata": {},
      "source": [
        "In fact, just like with `str` we can assign data of type `int` to a variable"
      ]
    },
    {
      "cell_type": "code",
      "execution_count": null,
      "id": "0ffd1f96",
      "metadata": {},
      "outputs": [],
      "source": [
        "x = 3\n",
        "y = 0\n",
        "degrees_in_celsius = -10\n",
        "burgers_eaten = 456123911235"
      ]
    },
    {
      "cell_type": "markdown",
      "id": "c0cc2f1d",
      "metadata": {},
      "source": [
        "## `float` Data Type\n",
        "\n",
        "### What is a `float`?\n",
        "\n",
        "- `float`s represent all numbers, including decimal numbers\n",
        "\n",
        "### Examples of the `float` Data Type\n",
        "\n",
        "For example, the following are data of `float` type:"
      ]
    },
    {
      "cell_type": "code",
      "execution_count": null,
      "id": "ffe10d66",
      "metadata": {},
      "outputs": [],
      "source": [
        "x = 3.0\n",
        "y = 0.00\n",
        "degrees_in_celsius = -10.48129982\n",
        "pizza_slices_eaten = 456123911235.2"
      ]
    },
    {
      "cell_type": "markdown",
      "id": "f7baacf1",
      "metadata": {},
      "source": [
        "### Exercise:\n",
        "\n",
        "Which of the following are `int`s? Which are `float`s?"
      ]
    },
    {
      "cell_type": "code",
      "execution_count": null,
      "id": "4fd04f5c",
      "metadata": {},
      "outputs": [],
      "source": [
        "a = 4.5\n",
        "b = 4.0\n",
        "c = 4\n",
        "d = \"2.9\"\n",
        "e = -4.5\n",
        "f = -4"
      ]
    },
    {
      "cell_type": "markdown",
      "id": "5eb5b4ff",
      "metadata": {},
      "source": [
        "# Casting\n",
        "\n",
        "### Why use casting?\n",
        "\n",
        "- As a motivating example, consider a program that takes in two different numbers as inputs and prints their sum\n",
        "- We might write something like this:"
      ]
    },
    {
      "cell_type": "code",
      "execution_count": 1,
      "id": "c708e4a7",
      "metadata": {},
      "outputs": [
        {
          "name": "stdout",
          "output_type": "stream",
          "text": [
            "12\n"
          ]
        }
      ],
      "source": [
        "num_1 = input(\"Enter one number: \")\n",
        "num_2 = input(\"Enter another number: \")\n",
        "print(num_1 + num_2)"
      ]
    },
    {
      "attachments": {},
      "cell_type": "markdown",
      "id": "329a5c63",
      "metadata": {},
      "source": [
        "What do you think will print if you put `3` and `4`? We want the program to print `7`, but it actually prints `34`. Why?\n",
        "\n",
        "- Try using the function `type()` around a variable (or data) to see what type it is!"
      ]
    },
    {
      "attachments": {},
      "cell_type": "markdown",
      "id": "3a71f70c",
      "metadata": {},
      "source": [
        "We notice that our inputs are of the `string` type and not a number data type\n",
        "- Instead of adding the numbers, we are performing **concatenation** where we combine strings\n",
        "\n",
        "How can we add the two inputs?\n",
        "- We can **cast** them into `int`s"
      ]
    },
    {
      "cell_type": "markdown",
      "id": "a74fae82",
      "metadata": {},
      "source": [
        "## Casting\n",
        "\n",
        "- Casting is the process of transforming data from one variable type to another\n",
        "- In Python, we cast to a specific type using the format `data_type(data)`\n",
        "\n",
        "### Exercise\n",
        "\n",
        "Try running the following code. What data type is the code going to and from?"
      ]
    },
    {
      "cell_type": "code",
      "execution_count": 4,
      "id": "489f0f31",
      "metadata": {},
      "outputs": [
        {
          "data": {
            "text/plain": [
              "2"
            ]
          },
          "execution_count": 4,
          "metadata": {},
          "output_type": "execute_result"
        }
      ],
      "source": [
        "int(2)   "
      ]
    },
    {
      "cell_type": "code",
      "execution_count": 5,
      "id": "74007680",
      "metadata": {},
      "outputs": [
        {
          "data": {
            "text/plain": [
              "2"
            ]
          },
          "execution_count": 5,
          "metadata": {},
          "output_type": "execute_result"
        }
      ],
      "source": [
        "int(\"2\") "
      ]
    },
    {
      "cell_type": "code",
      "execution_count": 6,
      "id": "66a0dece",
      "metadata": {},
      "outputs": [
        {
          "data": {
            "text/plain": [
              "2"
            ]
          },
          "execution_count": 6,
          "metadata": {},
          "output_type": "execute_result"
        }
      ],
      "source": [
        "int(2.9) "
      ]
    },
    {
      "cell_type": "markdown",
      "id": "844b1920",
      "metadata": {},
      "source": [
        "- If we try casting our variables to `int` and check the type, we see"
      ]
    },
    {
      "cell_type": "code",
      "execution_count": 9,
      "id": "ac08e9dc",
      "metadata": {},
      "outputs": [
        {
          "data": {
            "text/plain": [
              "int"
            ]
          },
          "execution_count": 9,
          "metadata": {},
          "output_type": "execute_result"
        }
      ],
      "source": [
        "type(int(num_1))"
      ]
    },
    {
      "cell_type": "code",
      "execution_count": 10,
      "id": "f6a78d8b",
      "metadata": {},
      "outputs": [
        {
          "data": {
            "text/plain": [
              "int"
            ]
          },
          "execution_count": 10,
          "metadata": {},
          "output_type": "execute_result"
        }
      ],
      "source": [
        "type(int(num_2))"
      ]
    },
    {
      "cell_type": "markdown",
      "id": "4d9d5b92",
      "metadata": {},
      "source": [
        "- We can also cast individual data before being assigned to variables, so to fix our original code we can cast the input to an `int` before assigning it to a variable"
      ]
    },
    {
      "cell_type": "code",
      "execution_count": 2,
      "id": "c598e59c",
      "metadata": {},
      "outputs": [
        {
          "name": "stdout",
          "output_type": "stream",
          "text": [
            "3\n"
          ]
        }
      ],
      "source": [
        "num_1 = int(input(\"Enter one number: \"))\n",
        "num_2 = int(input(\"Enter another number: \"))\n",
        "print(num_1 + num_2)"
      ]
    },
    {
      "cell_type": "markdown",
      "id": "b243c516",
      "metadata": {},
      "source": [
        "## Different forms of casting\n",
        "\n",
        "- Based on the different data types we’ve seen so far, we can change the variable type in different ways\n",
        "\n",
        "### `str()`\n",
        "\n",
        "- Changing from the number to string representation is easy!\n",
        "- If we pass in the number it just changes it to a string, essentially adding quotation marks to all the numbers"
      ]
    },
    {
      "cell_type": "code",
      "execution_count": 11,
      "id": "d565c293",
      "metadata": {},
      "outputs": [
        {
          "data": {
            "text/plain": [
              "'3'"
            ]
          },
          "execution_count": 11,
          "metadata": {},
          "output_type": "execute_result"
        }
      ],
      "source": [
        "str(3)"
      ]
    },
    {
      "cell_type": "code",
      "execution_count": null,
      "id": "8f6885e2",
      "metadata": {},
      "outputs": [],
      "source": [
        "str(3.14)"
      ]
    },
    {
      "cell_type": "markdown",
      "id": "810c5344",
      "metadata": {},
      "source": [
        "### `float()`\n",
        "\n",
        "- If you are casting from an `int` to a `float`, it simply adds a decimal point and a 0 at the end"
      ]
    },
    {
      "cell_type": "code",
      "execution_count": 12,
      "id": "1510fac9",
      "metadata": {},
      "outputs": [
        {
          "data": {
            "text/plain": [
              "3.0"
            ]
          },
          "execution_count": 12,
          "metadata": {},
          "output_type": "execute_result"
        }
      ],
      "source": [
        "float(3)"
      ]
    },
    {
      "cell_type": "markdown",
      "id": "e930b1c7",
      "metadata": {},
      "source": [
        "- If you are casting from a `str` to a `float`, it’ll get rid of the quotation marks"
      ]
    },
    {
      "cell_type": "code",
      "execution_count": 13,
      "id": "b786ebac",
      "metadata": {},
      "outputs": [
        {
          "data": {
            "text/plain": [
              "3.0"
            ]
          },
          "execution_count": 13,
          "metadata": {},
          "output_type": "execute_result"
        }
      ],
      "source": [
        "float('3')"
      ]
    },
    {
      "cell_type": "code",
      "execution_count": 14,
      "id": "903569cc",
      "metadata": {},
      "outputs": [
        {
          "data": {
            "text/plain": [
              "3.4"
            ]
          },
          "execution_count": 14,
          "metadata": {},
          "output_type": "execute_result"
        }
      ],
      "source": [
        "float('3.4')"
      ]
    },
    {
      "cell_type": "markdown",
      "id": "63608308",
      "metadata": {},
      "source": [
        "- But be careful, if the contents contain anything that makes it not possible to be a float, Python will run into an error!"
      ]
    },
    {
      "cell_type": "code",
      "execution_count": 15,
      "id": "17e1e445",
      "metadata": {},
      "outputs": [
        {
          "ename": "ValueError",
          "evalue": "could not convert string to float: 'hi'",
          "output_type": "error",
          "traceback": [
            "\u001b[0;31m---------------------------------------------------------------------------\u001b[0m",
            "\u001b[0;31mValueError\u001b[0m                                Traceback (most recent call last)",
            "Cell \u001b[0;32mIn[15], line 1\u001b[0m\n\u001b[0;32m----> 1\u001b[0m \u001b[39mfloat\u001b[39;49m(\u001b[39m'\u001b[39;49m\u001b[39mhi\u001b[39;49m\u001b[39m'\u001b[39;49m)\n",
            "\u001b[0;31mValueError\u001b[0m: could not convert string to float: 'hi'"
          ]
        }
      ],
      "source": [
        "float('hi')"
      ]
    },
    {
      "cell_type": "markdown",
      "id": "10964e4d",
      "metadata": {},
      "source": [
        "### `int()`\n",
        "\n",
        "- If you are casting from a `float` to an `int`, Python just cuts off everything from the decimal point onwards, meaning all the numbers would be rounded down"
      ]
    },
    {
      "cell_type": "code",
      "execution_count": 16,
      "id": "4d343dc8",
      "metadata": {},
      "outputs": [
        {
          "data": {
            "text/plain": [
              "3"
            ]
          },
          "execution_count": 16,
          "metadata": {},
          "output_type": "execute_result"
        }
      ],
      "source": [
        "int(3.14)"
      ]
    },
    {
      "cell_type": "markdown",
      "id": "5a4cdc91",
      "metadata": {},
      "source": [
        "- Casting from a `str` to an `int` is similar to that of a  `str` to a `float`, but your string needs to only include digits to be casted successfully"
      ]
    },
    {
      "cell_type": "code",
      "execution_count": null,
      "id": "ec9f42b2",
      "metadata": {},
      "outputs": [],
      "source": [
        "int('3')"
      ]
    },
    {
      "cell_type": "code",
      "execution_count": 18,
      "id": "2e288127",
      "metadata": {},
      "outputs": [
        {
          "ename": "ValueError",
          "evalue": "invalid literal for int() with base 10: '3.0'",
          "output_type": "error",
          "traceback": [
            "\u001b[0;31m---------------------------------------------------------------------------\u001b[0m",
            "\u001b[0;31mValueError\u001b[0m                                Traceback (most recent call last)",
            "Cell \u001b[0;32mIn[18], line 1\u001b[0m\n\u001b[0;32m----> 1\u001b[0m \u001b[39mint\u001b[39;49m(\u001b[39m'\u001b[39;49m\u001b[39m3.0\u001b[39;49m\u001b[39m'\u001b[39;49m)\n",
            "\u001b[0;31mValueError\u001b[0m: invalid literal for int() with base 10: '3.0'"
          ]
        }
      ],
      "source": [
        "int('3.0')"
      ]
    },
    {
      "cell_type": "code",
      "execution_count": 17,
      "id": "fbc1dd4b",
      "metadata": {},
      "outputs": [
        {
          "ename": "ValueError",
          "evalue": "invalid literal for int() with base 10: 'hi'",
          "output_type": "error",
          "traceback": [
            "\u001b[0;31m---------------------------------------------------------------------------\u001b[0m",
            "\u001b[0;31mValueError\u001b[0m                                Traceback (most recent call last)",
            "Cell \u001b[0;32mIn[17], line 1\u001b[0m\n\u001b[0;32m----> 1\u001b[0m \u001b[39mint\u001b[39;49m(\u001b[39m'\u001b[39;49m\u001b[39mhi\u001b[39;49m\u001b[39m'\u001b[39;49m)\n",
            "\u001b[0;31mValueError\u001b[0m: invalid literal for int() with base 10: 'hi'"
          ]
        }
      ],
      "source": [
        "int('hi')"
      ]
    },
    {
      "cell_type": "markdown",
      "id": "0dbae461",
      "metadata": {},
      "source": [
        "# Project: Calculator\n",
        "\n",
        "**Step 1:** Ask for 3 inputs and store them in 3 separate variables: the first number, the second number, and the operator \n",
        "\n",
        "**Step 2:** Calculate the value using `eval()`. You learn how to use it [here](https://www.programiz.com/python-programming/methods/built-in/eval)\n",
        "\n",
        "**Step 3:** Print back their evaluated number in the form of an equation.\n",
        "\n",
        "Examples of your calculator:\n",
        "\n",
        "| first number | second number | operator | output |\n",
        "| --- | --- | --- | --- |\n",
        "| 1 | 2 | + | 1 + 2 = 3 |\n",
        "| 100 |  0.5 | * | 100 * 0.5 = 50.0 |\n",
        "\n",
        "# Feedback Form\n",
        "\n",
        "Please take a moment to provide your thoughts on this module.\n",
        "\n",
        "[Module 2 (Number data types) - Feedback form](https://docs.google.com/forms/d/e/1FAIpQLSdQEOcTyQP3hMC_8hOWPoAxNtIZawz2Yq6i37NL-m5K30y5Lw/viewform?usp=sf_link)"
      ]
    }
  ],
  "metadata": {
    "kernelspec": {
      "display_name": "Python 3",
      "language": "python",
      "name": "python3"
    },
    "language_info": {
      "codemirror_mode": {
        "name": "ipython",
        "version": 3
      },
      "file_extension": ".py",
      "mimetype": "text/x-python",
      "name": "python",
      "nbconvert_exporter": "python",
      "pygments_lexer": "ipython3",
      "version": "3.10.4"
    }
  },
  "nbformat": 4,
  "nbformat_minor": 5
}
