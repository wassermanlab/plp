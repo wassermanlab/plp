{
 "cells": [
  {
   "cell_type": "markdown",
   "id": "aea2706b",
   "metadata": {},
   "source": [
    "# Module 4\n",
    "\n",
    "# Margaret Hamilton\n",
    "\n",
    "- As we begin designing, developing, and testing code, we are becoming software engineers\n",
    "- Software engineering is a field of engineering for designing and writing programs for computers or other electronic devices\n",
    "- One of the most renowned software engineers is Margaret Hamilton, who led the NASA Software Team that took humans to the moon\n",
    "- She is one of the people credited with coining the term \"software engineering”\n",
    "- When the Apollo missions were planned, the process of writing code began on large sheets of paper. Here is Margaret standing next to the code she wrote\n",
    "\n",
    "![Untitled](Python%20Learning%20-%20Useful%20Links%20Resources%2000b79b353feb40c29a5ba43a7a1c5e25/Modules%208325427536c941ad87910bb453b2969b/Module%204%2005b2a8ab34324a689d1c8567f1870b4f/Untitled.png)\n",
    "\n",
    "# Chapter Summary\n",
    "\n",
    "- [While Loops](https://www.notion.so/Module-4-05b2a8ab34324a689d1c8567f1870b4f)\n",
    "- [For Loops](https://www.notion.so/Module-4-05b2a8ab34324a689d1c8567f1870b4f)\n",
    "- [Range](https://www.notion.so/Module-4-05b2a8ab34324a689d1c8567f1870b4f)\n",
    "- [Modules and Imports](https://www.notion.so/Module-4-05b2a8ab34324a689d1c8567f1870b4f)\n",
    "\n",
    "# Motivating Example\n",
    "\n",
    "- Say we want to print a simple statement like ‘Hello World’ 5 times, it’s as simple as repeating some code 5 times right?"
   ]
  },
  {
   "cell_type": "code",
   "execution_count": null,
   "id": "d872cf88",
   "metadata": {},
   "outputs": [],
   "source": [
    "print('Hello World')\n",
    "print('Hello World')\n",
    "print('Hello World')\n",
    "print('Hello World')\n",
    "print('Hello World')"
   ]
  },
  {
   "cell_type": "markdown",
   "id": "c5574506",
   "metadata": {},
   "source": [
    "- However, what if we wanted to print ‘Hello World’ 100 times? 1000 times? Or even 1 million times?\n",
    "- Should we be copy and pasting the same message hundreds of times?\n",
    "- There is a far simpler solution! There is a way for us to run code repeatedly in Python\n",
    "\n",
    "# If Statements: Repeated\n",
    "\n",
    "- Remember using `if` statements in the last unit to make code execute conditionally? Similarly, we can use another statement to make code execute repeatedly\n",
    "- A `while` statement executes over and over again as long as a certain condition is True\n",
    "\n",
    "### Syntax\n",
    "\n",
    "- The structure of the `while` statement is as follows:\n",
    "    - The while keyword\n",
    "    - A boolean statement (an expression that evaluates to True or False)\n",
    "    - A colon\n",
    "    - Indented starting on the next line\n",
    "- The structure is actually very similar to an if statement, we can look at both side to side:"
   ]
  },
  {
   "cell_type": "code",
   "execution_count": null,
   "id": "ebde349b",
   "metadata": {},
   "outputs": [],
   "source": [
    "num = 0\n",
    "if num == 0:\n",
    "    print('Hello World')"
   ]
  },
  {
   "cell_type": "code",
   "execution_count": null,
   "id": "768b8bc8",
   "metadata": {},
   "outputs": [],
   "source": [
    "num = 0\n",
    "while num == 0:\n",
    "    print('Hello World')"
   ]
  },
  {
   "cell_type": "markdown",
   "id": "c3a5ca75",
   "metadata": {},
   "source": [
    "- As you can see, the if statement prints the message only once, while (pun intended) the while statement continues printing `Hello World`\n",
    "- The if statement only checks the condition once and executes the indented block\n",
    "- The while statement will finish executing the code, check if the boolean statement is true or not, and then execute again if the statement is true\n",
    "\n",
    "## Solving the Problem at the Beginning\n",
    "\n",
    "- So, now that we’ve introduced the while loop, let’s try to see how we can print something a set number of times\n",
    "- If the while loop will keep executing as long as the statement is true, we simply need to make the condition false after a set number of times\n",
    "- Let’s say we want to print 100 times, we can count up from 0 to 100 and stop the loop once the count has reached 100"
   ]
  },
  {
   "cell_type": "code",
   "execution_count": null,
   "id": "2925c2cc",
   "metadata": {},
   "outputs": [],
   "source": [
    "count = 0\n",
    "if count < 100:\n",
    "\tprint('Hello World')\n",
    "\tcount += 1"
   ]
  },
  {
   "cell_type": "markdown",
   "id": "e6b4e573",
   "metadata": {},
   "source": [
    "- At the end of each loop, we increase the `count`, so that after it’s 100th loop, increasing count to 100, the condition becomes False and the loop ends\n",
    "\n",
    "### Exercises\n",
    "\n",
    "- Try to print `Hello World` 1 million times\n",
    "- Try to print the numbers from 0 to 100,000 each on one line\n",
    "- Try to print the even numbers from 1 to 100 each on one line\n",
    "- I’ve encountered an error in my code! I’m trying to print the numbers backwards from 100 down to 1, but my code is not working. Can you find the error?"
   ]
  },
  {
   "cell_type": "code",
   "execution_count": null,
   "id": "f8af20d3",
   "metadata": {},
   "outputs": [],
   "source": [
    "count = 100\n",
    "if count < 0:\n",
    "\tprint(count)\n",
    "\tcount -= 1"
   ]
  },
  {
   "cell_type": "markdown",
   "id": "d25a6d4e",
   "metadata": {},
   "source": [
    "## Using `while` with Inputs\n",
    "\n",
    "- We can also use the `while` loop to have the user continue to enter something if their input is invalid\n",
    "- We can create some code to make sure the user’s invalid inputs don’t cause further bugs with the code\n",
    "- For example, consider a program that asks you to enter your age"
   ]
  },
  {
   "cell_type": "code",
   "execution_count": null,
   "id": "88ac13de",
   "metadata": {},
   "outputs": [],
   "source": [
    "response = input(\"Please enter your age: \")\n",
    "\n",
    "if response > 18:\n",
    " print(\"You are an adult\")\n",
    "else:\n",
    "\tprint(\"You are only \" + response + \" years old. You are not yet an adult\")"
   ]
  },
  {
   "cell_type": "markdown",
   "id": "bdedbd4e",
   "metadata": {},
   "source": [
    "- What if they entered a word, or a negative number?\n",
    "- We should prompt the user again to make sure we get a valid answer.\n",
    "- Try this exercise yourself first! Try and write a program using a while loop to make sure the user inputs a valid number before the code continues.\n",
    "    - The `isdigit()` String method would be useful for this scenario. Check out some of its methods [here](https://www.programiz.com/python-programming/methods/string/isdigit):\n",
    "    - Exercise Solutions"
   ]
  },
  {
   "cell_type": "code",
   "execution_count": null,
   "id": "03d49d45",
   "metadata": {},
   "outputs": [],
   "source": [
    "response = -1  # make a placeholder so the while loop runs\n",
    "while response.isdigit() and response > 0:\n",
    "\tresponse = input(\"Please enter your age: \")\n",
    "\n",
    "if response > 18:\n",
    " print(\"You are an adult\")\n",
    "else:\n",
    "\tprint(\"You are only \" + response + \" years old. You are not yet an adult\")\n"
   ]
  },
  {
   "attachments": {},
   "cell_type": "markdown",
   "id": "48744160",
   "metadata": {},
   "source": [
    "### Exercises\n",
    "\n",
    "- Get the user to enter their first name, making sure it’s properly capitalized and there are no numbers in the input. If you need help, the following link can help you find string methods. [Python String Methods](https://www.programiz.com/python-programming/methods/string)\n"
   ]
  },
  {
   "cell_type": "markdown",
   "id": "472667ea",
   "metadata": {},
   "source": [
    "# For Loops\n",
    "\n",
    "- The `while` loop continues to execute while the condition is True, but what if we already know how many times we want the loop to go on for?\n",
    "- Introducing the `for` loop!\n",
    "- In code, a for statement looks something like for i in range(5): and includes the following:\n",
    "    - The `for` keyword\n",
    "    - A variable\n",
    "    - The `in` keyword\n",
    "    - A sequence to iterate through\n",
    "    - A colon\n",
    "    - An indented block of code"
   ]
  },
  {
   "cell_type": "code",
   "execution_count": null,
   "id": "fd82a40b",
   "metadata": {},
   "outputs": [
    {
     "ename": "SyntaxError",
     "evalue": "invalid syntax (2366984038.py, line 1)",
     "output_type": "error",
     "traceback": [
      "\u001b[0;36m  Cell \u001b[0;32mIn[2], line 1\u001b[0;36m\u001b[0m\n\u001b[0;31m    for <variable_name> in <sequence_name>:\u001b[0m\n\u001b[0m        ^\u001b[0m\n\u001b[0;31mSyntaxError\u001b[0m\u001b[0;31m:\u001b[0m invalid syntax\n"
     ]
    }
   ],
   "source": [
    "for <variable_name> in <sequence_name>: \n",
    "\t<statements to run>"
   ]
  },
  {
   "cell_type": "markdown",
   "id": "ac5517fd",
   "metadata": {},
   "source": [
    "- Say we want to print all the characters of `Hello World` one by one, we know we want to go through the entire string of Hello World\n",
    "- Thus we write the code"
   ]
  },
  {
   "cell_type": "code",
   "execution_count": 3,
   "id": "b1b1182f",
   "metadata": {},
   "outputs": [
    {
     "name": "stdout",
     "output_type": "stream",
     "text": [
      "H\n",
      "e\n",
      "l\n",
      "l\n",
      "o\n",
      " \n",
      "W\n",
      "o\n",
      "r\n",
      "l\n",
      "d\n"
     ]
    }
   ],
   "source": [
    "for character in 'Hello World':\n",
    "\tprint(character)"
   ]
  },
  {
   "cell_type": "markdown",
   "id": "33388b07",
   "metadata": {},
   "source": [
    "- The variable `character` would take on the value of the characters of `Hello World`, so first the `H`, then the `e`, then the `l`, and so on, until the string is over\n",
    "\n",
    "### Exercise\n",
    "\n",
    "- Try to print the letters of your name one by one\n",
    "\n",
    "# Printing Numbers: `range()`\n",
    "\n",
    "- What if we want to print numbers instead?\n",
    "- `range()` generates a range of numbers depending on the inputs\n",
    "- Try and see what range does in each scenario, with one input, two inputs, and three inputs"
   ]
  },
  {
   "cell_type": "code",
   "execution_count": 4,
   "id": "4819cb8c",
   "metadata": {},
   "outputs": [
    {
     "name": "stdout",
     "output_type": "stream",
     "text": [
      "0\n",
      "1\n",
      "2\n",
      "3\n",
      "4\n"
     ]
    }
   ],
   "source": [
    "for i in range(5):\n",
    "\tprint(i)"
   ]
  },
  {
   "cell_type": "code",
   "execution_count": null,
   "id": "b5b15e89",
   "metadata": {},
   "outputs": [],
   "source": [
    "for i in range(5, 10):\n",
    "\tprint(i)"
   ]
  },
  {
   "cell_type": "code",
   "execution_count": null,
   "id": "1f14c8ec",
   "metadata": {},
   "outputs": [],
   "source": [
    "\n",
    "for i in range(0, 10, 2):\n",
    "\tprint(i)"
   ]
  },
  {
   "cell_type": "markdown",
   "id": "a44d31e3",
   "metadata": {},
   "source": [
    "### Review: `range()`\n",
    "\n",
    "- `range(x)`: gives numbers from `0` up to `x`\n",
    "- `range(x, y)`: gives numbers from `x` up to `y`\n",
    "- `range(x, y, z)` giving numbers `x` up to `y`, incrementing by `z`\n",
    "\n",
    "# Importing Modules\n",
    "\n",
    "- Although Python has a lot of useful functions and methods built in, there are many others that can be used\n",
    "- Python also comes with a set of modules called the standard library\n",
    "- Some common modules we’ll see are the `math` module, with the mathematics-related functions, and the `random` module, with its random number-related functions\n",
    "- To use the functions in a module, you must import the module with an import statement\n",
    "    - `import` keyword\n",
    "    - The name of the module"
   ]
  },
  {
   "cell_type": "code",
   "execution_count": 6,
   "id": "d40c3249",
   "metadata": {},
   "outputs": [],
   "source": [
    "import random"
   ]
  },
  {
   "cell_type": "markdown",
   "id": "b89133d2",
   "metadata": {},
   "source": [
    "- Only after you import a module can you use the functions\n",
    "- The `random` module has the `random.randint()` function, let’s see how it works\n",
    "- Since `randint()` is in the random module, you must first type random\n",
    "- Let’s try running the code a few times and see what happens"
   ]
  },
  {
   "cell_type": "code",
   "execution_count": 7,
   "id": "4164e965",
   "metadata": {},
   "outputs": [
    {
     "name": "stdout",
     "output_type": "stream",
     "text": [
      "2\n",
      "4\n",
      "8\n",
      "5\n",
      "8\n",
      "2\n",
      "2\n",
      "9\n",
      "10\n",
      "3\n"
     ]
    }
   ],
   "source": [
    "for num in range(0, 10):\n",
    "\tprint(random.randint(1, 10))"
   ]
  },
  {
   "attachments": {},
   "cell_type": "markdown",
   "id": "57563d7c",
   "metadata": {},
   "source": [
    "- The output should have printed 10 numbers randomly between 1 and 10\n",
    "- The `random.randint()` function call evaluates to a random integer value between the two integers that you pass it\n",
    "\n",
    "# Unit Project: Number Guessing Game\n",
    "\n",
    "- Now let’s try to create our project: a number guessing game!\n",
    "- The program will randomly choose a number, which the user will have to guess. The program can tell the user if their guess is too low, too high, or just right. The interaction between the program and the user should look something like this.\n",
    "\n",
    "    Program: Welcome to the number guessing game! Enter your first guess from 1 - 20: <br>\n",
    "    You: 10 <br>\n",
    "    Program: Your guess is too low. Try again: <br>\n",
    "    You: 15 <br>\n",
    "    Program: Your guess is too low. Try again:<br>\n",
    "    You: 17 <br>\n",
    "    Program: our guess is too high. Try again: <br>\n",
    "    You: 16 <br>\n",
    "    You got it right!"
   ]
  },
  {
   "cell_type": "markdown",
   "id": "4c466eed",
   "metadata": {},
   "source": [
    "### Basic Structure of the Code\n",
    "\n",
    "1. Import the random module so we can use `random.randint()` function to generate a number from 1-20\n",
    "    - Answer"
   ]
  },
  {
   "cell_type": "code",
   "execution_count": 8,
   "id": "7575c6c3",
   "metadata": {},
   "outputs": [],
   "source": [
    "import random # we don't actually need this import statement since \n",
    "              # we've already imported it previously\n",
    "\n",
    "answer = random.randint(1, 20)"
   ]
  },
  {
   "cell_type": "markdown",
   "id": "8b54f49f",
   "metadata": {},
   "source": [
    "2. Let the player enter a guess and `while` their guess is not the randomly generated number, give them a hint depending on if the number is too low or too high \n",
    "    - Answer"
   ]
  },
  {
   "cell_type": "code",
   "execution_count": null,
   "id": "5c12d59e",
   "metadata": {},
   "outputs": [],
   "source": [
    "guess = int(input('Enter your first guess from 1 - 20: '))\n",
    "while guess != answer:\n",
    "\tif guess < answer:\n",
    "\t\tguess = int(input('Your guess is too low. Try again: '))\n",
    "\telse:\n",
    "\t\tguess = int(input('Your guess is too high. Try again: '))\n"
   ]
  },
  {
   "cell_type": "markdown",
   "id": "cd989c22",
   "metadata": {},
   "source": [
    "3. After the while loop ends, let the user know they got the answer right! \n",
    "    - Answer"
   ]
  },
  {
   "cell_type": "code",
   "execution_count": null,
   "id": "577f877f",
   "metadata": {},
   "outputs": [],
   "source": [
    "print('You got it right!')"
   ]
  },
  {
   "cell_type": "markdown",
   "id": "9a5e6dc3",
   "metadata": {},
   "source": [
    "### Now All Together:"
   ]
  },
  {
   "cell_type": "code",
   "execution_count": 12,
   "id": "2d3a2fde",
   "metadata": {},
   "outputs": [
    {
     "name": "stdout",
     "output_type": "stream",
     "text": [
      "You got it right! 18 is correct!\n"
     ]
    }
   ],
   "source": [
    "import random\n",
    "\n",
    "answer = random.randint(1, 20)\n",
    "guess = int(input('Enter your first guess from 1 - 20: '))\n",
    "\n",
    "while guess != answer:\n",
    "\tif guess < answer:\n",
    "\t\tguess = int(input('Your guess is too low. Try again: '))\n",
    "\telse:\n",
    "\t\tguess = int(input('Your guess is too high. Try again: '))\n",
    "\n",
    "print('You got it right! ' + str(answer) + \" is correct!\")"
   ]
  },
  {
   "cell_type": "markdown",
   "id": "bf7e3bc8",
   "metadata": {},
   "source": [
    "## Additional Features to Implement for the Game:\n",
    "\n",
    "- Give the user a minimum number of guesses, ending the game if they fail to guess the correct number within the amount of guesses given.\n",
    "- Add some difficulties! Let the user choose the range of numbers they would guess from.\n",
    "- In addition, let them choose how many guesses they get.\n",
    "- Let the user choose if they want to play the game again after the game ends\n",
    "\n",
    "# Chapter Summary\n",
    "\n",
    "- [While Loops](https://www.notion.so/Module-4-05b2a8ab34324a689d1c8567f1870b4f)\n",
    "- [For Loops](https://www.notion.so/Module-4-05b2a8ab34324a689d1c8567f1870b4f)\n",
    "- [Range](https://www.notion.so/Module-4-05b2a8ab34324a689d1c8567f1870b4f)\n",
    "- [Modules and Imports](https://www.notion.so/Module-4-05b2a8ab34324a689d1c8567f1870b4f)\n",
    "\n",
    "# Further Readings/Additional Content\n",
    "\n",
    "### Python `break` and `continue` statements\n",
    "\n",
    "[Python break and continue](https://www.programiz.com/python-programming/break-continue)\n",
    "\n",
    "## Python Lists\n",
    "\n",
    "[Python Lists | Python Education | Google Developers](https://developers.google.com/edu/python/lists)\n",
    "\n",
    "### More about the `random` module\n",
    "\n",
    "[Python Random Module](https://www.w3schools.com/python/module_random.asp)\n",
    "\n",
    "### List Comprehensions\n",
    "\n",
    "[Python - List Comprehension](https://www.w3schools.com/python/python_lists_comprehension.asp)\n",
    "\n",
    "# Sample Exercises:\n",
    "\n",
    "- The number guessing game is adapted from some of my previous lessons, taught to one of my students about 14 years old. These were his solutions to the games we came up with and can be adapted to other units\n",
    "\n",
    "## Rock Paper Scissors"
   ]
  },
  {
   "cell_type": "code",
   "execution_count": null,
   "id": "f8194cb4",
   "metadata": {},
   "outputs": [],
   "source": [
    "import random\n",
    "while 0 == 0:\n",
    "  user_move=input('Enter your move (Options: rock paper or scissors): ')\n",
    "  computer_move=random.choice(['rock', 'paper', 'scissors'])\n",
    "\n",
    "  if user_move == 'rock':\n",
    "    if computer_move == 'rock':\n",
    "     print('computer chose rock its a tie')\n",
    "    elif computer_move == 'paper':\n",
    "     print('computer chose paper you lose')\n",
    "    else:\n",
    "     print('computer chose scissors you win')\n",
    "\n",
    "  elif user_move == 'scissors':\n",
    "    if computer_move == 'scissors':\n",
    "     print('computer chose scissors its a tie')\n",
    "    elif computer_move == 'rock':\n",
    "     print('computer chose rock you lose')\n",
    "    else:\n",
    "     print('computer chose paper you win')\n",
    "\n",
    "  if user_move == 'paper':\n",
    "    if computer_move == 'paper':\n",
    "     print('computer chose paper its a tie')\n",
    "    elif computer_move == 'scissors':\n",
    "     print('computer chose scissors you lose')\n",
    "    else:\n",
    "     print('computer chose rock you win')"
   ]
  },
  {
   "cell_type": "markdown",
   "id": "d9041b75",
   "metadata": {},
   "source": [
    "## Number Guessing Game"
   ]
  },
  {
   "cell_type": "code",
   "execution_count": null,
   "id": "68808512",
   "metadata": {},
   "outputs": [],
   "source": [
    "import random \n",
    "\n",
    "print('welcome to the number guessing game!')\n",
    "print('chose your settings')\n",
    "\n",
    "difficulty = input('choose a difficulty, hard or easy? ')\n",
    "max_tries = int(input('how many tries do you want? '))\n",
    "\n",
    "print('Let\\'s start!')\n",
    "print(40 * '-')\n",
    "\n",
    "if difficulty == 'hard':\n",
    "  number = random.randint(1, 1000)\n",
    "  guess = int (input('enter your first guess from 1 - 1000: '))\n",
    "else:\n",
    "  number = random.randint(1, 100)\n",
    "  guess = int (input('enter your first guess from 1 - 100: '))\n",
    "\n",
    "guesses = []\n",
    "tries = 10\n",
    "print(40 * '-')\n",
    "while guess != number and tries < max_tries :\n",
    "  if guess in guesses:\n",
    "   input('you already guessed that try again: ')\n",
    "  else:\n",
    "    tries += 1\n",
    "    guesses.append (guess)\n",
    "    if number < guess:\n",
    "      guess = int (input('guess lower: '))\n",
    "    else:\n",
    "      guess = int (input('guess higher: '))\n",
    "  print(40 * '-')\n",
    "\n",
    "guesses.append(guess)\n",
    "guesses.sort()\n",
    "print('List of previous guesses:', guesses)\n",
    "\n",
    "if guess == number and tries < max_tries:\n",
    "  print('you got it right!')\n",
    "else:\n",
    "  print ('you ran out of guesses')"
   ]
  },
  {
   "cell_type": "markdown",
   "id": "070f0363",
   "metadata": {},
   "source": [
    "## Hangman\n",
    "\n",
    "```python\n",
    "import random\n",
    "words = [\"forest\", \"house\", \"tree\", \"coding\"]\n",
    "word = random.choice(words)\n",
    "word_list = []\n",
    "guess_list = []\n",
    "\n",
    "for letter in word:\n",
    "  guess_list.append(\"_\")\n",
    "  word_list.append(letter)\n",
    "\n",
    "print(' '.join(guess_list))\n",
    "wrong = 0\n",
    "while guess_list != word_list and wrong < 7:\n",
    "  guess=input(\"guess a character: \")\n",
    "  if guess not in word_list:\n",
    "    wrong += 1\n",
    "\n",
    "  for i in range(len(word_list)):\n",
    "    if word_list [i] == guess:\n",
    "      guess_list [i] = guess\n",
    "\n",
    "  print(' '.join(guess_list))\n",
    "\n",
    "if wrong >= 7:\n",
    "  print('you ran out of guesses')\n",
    "else: \n",
    "  print('you win')\n",
    "```"
   ]
  }
 ],
 "metadata": {
  "kernelspec": {
   "display_name": "Python 3",
   "language": "python",
   "name": "python3"
  },
  "language_info": {
   "codemirror_mode": {
    "name": "ipython",
    "version": 3
   },
   "file_extension": ".py",
   "mimetype": "text/x-python",
   "name": "python",
   "nbconvert_exporter": "python",
   "pygments_lexer": "ipython3",
   "version": "3.10.4"
  }
 },
 "nbformat": 4,
 "nbformat_minor": 5
}
