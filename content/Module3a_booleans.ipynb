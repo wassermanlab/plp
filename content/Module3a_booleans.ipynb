{
 "cells": [
  {
   "attachments": {},
   "cell_type": "markdown",
   "id": "abc629c8",
   "metadata": {},
   "source": [
    "# a. Introduction to Variables: Boolean Data Type\n",
    "\n",
    "<aside>\n",
    "📌 Key points: booleans, boolean operators, comparison operators\n",
    "</aside>\n",
    "\n",
    "# George Boole\n",
    "\n",
    "- As we approach this module, we’ll be discussing Boolean values, named after George Boole, a famous mathematician who made significant contributions to algebra and logic.\n",
    "- George Boole was born in England in the 1800s, to a typical working class family of not-so-successful cobblers.\n",
    "- Although his family could only afford technical school, George’s love of education led him to consume works of famous mathematicians in his spare time, eventually securing teaching positions and opening his own school at age 19.\n",
    "- George Boole is most known for his paper, 'An Investigation Into the Laws of Thought’, featuring many key concepts of computer science still used today.\n",
    "\n",
    "![Portrait of George Boole](images/person1.png)\n",
    "\n",
    "Portrait of George Boole\n",
    "\n",
    "# The Lightbulb Example 💡\n",
    "\n",
    "- When we flip the switch for a lightbulb in our house, there are usually only two states the light can be in:\n",
    "  - On\n",
    "  - Off\n",
    "- We can’t really say that a light is both on AND off at the same time, right? Even if the light were flickering, it would still be either on or off at different times\n",
    "- There is no way for a light to be both on and off at the same time. Similarly, we can apply this concept to the idea of True and False\n",
    "- In real life, we can say things that might be both True and False, like, “February has 29 days”\n",
    "  - This is both True and False because normally, February has 28 days, unless it is on a leap year, in which case February has 29 days — making the statement True and False\n",
    "- However, in computer science, every statement that is made can only be either True or False. There is no in between, similar to the lightbulb example\n",
    "\n",
    "# New Data Type: Boolean Values\n",
    "\n",
    "- Remember in the previous modules, we learned how to assign different values to variables? We could make `x` equal a string, or different number data types like `int` and `float`\n",
    "- A new data type we will be exploring in this module is the Boolean type, written as `bool`\n",
    "- Unlike the other data types, the `bool` type only has two possible values:\n",
    "  - `True`\n",
    "  - `False`\n",
    "\n",
    "### Syntax\n",
    "\n",
    "- The structure of the `bool` declaration is as follows:\n",
    "  - A variable name\n",
    "  - A value stated as `True` or `False`\n",
    "- The structure for declaring a boolean variable is the same as declaring any other variable, however, unlike strings, since `True` and `False` are special keywords in Python, `bool` variables do not need quotations or apostrophes surrounding the words:"
   ]
  },
  {
   "cell_type": "code",
   "execution_count": null,
   "id": "0341accf",
   "metadata": {},
   "outputs": [],
   "source": [
    "# string declaration needs \"\" or ''\n",
    "\n",
    "x = \"Hello\"\n",
    "y = 'World'"
   ]
  },
  {
   "cell_type": "code",
   "execution_count": null,
   "id": "2bef5de6",
   "metadata": {},
   "outputs": [],
   "source": [
    "# bool True / False are keywords\n",
    "\n",
    "# note: both True and False need to be capitalized (true and false are not built\n",
    "# into Python)\n",
    "\n",
    "x = True\n",
    "y = False"
   ]
  },
  {
   "attachments": {},
   "cell_type": "markdown",
   "id": "11696866",
   "metadata": {},
   "source": [
    "- Boolean values can be evaluated as integers, where True = 1 and False = 0\n",
    "- An empty `bool` variable is considered `False`\n",
    "- This means you can perform numerical operations on `bool` values, just like `int` and `float`. However, boolean values should be used to represent logical states and conditions, not for arithmetic operations."
   ]
  },
  {
   "cell_type": "code",
   "execution_count": 1,
   "id": "7ae82cb4",
   "metadata": {},
   "outputs": [
    {
     "name": "stdout",
     "output_type": "stream",
     "text": [
      "3\n"
     ]
    }
   ],
   "source": [
    "# num would print out 3\n",
    "num = True + True + True\n",
    "print(num)"
   ]
  },
  {
   "cell_type": "code",
   "execution_count": 2,
   "id": "b9d9a36e",
   "metadata": {},
   "outputs": [
    {
     "name": "stdout",
     "output_type": "stream",
     "text": [
      "1\n"
     ]
    }
   ],
   "source": [
    "# num would print out 3\n",
    "num = False + True\n",
    "print(num)"
   ]
  },
  {
   "cell_type": "code",
   "execution_count": 3,
   "id": "e8d56ddf",
   "metadata": {},
   "outputs": [
    {
     "name": "stdout",
     "output_type": "stream",
     "text": [
      "0\n"
     ]
    }
   ],
   "source": [
    "# num would print out 3\n",
    "num = False\n",
    "print(num * 2)"
   ]
  },
  {
   "attachments": {},
   "cell_type": "markdown",
   "id": "3a7d6b67",
   "metadata": {},
   "source": [
    "### ‼️ Caution\n",
    "\n",
    "- Since `True` and `False` are special keywords built-in to Python, you cannot use them as variable names to assign values to — this gives an error\n",
    "- You can technically use `bool` as a variable name, but to avoid confusion, it’s not recommended"
   ]
  },
  {
   "cell_type": "code",
   "execution_count": null,
   "id": "f4a1fe3e",
   "metadata": {},
   "outputs": [],
   "source": [
    "# both of these gives a SyntaxError\n",
    "True = 5\n",
    "False = \"Hello\""
   ]
  },
  {
   "cell_type": "code",
   "execution_count": null,
   "id": "d99c5859",
   "metadata": {},
   "outputs": [],
   "source": [
    "# do not use bool as a variable name\n",
    "bool = \"Hello World\"\n",
    "bool = 5"
   ]
  },
  {
   "attachments": {},
   "cell_type": "markdown",
   "id": "11af3e9d",
   "metadata": {},
   "source": [
    "### Creating a “Lightbulb Switch”\n",
    "\n",
    "- We talked at the beginning about how a lightbulb can only be on or off, and how that is similar to how `bool` can only be `True` or `False`\n",
    "- We can use this example and represent a lightbulb’s on/off state in code:"
   ]
  },
  {
   "cell_type": "code",
   "execution_count": null,
   "id": "19719afe",
   "metadata": {},
   "outputs": [],
   "source": [
    "# we must cast the bool value to a string to print it\n",
    "switch = True\n",
    "print(\"Lightbulb on: \" + str(switch))"
   ]
  },
  {
   "attachments": {},
   "cell_type": "markdown",
   "id": "178da4b3",
   "metadata": {},
   "source": [
    "- Try changing the boolean value to see what happens"
   ]
  },
  {
   "attachments": {},
   "cell_type": "markdown",
   "id": "732ee274",
   "metadata": {},
   "source": [
    "### Exercises\n",
    "\n",
    "- Declare three additional variables that can be represented using `True` or `False` and see what happens when you print them, here are some variables to get started:"
   ]
  },
  {
   "cell_type": "code",
   "execution_count": 4,
   "id": "8e1e909a",
   "metadata": {},
   "outputs": [
    {
     "name": "stdout",
     "output_type": "stream",
     "text": [
      "False\n",
      "True\n",
      "False\n"
     ]
    }
   ],
   "source": [
    "is_raining = False\n",
    "likes_cake = True\n",
    "is_a_student = False\n",
    "# include your variables below here\n",
    "\n",
    "\n",
    "print(is_raining)\n",
    "print(likes_cake)\n",
    "print(is_a_student)\n",
    "# print your values below here"
   ]
  },
  {
   "attachments": {},
   "cell_type": "markdown",
   "id": "c065b444",
   "metadata": {},
   "source": [
    "- Try adding all these variables together and print them. What does this number represent?"
   ]
  },
  {
   "cell_type": "code",
   "execution_count": null,
   "id": "40c3352d",
   "metadata": {},
   "outputs": [],
   "source": []
  },
  {
   "attachments": {},
   "cell_type": "markdown",
   "id": "8b415141",
   "metadata": {},
   "source": [
    "# Boolean Operators\n",
    "\n",
    "- We know that we can set variables to be `True` or `False`, but in the previous examples, we were only working with one variable\n",
    "  - How do we work with more than one Boolean variable if we need to evaluate them together?\n",
    "  - For example, how do we say that the weather outside is both raining AND cold at the same time? Both conditions are `True`\n",
    "  - What if it is raining AND NOT cold? In this case, one condition is `True` and one condition is `False`\n",
    "  - What if we don’t know the weather, so it can be either sunny OR rainy today?\n",
    "\n",
    "### Syntax\n",
    "\n",
    "- This is where understanding these 3 Boolean Logical Operators comes in:\n",
    "  - `and` evaluates to `True` if all variables are `True` . `False` otherwise.\n",
    "  - `not` evaluates to the opposite of the boolean value.\n",
    "    - `not True` evaluates to `False`\n",
    "    - `not False` evaluates to `True`\n",
    "  - `or` evaluates to `True` when at least one variable is `True` . `False` otherwise.\n",
    "\n",
    "### Summary of Boolean Operators\n",
    "\n",
    "|     | Boolean Logical Operators | Evaluated Value |\n",
    "| --- | ------------------------- | --------------- |\n",
    "| and | True and True             | True            |\n",
    "|     | True and False            | False           |\n",
    "|     | False and False           | False           |\n",
    "| not | not True                  | False           |\n",
    "|     | not False                 | True            |\n",
    "| or  | True or True              | True            |\n",
    "|     | True or False             | True            |\n",
    "|     | False or False            | False           |\n",
    "\n",
    "Here are some examples using variables:"
   ]
  },
  {
   "cell_type": "code",
   "execution_count": null,
   "id": "ffcea4b7",
   "metadata": {},
   "outputs": [],
   "source": [
    "is_raining = True\n",
    "is_cold = True\n",
    "is_sunny = False\n",
    "\n",
    "raincoat = is_raining and is_cold\n",
    "sweatshirt = not is_raining and is_cold\n",
    "umbrella = is_raining or is_sunny\n",
    "\n",
    "print(\"I need to grab my umbrella: \" + str(umbrella))\n",
    "print(\"I need to grab my raincoat: \" + str(raincoat))\n",
    "print(\"I need to grab my sweatshirt: \" + str(sweatshirt))"
   ]
  },
  {
   "attachments": {},
   "cell_type": "markdown",
   "id": "37d147b5",
   "metadata": {},
   "source": [
    "### Exercises\n",
    "\n",
    "- Try copying the code above and playing around with the different boolean values for `is_raining`, `is_cold`, and `is_sunny` to see how the print statements change\n",
    "- Try writing your own version of different weather combinations using logical operators. Here are some examples to get you started, but try coming up with your own:"
   ]
  },
  {
   "cell_type": "code",
   "execution_count": null,
   "id": "fdec7a32",
   "metadata": {},
   "outputs": [],
   "source": [
    "sunny = True\n",
    "humid = True\n",
    "school_day = False\n",
    "\n",
    "swimming = sunny and humid and not school_day\n",
    "sunglasses = sunny and humid\n",
    "sweater = not humid and not sunny\n",
    "walk_home = not humid or school_day\n",
    "\n",
    "print(\"I will go swimming today: \" + str(swimming))\n",
    "print(\"I will wear sunglasses today: \" + str(sunglasses))\n",
    "print(\"I should wear a sweater today: \" + str(sweater))\n",
    "print(\"I will go on a walk today: \" + str(walk_home))"
   ]
  },
  {
   "attachments": {},
   "cell_type": "markdown",
   "id": "8403e96c",
   "metadata": {},
   "source": [
    "- Understanding why the result is `True` or `False` is extremely important in programming, that will come up again and again in the future\n",
    "  - In the exercise below, read the values of a, b, c, and d, then answer what you think the expression will evaluate to for each question. After you have attempted this, run the program to check your answers.\n",
    "  - For extra practice, you can change the boolean values for a, b, c, and d, which will create new questions you can try to solve."
   ]
  },
  {
   "cell_type": "code",
   "execution_count": null,
   "id": "f5aec498",
   "metadata": {},
   "outputs": [],
   "source": [
    "# DON'T RUN THE PROGRAM YET\n",
    "\n",
    "a = True\n",
    "b = False\n",
    "c = True\n",
    "d = False\n",
    "\n",
    "# Determine if the following expressions will evaluate to true or false, then\n",
    "# run the program to check!\n",
    "\n",
    "first = a and (b or d)\n",
    "# first answer:\n",
    "\n",
    "second = (b or d) or c\n",
    "# second answer:\n",
    "\n",
    "third = (a or d) and (b or c)\n",
    "# third answer:\n",
    "\n",
    "fourth = not b and d\n",
    "# fourth answer:\n",
    "\n",
    "fifth = (d or not a) or not a\n",
    "# fifth answer:\n",
    "\n",
    "print(\"First expression: \" + str(first))\n",
    "print(\"Second expression: \" + str(second))\n",
    "print(\"Third expression: \" + str(third))\n",
    "print(\"Fourth expression: \" + str(fourth))\n",
    "print(\"Fifth expression: \" + str(fifth))"
   ]
  },
  {
   "attachments": {},
   "cell_type": "markdown",
   "id": "26d304c8",
   "metadata": {},
   "source": [
    "# Comparison Operators\n",
    "\n",
    "- We learned previously that logical operators can compare two Boolean variables using `and`, `or` as keywords to produce another Boolean output of `True` or `False`\n",
    "- We can expand on this further by talking about comparison operators, which are similar to inequalities that you might have come across in math class\n",
    "- Comparison operators are used to compare two values, which can also be variables\n",
    "- Here is a table of comparison operators in Python that you can use:\n",
    "  | Operator | Name                     | Example |\n",
    "  | -------- | ------------------------ | ------- |\n",
    "  | ==       | equal to                 | x == y  |\n",
    "  | !=       | not equal to             | x != y  |\n",
    "  | >        | greater than             | x > y   |\n",
    "  | <        | less than                | x < y   |\n",
    "  | >=       | greater than or equal to | x >= y  |\n",
    "  | <=       | less than or equal to    | x <= y  |\n",
    "\n",
    "### Syntax\n",
    "\n",
    "- Comparison operators in Python return boolean values, which can be either `True` or `False`"
   ]
  },
  {
   "cell_type": "code",
   "execution_count": null,
   "id": "d71a3f36",
   "metadata": {},
   "outputs": [],
   "source": [
    "# 0 is not greater than 2,\n",
    "# so the result prints False\n",
    "x = 0\n",
    "y = 2\n",
    "result = x > y\n",
    "print(\"Is x greater than y? \" + str(result))"
   ]
  },
  {
   "cell_type": "code",
   "execution_count": null,
   "id": "d7551306",
   "metadata": {},
   "outputs": [],
   "source": [
    "# x and y are both 5,\n",
    "# so the result prints True\n",
    "x = 5\n",
    "y = 5\n",
    "result = x == y\n",
    "print(\"Is x and y the same? \" + str(result))"
   ]
  },
  {
   "attachments": {},
   "cell_type": "markdown",
   "id": "18755233",
   "metadata": {},
   "source": [
    "- It is also possible to combine mathematical equations when using comparison operators:"
   ]
  },
  {
   "cell_type": "code",
   "execution_count": 5,
   "id": "7e11ac74",
   "metadata": {},
   "outputs": [
    {
     "name": "stdout",
     "output_type": "stream",
     "text": [
      "Is 3*7 greater than or equal to 2*9? True\n"
     ]
    }
   ],
   "source": [
    "# the result prints True\n",
    "result = (3 * 7) >= (2 * 9)\n",
    "print(\"Is 3*7 greater than or equal to 2*9? \" + str(result))"
   ]
  },
  {
   "attachments": {},
   "cell_type": "markdown",
   "id": "7aac060d",
   "metadata": {},
   "source": [
    "- In these examples above, we used `int` values, but comparisons also work well with `string`"
   ]
  },
  {
   "cell_type": "code",
   "execution_count": null,
   "id": "3ec1e57f",
   "metadata": {},
   "outputs": [],
   "source": [
    "# joe and kate are not the same name, so the result prints True\n",
    "name1 = \"Joe\"\n",
    "name2 = \"Kate\"\n",
    "result = name1 != name2\n",
    "print(\"Do they have different names? \" + str(result))"
   ]
  },
  {
   "attachments": {},
   "cell_type": "markdown",
   "id": "dab72aee",
   "metadata": {},
   "source": [
    "- You can even use `>` and `<` operators when comparing strings. In these cases, it would compare the words based on alphabetical order, similar to how you would organize book authors by a-zA-Z at the library\n",
    "- ‘A’ would be considered the “smallest number”, and ‘Z’ would be the “largest number”\n",
    "- However, lowercase letters are considered greater than uppercase letters. For example, ‘a’ would be greater than both ‘A’ and ‘Z’."
   ]
  },
  {
   "cell_type": "code",
   "execution_count": 6,
   "id": "fa6cd6d9",
   "metadata": {},
   "outputs": [
    {
     "name": "stdout",
     "output_type": "stream",
     "text": [
      "Does Christie's books go after Rowling? False\n",
      "Does Christie's books go after clare's? True\n"
     ]
    }
   ],
   "source": [
    "author1 = \"Rowling, JK\"\n",
    "author2 = \"Christie, Agatha\"\n",
    "author3 = \"clare, cassandra\"\n",
    "\n",
    "# the result is False, since C comes before R\n",
    "result = author2 > author1\n",
    "print(\"Does Christie's books go after Rowling? \" + str(result))\n",
    "\n",
    "# the result is True, since c comes before C\n",
    "result = author3 > author2\n",
    "print(\"Does Christie's books go after clare's? \" + str(result))"
   ]
  },
  {
   "attachments": {},
   "cell_type": "markdown",
   "id": "963a743d",
   "metadata": {},
   "source": [
    "### Exercises\n",
    "\n",
    "1. If `a = 5` and `b = 10`, how would you write, using comparison operators\n",
    "  - if `a` is greater than `b`?\n",
    "  - if `a` is equal to `b`?\n",
    "  - if `a` is equal to `a`?\n",
    "  - if `b` is a string?\n",
    "  - if `a` - `b` is a negative number?"
   ]
  },
  {
   "cell_type": "code",
   "execution_count": 11,
   "id": "ab591d43",
   "metadata": {},
   "outputs": [
    {
     "name": "stdout",
     "output_type": "stream",
     "text": [
      "True\n"
     ]
    }
   ],
   "source": [
    "a = 5\n",
    "b = 10\n",
    "\n",
    "## write your answers below here\n"
   ]
  },
  {
   "attachments": {},
   "cell_type": "markdown",
   "id": "308082f2",
   "metadata": {},
   "source": [
    "\n",
    "2. What values could you declare for `x`, `y`, and `z` to make this statement print `True`? How about to make it print `False`?"
   ]
  },
  {
   "cell_type": "code",
   "execution_count": null,
   "id": "6592ae8f",
   "metadata": {},
   "outputs": [],
   "source": [
    "x =\n",
    "y =\n",
    "z =\n",
    "print(x > y > z)"
   ]
  },
  {
   "attachments": {},
   "cell_type": "markdown",
   "id": "8e83170a",
   "metadata": {},
   "source": [
    "\n",
    "3. Try to determine what the result of the following questions below will be, then run the program to check your answers:"
   ]
  },
  {
   "cell_type": "code",
   "execution_count": null,
   "id": "ce59f234",
   "metadata": {},
   "outputs": [],
   "source": [
    "# DON'T RUN THE PROGRAM YET\n",
    "\n",
    "a = \"Harry\"\n",
    "b = \"Ron\"\n",
    "c = \"Snape\"\n",
    "d = \"Hermione\"\n",
    "e = \"Harry\"\n",
    "\n",
    "# Determine if the following expressions will evaluate to true or false,\n",
    "# then run the program to check!\n",
    "\n",
    "first = a > b\n",
    "# first answer:\n",
    "\n",
    "second = c != d\n",
    "# second answer:\n",
    "\n",
    "third = a == e\n",
    "# third answer:\n",
    "\n",
    "fourth = d <= a\n",
    "# fourth answer:\n",
    "\n",
    "fifth = a >= e\n",
    "# fifth answer:\n",
    "\n",
    "print(\"First expression: \" + str(first))\n",
    "print(\"Second expression: \" + str(second))\n",
    "print(\"Third expression: \" + str(third))\n",
    "print(\"Fourth expression: \" + str(fourth))\n",
    "print(\"Fifth expression: \" + str(fifth))"
   ]
  },
  {
   "attachments": {},
   "cell_type": "markdown",
   "id": "85e0edb3",
   "metadata": {},
   "source": [
    "# Combining Boolean and Comparison Operators\n",
    "\n",
    "- You can combine the two types of operators in order to create more complex expressions\n",
    "- If we want to represent a very specific condition, we would need multiple phrases to get the result, similar to using boolean and comparison operators\n",
    "- For example, think of snow days at school. For a snow day to happen, there is likely a certain criteria that needs to be met; we can specify the conditions ourselves in this example:\n",
    "  - Let’s say the weather needs to be below -15 degrees Celsius\n",
    "  - The roads have to have NOT been plowed\n",
    "  - It needs to be on a weekday\n",
    "  - It must be during the school semester\n",
    "  - It cannot be on a holiday\n",
    "- We can define these variables in code, like this:"
   ]
  },
  {
   "cell_type": "code",
   "execution_count": 13,
   "id": "65e18d8d",
   "metadata": {},
   "outputs": [
    {
     "name": "stdout",
     "output_type": "stream",
     "text": [
      "True\n",
      "Is today a snowday? True\n"
     ]
    }
   ],
   "source": [
    "weather = -20\n",
    "roads_plowed = False\n",
    "weekday = True\n",
    "school_semester = True\n",
    "holiday = False\n",
    "\n",
    "snowday = weather < -15 and not roads_plowed and weekday and school_semester and not holiday\n",
    "print(\"Is today a snowday? \" + str(snowday))"
   ]
  },
  {
   "attachments": {},
   "cell_type": "markdown",
   "id": "fc16f10c",
   "metadata": {},
   "source": [
    "- Notice how we combined `<`, `not`, `and` keywords to create a `snowday` boolean variable that prints `True` if the conditions are met\n",
    "- There are endless possibilities to how you can combine these operators and we hope you can see how useful they are for determining if conditions are met"
   ]
  },
  {
   "attachments": {},
   "cell_type": "markdown",
   "id": "dc00990b",
   "metadata": {},
   "source": [
    "\n",
    "### Exercises\n",
    "\n",
    "1. Using the snowday example, change the variables of `weather`, `roads_plowed`, `weekday`, `school_semester`, and `holiday` to different values and see how that changes the result"
   ]
  },
  {
   "cell_type": "code",
   "execution_count": null,
   "id": "1065ecfd",
   "metadata": {},
   "outputs": [],
   "source": [
    "weather = \n",
    "roads_plowed = \n",
    "weekday = \n",
    "school_semester = \n",
    "holiday = \n",
    "\n",
    "snowday = weather < -15 and not roads_plowed and weekday and school_semester and not holiday\n",
    "print(\"Is today a snowday? \" + str(snowday))"
   ]
  },
  {
   "attachments": {},
   "cell_type": "markdown",
   "id": "a8d6e20b",
   "metadata": {},
   "source": [
    "\n",
    "2. Create your own situation and write out different conditions that need to be met, similar to the example! Some topics to get you started could be:\n",
    "  - How do you decide if it’s a good beach day?\n",
    "  - What ingredients are needed to create your favorite dish?\n",
    "  - What tasks do you do before you leave for school in the morning?"
   ]
  },
  {
   "cell_type": "code",
   "execution_count": null,
   "id": "beb85854",
   "metadata": {},
   "outputs": [],
   "source": []
  },
  {
   "attachments": {},
   "cell_type": "markdown",
   "id": "f0e2540e",
   "metadata": {},
   "source": [
    "# Unit Project — Lightbulb Wiring\n",
    "\n",
    "Scenario: You are an electrician. Somebody hires you to wire the lights in a new room in their house. These lights are connected to two connected light switches. This client wants their room wired so **that flipping one of the light switches causes all the lights in the room to flip on or off.** Being the savvy electrician that you are, you decide to first test out your wiring in Python using a boolean expression. You start with both switches off with all the lights in the room off as well.\n",
    "\n",
    "![Untitled](images/light.png)\n",
    "\n",
    "A boolean expression is a logical statement that is either TRUE or FALSE. It consists of multiple true/false statements connected by the logical connectors: `and`, `or`, or `not`."
   ]
  },
  {
   "cell_type": "code",
   "execution_count": 4,
   "id": "1112ca3a",
   "metadata": {},
   "outputs": [
    {
     "name": "stdout",
     "output_type": "stream",
     "text": [
      "Ellipsis\n"
     ]
    }
   ],
   "source": [
    "switch_1 = False\n",
    "switch_2 = False\n",
    "\n",
    "#try to consider all the possible combinations of two light switches!\n",
    "\n",
    "is_room_lit = print(...) # replace with your boolean expression\n",
    "\n",
    "# try changing the values of switch_1 and switch_2 to make sure your expression works as expected.\n"
   ]
  },
  {
   "attachments": {},
   "cell_type": "markdown",
   "id": "6cf41a18",
   "metadata": {},
   "source": [
    "### Challenge Exercise! 🤔\n",
    "\n",
    "Once you figure out two light switches, try to model a three light-switch system!"
   ]
  },
  {
   "cell_type": "code",
   "execution_count": null,
   "id": "997672e0",
   "metadata": {},
   "outputs": [],
   "source": [
    "switch_1 = \n",
    "switch_2 = \n",
    "switch_3 = \n",
    "\n",
    "is_room_lit = print(...)"
   ]
  },
  {
   "attachments": {},
   "cell_type": "markdown",
   "id": "46efe046",
   "metadata": {},
   "source": [
    "# Feedback Form\n",
    "\n",
    "Please take a moment to provide your thoughts on this module.\n",
    "\n",
    "[Module 3a (Boolean Data Type) - Feedback form](https://docs.google.com/forms/d/e/1FAIpQLSd5hHRxBN3zlGBm5MTvAFBOir5KAoP5oxIf0ocKXEU6eemoaw/viewform?usp=sf_link)\n",
    "\n",
    "# Further Readings / Additional Content\n",
    "\n",
    "### A Deeper Look into How String Comparisons Work\n",
    "\n",
    "[Python Compare Strings | How does String Comparison Works in Python?](https://www.educba.com/python-compare-strings/)\n",
    "\n",
    "### More About How Boolean Operator Values Work with Logic Gates\n",
    "\n",
    "[Logic Gates in Python - A Beginner-Friendly Guide - JournalDev](https://www.journaldev.com/42242/logic-gates-in-python)"
   ]
  }
 ],
 "metadata": {
  "kernelspec": {
   "display_name": "Python 3",
   "language": "python",
   "name": "python3"
  },
  "language_info": {
   "codemirror_mode": {
    "name": "ipython",
    "version": 3
   },
   "file_extension": ".py",
   "mimetype": "text/x-python",
   "name": "python",
   "nbconvert_exporter": "python",
   "pygments_lexer": "ipython3",
   "version": "3.10.4"
  }
 },
 "nbformat": 4,
 "nbformat_minor": 5
}
