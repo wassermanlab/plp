{
 "cells": [
  {
   "attachments": {},
   "cell_type": "markdown",
   "id": "46b3ffed",
   "metadata": {},
   "source": [
    "# Writing and Documenting Functions\n",
    "\n",
    "# What is a Function?\n",
    "\n",
    "## Motivating Example - La Café Ophidien  ☕\n",
    "\n",
    "Imagine that you run a café and you just hired your first employee to prepare bread every morning before you open. In order to train them, you take them step-by-step through your patented bread-making recipes, which takes your whole morning. \n",
    "\n",
    "Afterwards, you expect them to be able to bake certain amounts and quantities of bread every morning based on your instructions. To do this, they need to be able to recreate your recipes on their own. If we hadn’t trained them, we would need to walk them through the appropriate process every time you needed a new loaf of bread. So inefficient!\n",
    "\n",
    "Thinking about this programmatically, the employee is responsible for a number of different bread-making tasks that we specified for them at the beginning of their employment. In coding, we use functions to efficiently refer to certain standard behaviours that are repeated multiple times throughout our code.\n",
    "\n",
    "Functions eliminate a lot of unnecessary repetition and make our code **easier to read, write, and maintain.**"
   ]
  },
  {
   "cell_type": "code",
   "execution_count": null,
   "id": "b5d2be19",
   "metadata": {},
   "outputs": [],
   "source": [
    "#instructions to an untrained employee:\n",
    "\n",
    "print(\"day 1\")\n",
    "print (\"add eggs and flour to bowl\")\n",
    "print (\"let dough rise for 30 minutes\")\n",
    "print (\"cook for 2 hours\")\n",
    "print (\"remove and place on cooling rack\")\n",
    "print (\"add eggs and flour to bowl\")\n",
    "print (\"let dough rise for 30 minutes\")\n",
    "print (\"cook for 2 hours\")\n",
    "print (\"remove and place on cooling rack\")\n",
    "\n",
    "print(\"day 2\")\n",
    "print (\"add eggs and flour to bowl\")\n",
    "print (\"let dough rise for 30 minutes\")\n",
    "print (\"cook for 2 hours\")\n",
    "print (\"remove and place on cooling rack\")\n",
    "print (\"add eggs and flour to bowl\")\n",
    "print (\"let dough rise for 30 minutes\")\n",
    "print (\"cook for 2 hours\")\n",
    "print (\"remove and place on cooling rack\")\n",
    "\n",
    "print(\"day 3\")\n",
    "#it goes on like this for years..."
   ]
  },
  {
   "cell_type": "code",
   "execution_count": null,
   "id": "111bfede",
   "metadata": {},
   "outputs": [],
   "source": [
    "#instruction to a trained employee\n",
    "\n",
    "def make_whole_wheat(): #teaching employee to make bread first\n",
    "\tprint (\"add eggs and flour to bowl\")\n",
    "\tprint (\"let dough rise for 30 minutes\")\n",
    "\tprint (\"cook for 2 hours\")\n",
    "\tprint (\"remove and place on cooling rack\")\n",
    "\n",
    "print(\"day 1\")\n",
    "make_whole_wheat()\n",
    "make_whole_wheat()\n",
    "print(\"day 2\")\n",
    "make_whole_wheat()\n",
    "make_whole_wheat()\n",
    "print(\"day 3\")\n",
    "make_whole_wheat()\n",
    "make_whole_wheat()\n",
    "#much more efficient 🥖..."
   ]
  },
  {
   "attachments": {},
   "cell_type": "markdown",
   "id": "3580a7e0",
   "metadata": {},
   "source": [
    "## Functions allow us to:\n",
    "\n",
    "1. **Take advantage of code that has already been written.**\n",
    "    - The same function can be re-used multiple times during the execution of your code.\n",
    "    - Less words are required to do the same thing.\n",
    "2. **Create readable code.**\n",
    "    - Functions allow anybody reading your code to easily notice patterns and repetitions.\n",
    "3. **Encapsulate complex behaviour**\n",
    "    - Many times, programmers will “hide” very complex programming inside a function. All anybody using it has to know is the effect that the function has on their program rather than how the code itself works.\n",
    "    - Using our bakery example, imagine a customer ordering a loaf of bread. They don’t need to understand how it is baked, just how much to pay and what they will receive in return. 🍞\n",
    "    \n",
    "\n",
    "### Example\n",
    "\n",
    "Functions can also be used in calculations. Here’s a function that adds two to a number."
   ]
  },
  {
   "cell_type": "code",
   "execution_count": null,
   "id": "d0a2510b",
   "metadata": {},
   "outputs": [],
   "source": [
    "def add_two(num):\n",
    "\treturn num + 2  \n",
    "\n",
    "# to call this function, we could write add_two(3), where 3 is the argument \n",
    "# passed for the parameter num "
   ]
  },
  {
   "attachments": {},
   "cell_type": "markdown",
   "id": "90b393cb",
   "metadata": {},
   "source": [
    "# Functions in Python\n",
    "\n",
    "### Basic syntax\n",
    "\n",
    "- In Python, a function is defined using `def`\n",
    "- Let’s use the `add_two` function above as an example. We first write `def` to define the function we want to call `add_two` followed by **parentheses** and a **colon**"
   ]
  },
  {
   "cell_type": "code",
   "execution_count": null,
   "id": "3ede099c",
   "metadata": {},
   "outputs": [],
   "source": [
    "def add_two():\n"
   ]
  },
  {
   "attachments": {},
   "cell_type": "markdown",
   "id": "d935dcfb",
   "metadata": {},
   "source": [
    "- We pass the parameter, `num` into the function inside the parentheses. The function will operate on this parameter."
   ]
  },
  {
   "cell_type": "code",
   "execution_count": null,
   "id": "6f0d2222",
   "metadata": {},
   "outputs": [],
   "source": [
    "def add_two(num):"
   ]
  },
  {
   "attachments": {},
   "cell_type": "markdown",
   "id": "089ce229",
   "metadata": {},
   "source": [
    "- Then, we want to write code for what we want this function to do. In this case, we want to add 2 to the given parameter."
   ]
  },
  {
   "cell_type": "code",
   "execution_count": null,
   "id": "80994233",
   "metadata": {},
   "outputs": [],
   "source": [
    "def add_two(num):\n",
    "\treturn num + 2"
   ]
  },
  {
   "attachments": {},
   "cell_type": "markdown",
   "id": "dc88ab71",
   "metadata": {},
   "source": [
    "- Passing arguments into function\n",
    "    - The number of arguments you pass must equal the number of parameters you defined in your function."
   ]
  },
  {
   "attachments": {},
   "cell_type": "markdown",
   "id": "2f2ef017",
   "metadata": {},
   "source": [
    "### Example\n"
   ]
  },
  {
   "cell_type": "code",
   "execution_count": null,
   "id": "e04a96fa",
   "metadata": {},
   "outputs": [],
   "source": [
    "# this example takes 2 numbers and returns the smallest of the two\n",
    "\n",
    "def smaller_num(num1, num2):\n",
    "\tif num1 < num2:\n",
    "\t\treturn num1\n",
    "\telse: \n",
    "\t\treturn num2\t\n"
   ]
  },
  {
   "attachments": {},
   "cell_type": "markdown",
   "id": "40c4057a",
   "metadata": {},
   "source": [
    "- To call on your function, you would use the function name you just defined followed by the appropriate number of arguments"
   ]
  },
  {
   "cell_type": "code",
   "execution_count": null,
   "id": "e209f743",
   "metadata": {},
   "outputs": [],
   "source": [
    "# try running the following lines of code\n",
    "\n",
    "add_two(0.1)\n",
    "\n",
    "smaller_num(-1, -0.2)\n",
    "\n",
    "smaller_num(1, 1)\n"
   ]
  },
  {
   "attachments": {},
   "cell_type": "markdown",
   "id": "4b480e79",
   "metadata": {},
   "source": [
    "Remember how we looked at the `random` module in Module 4? Now lets take a look at the `math` module and use their functions.\n",
    "\n",
    "As always, we need to first `import` the library we want.\n",
    "\n",
    "The math module has many functions that we can use to perform calculations. Some you can try are `math.sqrt()`and `math.pi`. Try playing around with other functions in the math module as well!"
   ]
  },
  {
   "cell_type": "code",
   "execution_count": null,
   "id": "62346c57",
   "metadata": {},
   "outputs": [],
   "source": [
    "import math\n",
    "\n",
    "print(math.sqrt())\n",
    "\n",
    "print(math.pi)"
   ]
  },
  {
   "attachments": {},
   "cell_type": "markdown",
   "id": "11136e27",
   "metadata": {},
   "source": [
    "You can find a list of math functions here:\n",
    "\n",
    "[math - Mathematical functions - Python 3.10.4 documentation](https://docs.python.org/3/library/math.html)\n",
    "\n",
    "### Exercises\n",
    "\n",
    "1. Write a function called `larger_num` that returns the larger number out of two numbers or the first number if they are the same.\n",
    "2. Write a function called `is_string` that produces true if the input is a `str`\n",
    "\n",
    "# Documenting Functions 📝\n",
    "\n",
    "Despite giving your function a descriptive name, its purpose may not be clear to another person. That’s why we want to keep a documentation of what our functions do as we write them.\n",
    "\n",
    "### **Docstrings**\n",
    "\n",
    "- Docstrings provide a brief summary of how your function works. They are written between triple double-quotation marks.\n",
    "    - Since Docstrings are supposed to be a brief summary, we want to keep them to one line."
   ]
  },
  {
   "cell_type": "code",
   "execution_count": null,
   "id": "6c6b7b1c",
   "metadata": {},
   "outputs": [],
   "source": [
    "\"\"\"This is an example of a Docstring\"\"\"\n"
   ]
  },
  {
   "attachments": {},
   "cell_type": "markdown",
   "id": "ddb64711",
   "metadata": {},
   "source": [
    "- Notice that the Docstring comes after defining the function and before the function body."
   ]
  },
  {
   "cell_type": "code",
   "execution_count": null,
   "id": "9198a016",
   "metadata": {},
   "outputs": [],
   "source": [
    "def smaller_num(num1, num2):\n",
    "\t\"\"\" returns smaller of two given numbers, returns second number if equal \"\"\"\n",
    "\tif num1 < num2:\n",
    "\t\treturn num1\n",
    "\telse: \n",
    "\t\treturn num2\n",
    "\t"
   ]
  },
  {
   "attachments": {},
   "cell_type": "markdown",
   "id": "f14909fa",
   "metadata": {},
   "source": [
    "### **help() function**\n",
    "\n",
    "- Sometimes we know the name of a function but are unsure about how it works or how many arguments it takes in.\n",
    "- We can use the `help()` function where we pass in the name of the function we want to look up in the parentheses\n",
    "- Copy the updated `smaller_num()` function into your text editor then try running `help(smaller_num)`. What do you notice?\n",
    "\n",
    "**What makes for good documentation?**\n",
    "\n",
    "- The Docstring should be simple and concise one-line explanation of what the function does. It can span multiple lines if more details are needed.\n",
    "- Make sure to document any assumptions/constraints so that the person using the function will have all the necessary information"
   ]
  },
  {
   "cell_type": "code",
   "execution_count": null,
   "id": "853f5aaa",
   "metadata": {},
   "outputs": [],
   "source": [
    "def hello_message(name):\n",
    "    \"\"\" returns a greeting message. \n",
    "    assumes name is always greater than 0 characters (not an empty string).\"\"\"\n",
    "    return \"Hello \" + name + \" !\" \n"
   ]
  },
  {
   "attachments": {},
   "cell_type": "markdown",
   "id": "ceb2c6c4",
   "metadata": {},
   "source": [
    "### Exercise\n",
    "\n",
    "- Go back to two functions: `larger_num` and `is_string` and write Docstrings for them.\n",
    "\n",
    "# Unit Project: Does the student pass? Revisited!\n",
    "\n",
    "Remember the unit project we did in module 3b? Lets first take a look at our solution to determine whether or not the student passed."
   ]
  },
  {
   "cell_type": "code",
   "execution_count": null,
   "id": "82393391",
   "metadata": {},
   "outputs": [],
   "source": [
    "midterm_exam_grade = input(\"student's midterm grade: \")\n",
    "final_exam_grade= input(\"student's final grade: \")\n",
    "project_grade = input(\"student's project grade: \" )\n",
    "assignment1_grade = input(\"student's Assignment 1 grade: \")\n",
    "assignment2_grade = input(\"student's Assignment 2 grade: \")\n",
    "participation_grade = input(\"student's participation grade: \")\n",
    "\n",
    "midterm_weight = 0.20\n",
    "final_weight = 0.40\n",
    "project_weight = 0.15\n",
    "assignment_weight = 0.20\n",
    "participation_weight = 0.05\n",
    "\n",
    "passing_grade = 50\n",
    "\n",
    "weighted_mt_and_final_grade = (midterm_weight * float(midterm_exam_grade) + final_weight * float(final_exam_grade)) / (midterm_weight + final_weight)\n",
    "\n",
    "# assignment weighted grade\n",
    "if float(assignment1_grade) > float(assignment2_grade):\n",
    "    weighted_assignment_grade = (float(assignment1_grade) * 0.15 + float(assignment2_grade) * 0.05) \n",
    "elif float(assignment2_grade) > float(assignment1_grade):\n",
    "    weighted_assignment_grade = (float(assignment2_grade) * 0.15 + float(assignment1_grade) * 0.05) \n",
    "else:\n",
    "    weighted_assignment_grade = (float(assignment1_grade) * 0.10 + float(assignment2_grade) * 0.10)\n",
    "\n",
    "# total grade\n",
    "total_grade = (float(midterm_exam_grade) * midterm_weight) + (float(final_exam_grade) * final_weight) + (float(project_grade) * project_weight) + weighted_assignment_grade + (float(participation_grade) * participation_weight)\n",
    "\n",
    "# determine if student passes\n",
    "if round(weighted_mt_and_final_grade) >= passing_grade and round(float(final_exam_grade)) >= passing_grade and round(total_grade) >= passing_grade:\n",
    "    print(\"Congratulations! You passed the course! Your final grade is \" + str(round(total_grade)))\n",
    "elif round(weighted_mt_and_final_grade) < passing_grade and round(float(final_exam_grade)) < passing_grade:\n",
    "    print(\"You did not pass the weighted average of your midterm and final and did not pass the final. Your final grade is 45%\")\n",
    "elif round(weighted_mt_and_final_grade) < passing_grade:\n",
    "    print(\"You did not pass the weighted average of your midterm and final. Your weighted average was \" + str(round(weighted_mt_and_final_grade)) + \"%\" + \" and your final grade is 45%\")\n",
    "elif round(float(final_exam_grade)) < passing_grade:\n",
    "    print(\"You did not pass the final. Your final exam grade was \" + str(round(float(final_exam_grade))) + \"%\" + \" and your final grade is 45%\")\n",
    "else:\n",
    "    print(\"You did not pass the course. Your final grade is \" + str(total_grade) + \"%\")"
   ]
  },
  {
   "attachments": {},
   "cell_type": "markdown",
   "id": "9ef49c9d",
   "metadata": {},
   "source": [
    "That’s a lot of code isn’t it? Now that we know functions, let’s try and simplify this code! \n",
    "\n",
    "1. First, write a function called `weighted_mt_and_final_grade` that simplifies the following code. Your function should take in a midterm grade, final grade, midterm weight, and final weight."
   ]
  },
  {
   "cell_type": "code",
   "execution_count": null,
   "id": "4bc9b88d",
   "metadata": {},
   "outputs": [],
   "source": [
    "weighted_mt_and_final_grade = (midterm_weight * float(midterm_exam_grade) + final_weight * float(final_exam_grade)) / (midterm_weight + final_weight)"
   ]
  },
  {
   "attachments": {},
   "cell_type": "markdown",
   "id": "9f9080ee",
   "metadata": {},
   "source": [
    "1. Next, write a function called `weighted_assignment_grade` that simplifies the following code. The function should take in two assignment grades and the assignment weight."
   ]
  },
  {
   "cell_type": "code",
   "execution_count": null,
   "id": "d6cb9c7c",
   "metadata": {},
   "outputs": [],
   "source": [
    "# assignment weighted grade\n",
    "if float(assignment1_grade) > float(assignment2_grade):\n",
    "    weighted_assignment_grade = (float(assignment1_grade) * 0.15 + float(assignment2_grade) * 0.05) \n",
    "elif float(assignment2_grade) > float(assignment1_grade):\n",
    "    weighted_assignment_grade = (float(assignment2_grade) * 0.15 + float(assignment1_grade) * 0.05) \n",
    "else:\n",
    "    weighted_assignment_grade = (float(assignment1_grade) * 0.10 + float(assignment2_grade) * 0.10)\n"
   ]
  },
  {
   "attachments": {},
   "cell_type": "markdown",
   "id": "c3bef1b2",
   "metadata": {},
   "source": [
    "1. Next, write a function called `total_grade` that simplifies the following code. Your function should take in a midterm grade, midterm weight, final grade, final weight, project grade, project weight, both assignment grades, assignment weight, participation grade, and participation weight. Make sure to call on `weighted_assignment_grade` in your new function"
   ]
  },
  {
   "cell_type": "code",
   "execution_count": null,
   "id": "79a62951",
   "metadata": {},
   "outputs": [],
   "source": [
    "total_grade = (float(midterm_exam_grade) * midterm_weight) + (float(final_exam_grade) * final_weight) + (float(project_grade) * project_weight) + weighted_assignment_grade + (float(participation_grade) * participation_weight)"
   ]
  },
  {
   "attachments": {},
   "cell_type": "markdown",
   "id": "ba4829d9",
   "metadata": {},
   "source": [
    "1. Finally, write a function called `does_student_pass` that simplifies the following code. Your function should call on previously defined functions. Your function should take in a midterm grade, midterm weight, final grade, final weight, project grade, project weight, both assignment grades, assignment weight, participation grade, participation weight, and minimum passing grade."
   ]
  },
  {
   "cell_type": "code",
   "execution_count": null,
   "id": "3eefd77e",
   "metadata": {},
   "outputs": [],
   "source": [
    "# determine if student passes\n",
    "if round(weighted_mt_and_final_grade) >= passing_grade and round(float(final_exam_grade)) >= passing_grade and round(total_grade) >= passing_grade:\n",
    "    print(\"Congratulations! You passed the course! Your final grade is \" + str(round(total_grade)))\n",
    "elif round(weighted_mt_and_final_grade) < passing_grade and round(float(final_exam_grade)) < passing_grade:\n",
    "    print(\"You did not pass the weighted average of your midterm and final and did not pass the final. Your final grade is 45%\")\n",
    "elif round(weighted_mt_and_final_grade) < passing_grade:\n",
    "    print(\"You did not pass the weighted average of your midterm and final. Your weighted average was \" + str(round(weighted_mt_and_final_grade)) + \"%\" + \" and your final grade is 45%\")\n",
    "elif round(float(final_exam_grade)) < passing_grade:\n",
    "    print(\"You did not pass the final. Your final exam grade was \" + str(round(float(final_exam_grade))) + \"%\" + \" and your final grade is 45%\")\n",
    "else:\n",
    "    print(\"You did not pass the course. Your final grade is \" + str(total_grade) + \"%\")\n"
   ]
  },
  {
   "attachments": {},
   "cell_type": "markdown",
   "id": "15db0112",
   "metadata": {},
   "source": [
    "# Feedback Form\n",
    "\n",
    "Please take a moment to provide your thoughts on this module.\n",
    "\n",
    "[Module 5 (Functions) - Feedback form](https://docs.google.com/forms/d/e/1FAIpQLSe_Kbzu6jktyMxRIbQhm361aFJc7TSZd19hzTnnFa-7jcR27Q/viewform?usp=sf_link)"
   ]
  }
 ],
 "metadata": {
  "language_info": {
   "name": "python"
  }
 },
 "nbformat": 4,
 "nbformat_minor": 5
}
