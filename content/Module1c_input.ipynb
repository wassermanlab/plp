{
  "cells": [
    {
      "attachments": {},
      "cell_type": "markdown",
      "id": "7543fb1c",
      "metadata": {},
      "source": [
        "# 1c. Concatenation, Substrings and Inputs\n",
        "\n",
        "<aside>\n",
        "📌 Key points: concatenation of strings, inputting values\n",
        "</aside>"
      ]
    },
    {
      "attachments": {},
      "cell_type": "markdown",
      "id": "7e81f142",
      "metadata": {},
      "source": [
        "In this module, we will quickly review `print()` and variables. Then we will look at two string operations: string concatenation, where we can combine strings together, and substrings where we take portion of a larger string. We will finish with the `input()` function, which allows for users to interact with the program."
      ]
    },
    {
      "attachments": {},
      "cell_type": "markdown",
      "id": "24a17a96",
      "metadata": {},
      "source": [
        "- Using what we’ve learned about variables in the previous module, we can declare a string variable, store a message, and use the variable name to print it out!"
      ]
    },
    {
      "attachments": {},
      "cell_type": "markdown",
      "id": "bfb47a70",
      "metadata": {},
      "source": [
        "## Quick review"
      ]
    },
    {
      "cell_type": "code",
      "execution_count": 7,
      "id": "494cc194",
      "metadata": {},
      "outputs": [
        {
          "name": "stdout",
          "output_type": "stream",
          "text": [
            "This whole message can be printed by just typing in the variable name\n",
            "Try this out yourself!\n"
          ]
        }
      ],
      "source": [
        "message = \"This whole message can be printed by just typing in the variable name\"\n",
        "another_message = 'Try this out yourself!'\n",
        "\n",
        "print(message)\n",
        "print(another_message)"
      ]
    },
    {
      "attachments": {},
      "cell_type": "markdown",
      "id": "64088fca",
      "metadata": {},
      "source": [
        "- What are some advantages of putting things in variables is versus writing everything out?"
      ]
    },
    {
      "attachments": {},
      "cell_type": "markdown",
      "id": "50d2ca67",
      "metadata": {},
      "source": [
        "\n",
        "## String Formatting\n",
        "\n",
        "- Along with letters and numbers, we might want to be able to format our strings in different ways, like adding new lines or new spaces without manually doing these things in our print statements\n",
        "- Additionally, what do we do if we want to use quotation marks in our `print` statement?\n",
        "    - Try printing a message that contains quotations marks, see what happens\n",
        "    - You will notice that an error message is given, since python uses quotations as a special character to declare strings!\n",
        "- In order to use special characters and add new lines/spaces, we need to use the escape character `\\` in our strings to have it print out what we would like:\n",
        "\n",
        "| String Formatting | Special Character | Usage Example | Output Example |\n",
        "| --- | --- | --- | --- |\n",
        "| New Line  | \\n | “123\\n45” | 123 |\n",
        "| | | |45 |\n",
        "| Tab Space | \\t | \"123\\t45” | 123          45 |\n",
        "| Backslash | \\\\ | \"123\\\\45” | 123\\45 |\n",
        "| Quotation | \\” | \"123\\”Hello\\”45” | 122”Hello”45 |\n",
        "\n",
        "- If we want our strings to span multiple lines, we can enclose each line in its own double quote, for example:"
      ]
    },
    {
      "cell_type": "code",
      "execution_count": 9,
      "id": "5a6ae6c7",
      "metadata": {},
      "outputs": [
        {
          "name": "stdout",
          "output_type": "stream",
          "text": [
            "You can break up long strings\n",
            " into multiple lines, but \n",
            "remember to include spaces\n"
          ]
        }
      ],
      "source": [
        "# strings can span multiple lines\n",
        "\n",
        "print(\"You can break up long strings\"\n",
        "      \" into multiple lines, but \"\n",
        "        \"remember to include spaces\")"
      ]
    },
    {
      "cell_type": "code",
      "execution_count": 4,
      "id": "4efc463d",
      "metadata": {},
      "outputs": [
        {
          "name": "stdout",
          "output_type": "stream",
          "text": [
            "\"This will show as a quote\"\n"
          ]
        }
      ],
      "source": [
        "# combining ' and \" to print\n",
        "\n",
        "print('\"This will show as double quotations\"')"
      ]
    },
    {
      "cell_type": "code",
      "execution_count": null,
      "id": "01fe4df7",
      "metadata": {},
      "outputs": [],
      "source": [
        "print(\"'This will show in apostrophes'\")"
      ]
    },
    {
      "cell_type": "code",
      "execution_count": null,
      "id": "ea5085d6",
      "metadata": {},
      "outputs": [],
      "source": [
        "print(\"\\\"Using the escape character works too\\\"\")"
      ]
    },
    {
      "attachments": {},
      "cell_type": "markdown",
      "id": "60ac6c48",
      "metadata": {},
      "source": [
        "## Exercise\n",
        "Try printing the following String using escape characters:"
      ]
    },
    {
      "cell_type": "code",
      "execution_count": 7,
      "id": "c57228cd",
      "metadata": {},
      "outputs": [
        {
          "name": "stdout",
          "output_type": "stream",
          "text": [
            "This line contains \"words\" in \"quotes\"\n",
            "\"And spans multiple lines\n"
          ]
        }
      ],
      "source": [
        "print(This line contains \"words\" in \"quotes\"\n",
        "And spans multiple lines)"
      ]
    },
    {
      "attachments": {},
      "cell_type": "markdown",
      "id": "41530c0b",
      "metadata": {},
      "source": [
        "## Concatenation of Strings\n",
        "\n",
        "- When we merge two strings together, we call this string concatenation\n",
        "- There are many ways to combine strings together to print out word combinations or even create entirely new strings that can be stored in different variables!\n",
        "- We can use different operators to concatenate strings. Try running the following blocks of code and explain what they do. If you encounter any errors, try to explain why."
      ]
    },
    {
      "cell_type": "code",
      "execution_count": 11,
      "id": "6d24d19d",
      "metadata": {},
      "outputs": [
        {
          "name": "stdout",
          "output_type": "stream",
          "text": [
            "Hello World\n"
          ]
        }
      ],
      "source": [
        "print(\"Hello \" + \"World\")"
      ]
    },
    {
      "cell_type": "code",
      "execution_count": 12,
      "id": "1193c59e",
      "metadata": {},
      "outputs": [
        {
          "name": "stdout",
          "output_type": "stream",
          "text": [
            "HelloWorld\n"
          ]
        }
      ],
      "source": [
        "str1 = \"Hello\"\n",
        "str2 = \"World\"\n",
        "\n",
        "str = str1 + str2\n",
        "\n",
        "print(str)"
      ]
    },
    {
      "cell_type": "code",
      "execution_count": 13,
      "id": "34ffa461",
      "metadata": {},
      "outputs": [
        {
          "name": "stdout",
          "output_type": "stream",
          "text": [
            "HiHiHiHi\n"
          ]
        }
      ],
      "source": [
        "print(\"Hi\" * 4)"
      ]
    },
    {
      "cell_type": "code",
      "execution_count": 14,
      "id": "5409b504",
      "metadata": {},
      "outputs": [
        {
          "ename": "TypeError",
          "evalue": "unsupported operand type(s) for +: 'int' and 'str'",
          "output_type": "error",
          "traceback": [
            "\u001b[0;31m---------------------------------------------------------------------------\u001b[0m",
            "\u001b[0;31mTypeError\u001b[0m                                 Traceback (most recent call last)",
            "Cell \u001b[0;32mIn[14], line 1\u001b[0m\n\u001b[0;32m----> 1\u001b[0m \u001b[39mprint\u001b[39m(\u001b[39m5\u001b[39;49m \u001b[39m+\u001b[39;49m \u001b[39m\"\u001b[39;49m\u001b[39m1\u001b[39;49m\u001b[39m\"\u001b[39;49m)\n",
            "\u001b[0;31mTypeError\u001b[0m: unsupported operand type(s) for +: 'int' and 'str'"
          ]
        }
      ],
      "source": [
        "print(5 + \"1\")"
      ]
    },
    {
      "attachments": {},
      "cell_type": "markdown",
      "id": "c5f141c3",
      "metadata": {},
      "source": [
        "### Exercise\n",
        "Given the variables `hello` and `world`, print \n",
        "\"HelloWorldWorld\" using String Concatenation"
      ]
    },
    {
      "cell_type": "code",
      "execution_count": 6,
      "id": "2548c78a",
      "metadata": {},
      "outputs": [
        {
          "name": "stdout",
          "output_type": "stream",
          "text": [
            "HelloWorldWorld\n"
          ]
        }
      ],
      "source": [
        "hello = \"Hello\"\n",
        "world = \"World\""
      ]
    },
    {
      "attachments": {},
      "cell_type": "markdown",
      "id": "948cb034",
      "metadata": {},
      "source": [
        "## Substrings\n",
        "- Substrings are smaller parts of a larger string. We can manipulate strings to take just a portion of it. Try running the following code. The syntax is: `string[start:end:step]`"
      ]
    },
    {
      "cell_type": "code",
      "execution_count": 3,
      "id": "8332c6ed",
      "metadata": {},
      "outputs": [
        {
          "name": "stdout",
          "output_type": "stream",
          "text": [
            "good\n"
          ]
        }
      ],
      "source": [
        "text = \"good morning\"\n",
        "print(text[0:4])\n"
      ]
    },
    {
      "cell_type": "code",
      "execution_count": 9,
      "id": "66203411",
      "metadata": {},
      "outputs": [
        {
          "name": "stdout",
          "output_type": "stream",
          "text": [
            "good \n"
          ]
        }
      ],
      "source": [
        "print(text[:5])"
      ]
    },
    {
      "cell_type": "code",
      "execution_count": 5,
      "id": "5133330c",
      "metadata": {},
      "outputs": [
        {
          "name": "stdout",
          "output_type": "stream",
          "text": [
            "ood m\n"
          ]
        }
      ],
      "source": [
        "print(text[1:6])"
      ]
    },
    {
      "cell_type": "code",
      "execution_count": 8,
      "id": "61179759",
      "metadata": {},
      "outputs": [
        {
          "name": "stdout",
          "output_type": "stream",
          "text": [
            "rning\n"
          ]
        }
      ],
      "source": [
        "print(text[7:])"
      ]
    },
    {
      "cell_type": "code",
      "execution_count": 11,
      "id": "23596773",
      "metadata": {},
      "outputs": [
        {
          "name": "stdout",
          "output_type": "stream",
          "text": [
            "go on\n"
          ]
        }
      ],
      "source": [
        "print(text[0:9:2])"
      ]
    },
    {
      "attachments": {},
      "cell_type": "markdown",
      "id": "399a166a",
      "metadata": {},
      "source": [
        "## The `input()` function\n",
        "\n",
        "- The `input()` function is one of Python’s many built-in functions\n",
        "- It allows user input\n",
        "- The syntax of the function is `input(prompt)` where the prompt is a `String`\n",
        "- Take a look at the following examples\n",
        "\n",
        "💡 JupyterLite's Pyodide kernel (the runtime environment where your code is being executed) is a little different from a normal Python environment. When dealing with `input()` in your code, you will notice an error. Try running the following example\n",
        "\n",
        "**Example 1**"
      ]
    },
    {
      "cell_type": "code",
      "execution_count": null,
      "id": "9d86eef5",
      "metadata": {},
      "outputs": [],
      "source": [
        "day = input(\"What day is it today?:\")\n",
        "print(\"Today is\" + \" \" + day)"
      ]
    },
    {
      "attachments": {},
      "cell_type": "markdown",
      "id": "bfdbbf72",
      "metadata": {},
      "source": [
        "In a normal Python environment, this code would have ran as expected. However, Pyodide returns a TypeError, saying that our input is of type `Future`. The Future object is the eventual result of an asynchronous operation, such as a user's input.\n",
        "\n",
        "For this course, we will use the `result()` method as a temporary fix. `result()` returns the result of a Future object. In the above example, result() will return the variable `day` as a string. Take a look at our new version of the code. We will also split the lines into their own code cells, to ensure the user can input the answer before the following lines of code are executed. "
      ]
    },
    {
      "cell_type": "code",
      "execution_count": 4,
      "id": "c54c6b71",
      "metadata": {},
      "outputs": [],
      "source": [
        "day = input(\"What day is it today?:\")"
      ]
    },
    {
      "cell_type": "code",
      "execution_count": 5,
      "id": "474e49cf",
      "metadata": {},
      "outputs": [
        {
          "ename": "AttributeError",
          "evalue": "'str' object has no attribute 'result'",
          "output_type": "error",
          "traceback": [
            "\u001b[1;31m---------------------------------------------------------------------------\u001b[0m",
            "\u001b[1;31mAttributeError\u001b[0m                            Traceback (most recent call last)",
            "Cell \u001b[1;32mIn[5], line 1\u001b[0m\n\u001b[1;32m----> 1\u001b[0m \u001b[39mprint\u001b[39m(\u001b[39m\"\u001b[39m\u001b[39mToday is\u001b[39m\u001b[39m\"\u001b[39m \u001b[39m+\u001b[39m \u001b[39m\"\u001b[39m\u001b[39m \u001b[39m\u001b[39m\"\u001b[39m \u001b[39m+\u001b[39m day\u001b[39m.\u001b[39;49mresult()) \u001b[39m# added the result() method\u001b[39;00m\n",
            "\u001b[1;31mAttributeError\u001b[0m: 'str' object has no attribute 'result'"
          ]
        }
      ],
      "source": [
        "print(\"Today is\" + \" \" + day.result()) # added the result() method"
      ]
    },
    {
      "attachments": {},
      "cell_type": "markdown",
      "id": "8e1648c2",
      "metadata": {},
      "source": [
        "Run the example above to print what day it is today.\n",
        "Now try asking the user what day it is tomorrow, and print the result on the screen. Remember to use the `result()` method and split the lines into their own code cells!"
      ]
    },
    {
      "cell_type": "code",
      "execution_count": null,
      "id": "c0796f01",
      "metadata": {},
      "outputs": [],
      "source": []
    },
    {
      "cell_type": "code",
      "execution_count": null,
      "id": "bef55e65",
      "metadata": {},
      "outputs": [],
      "source": []
    },
    {
      "attachments": {},
      "cell_type": "markdown",
      "id": "aefd2073",
      "metadata": {},
      "source": [
        "**Example 2**\n",
        "\n",
        "\n",
        "Time for some error handling! Run the code cell below and try and figure out what's causing the erorr. How would you fix it?\n",
        "\n",
        "(Hint: read the block about asynchronous code above)"
      ]
    },
    {
      "cell_type": "code",
      "execution_count": null,
      "id": "37a314cc",
      "metadata": {},
      "outputs": [],
      "source": [
        "before_tax = input(\"How much does a milkshake cost? (approximately):\")\n",
        "tax = 1.05\n",
        "total_after_tax = tax * float(before_tax.result()) # note how we use result() here\n",
        "print(\"Your milkshake after tax is \" + \"$\" + str(total_after_tax))"
      ]
    },
    {
      "attachments": {},
      "cell_type": "markdown",
      "id": "50f18f6e",
      "metadata": {},
      "source": [
        "### Exercises"
      ]
    },
    {
      "attachments": {},
      "cell_type": "markdown",
      "id": "5ab0c64e",
      "metadata": {},
      "source": [
        "1. Temperature Conversion Program\n",
        "- Choose if you want to convert from celcius to fahrenheit or fahrenheit to celcius (try writing both!)\n",
        "- Have the user input the temperature (either celcius or fahrenheit)\n",
        "- convert the user input to the other unit of temperature (you can Google the equation!)\n",
        "- print the converted temperature"
      ]
    },
    {
      "cell_type": "code",
      "execution_count": null,
      "id": "d30209cb",
      "metadata": {},
      "outputs": [],
      "source": []
    },
    {
      "attachments": {},
      "cell_type": "markdown",
      "id": "949f3cb2",
      "metadata": {},
      "source": [
        "2. Time Conversion\n",
        "- Choose a unit of time, let's say minutes\n",
        "- Allow the user to input x minutes\n",
        "- Convert and print the number of seconds and hours"
      ]
    },
    {
      "cell_type": "code",
      "execution_count": null,
      "id": "3ee6f797",
      "metadata": {},
      "outputs": [],
      "source": []
    },
    {
      "attachments": {},
      "cell_type": "markdown",
      "id": "6421834b",
      "metadata": {},
      "source": [
        "3. Reverse the string!\n",
        "- The user inputs a string\n",
        "- Print the string reversed\n",
        "- We recommend looking [here to start off](https://www.w3schools.com/python/python_howto_reverse_string.asp )\n"
      ]
    },
    {
      "cell_type": "code",
      "execution_count": null,
      "id": "3d8db348",
      "metadata": {},
      "outputs": [],
      "source": []
    },
    {
      "attachments": {},
      "cell_type": "markdown",
      "id": "e581a1e5",
      "metadata": {},
      "source": [
        "# Feedback Form\n",
        "\n",
        "Please take a moment to provide your thoughts on this Module 1c.\n",
        "\n",
        "[Module 1c (Using and Displaying Data: Print Statements and Inputs) - Feedback form](https://docs.google.com/forms/d/e/1FAIpQLSfI_-IodU6mbMNONS5Qd33Tt4lEGB1s1LKl3x2tv6cs8VOISQ/viewform?usp=sf_link)"
      ]
    }
  ],
  "metadata": {
    "kernelspec": {
      "display_name": "Python 3",
      "language": "python",
      "name": "python3"
    },
    "language_info": {
      "codemirror_mode": {
        "name": "ipython",
        "version": 3
      },
      "file_extension": ".py",
      "mimetype": "text/x-python",
      "name": "python",
      "nbconvert_exporter": "python",
      "pygments_lexer": "ipython3",
      "version": "3.10.4"
    }
  },
  "nbformat": 4,
  "nbformat_minor": 5
}
