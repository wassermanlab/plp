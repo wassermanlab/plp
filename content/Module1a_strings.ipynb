{
 "cells": [
  {
   "attachments": {},
   "cell_type": "markdown",
   "id": "02ffb1f7",
   "metadata": {},
   "source": [
    "# 1a. Strings\n",
    "\n",
    "<aside>\n",
    "📌 Key points: data as information, the string data type\n",
    "</aside>\n",
    "\n",
    "# Introducing Data Types\n",
    "\n",
    "The information stored in a computer is collectively referred to as data. Data can be expressed in many different ways, which we refer to as “types”. Each type looks different and has different rules governing its usage.\n",
    "\n",
    "At the most basic level, computers store data in binary form.\n",
    "\n",
    "![Classic 1s and 0s you might have seen in movies.](images/binary.jpg)\n",
    "\n",
    "Classic 1s and 0s you might have seen in movies.\n",
    "\n",
    "However, this level of data is difficult to read and even harder to program in. Instead, programmers use more abstract forms of data represented in English when reading and writing code. These abstract instructions are then converted into binary by our coding software, which the computer can execute. In this course, we will take a look at four data types: strings, integers, floats, and booleans.\n",
    "\n",
    "# New Data Type: `String`\n",
    "\n",
    "### Intro - how to make a computer speak English\n",
    "\n",
    "![YaleNews_hopper-grace.UNIVAC.102635875-CC_0.jpg](images/gracehopper.jpg)\n",
    "\n",
    "> “They told me computers could only do arithmetic…So I decided data processors ought to be able to write their programs in English, and the computers would translate them into machine code” - Grace Hopper\n",
    "\n",
    "### What is a string?\n",
    "\n",
    "A string is a type of data that looks and reads like plain english. Each string contains a collection of characters that can be made up of letters, numbers, and/or punctuation.\n",
    "\n",
    "![Can you figure out how many characters are in this string?](images/string.png)\n",
    "\n",
    "Can you figure out how many characters are in this string?\n",
    "\n",
    "### Strings in Python\n",
    "\n",
    "In Python, and many other programming languages, strings are enclosed by either single or double quotes. The following are both valid strings."
   ]
  },
  {
   "cell_type": "code",
   "execution_count": 5,
   "id": "eb983697",
   "metadata": {},
   "outputs": [
    {
     "data": {
      "text/plain": [
       "'Goodbye'"
      ]
     },
     "execution_count": 5,
     "metadata": {},
     "output_type": "execute_result"
    }
   ],
   "source": [
    "\"Hello\"\n",
    "\n",
    "'Goodbye'"
   ]
  },
  {
   "attachments": {},
   "cell_type": "markdown",
   "id": "ec2350d5",
   "metadata": {},
   "source": [
    "Strings can contain letters, numbers, and punctuation."
   ]
  },
  {
   "cell_type": "code",
   "execution_count": 6,
   "id": "0406361b",
   "metadata": {},
   "outputs": [
    {
     "data": {
      "text/plain": [
       "'Jeff is eight (8) years old!'"
      ]
     },
     "execution_count": 6,
     "metadata": {},
     "output_type": "execute_result"
    }
   ],
   "source": [
    "\"123 + 8 = 131\"\n",
    "\n",
    "'Jeff is eight (8) years old!'"
   ]
  },
  {
   "attachments": {},
   "cell_type": "markdown",
   "id": "28645880",
   "metadata": {},
   "source": [
    "**A few basic requirements:**\n",
    "\n",
    "- Strings must start and end with the same “type” of quote\n",
    "\n",
    "  ```python\n",
    "  \"Hello\" # correct\n",
    "\n",
    "  'Hello\" # incorrect\n",
    "  ```\n",
    "\n",
    "- Double-quoted strings can only span one line of code.\n",
    "\n",
    "  ```python\n",
    "  \"Hello my name is Alex\" # correct\n",
    "\n",
    "  \"Hello my\n",
    "  name is alex\" # incorrect\n",
    "  ```\n",
    "\n",
    "- Multiline strings are enclosed by three double quotes or three single quotes\n",
    "  ```python\n",
    "    \"\"\"\n",
    "    This\n",
    "    is a multiline\n",
    "    string.\n",
    "    \"\"\"\n",
    "\n",
    "    '''\n",
    "    This\n",
    "    is also a multiline string.\n",
    "    '''\n",
    "    ```\n",
    "- Characters inside a string cannot contain the same type of quote as the type of quote enclosing the entire string. If it does, the interpreter won’t be able to see where the string is supposed to start and where it is supposed to end.\n",
    "  ```python\n",
    "  \"He said \"goodbye\"\"   # incorrect. \n",
    "                        # The interpreter sees “He said “ and “” as two independent strings\n",
    "  \"He said 'goodbye'\"   # correct. \n",
    "                        # The interpreter sees \"He said 'goodbye'\" as a single string. \n",
    "                        # 'goodbye' is part of the string itself\n",
    "  ```\n",
    "\n",
    "**If you try to execute a program with an incorrectly formatted string, it will not run and Python will display an error message. Try running the following code block**"
   ]
  },
  {
   "cell_type": "code",
   "execution_count": 7,
   "id": "5b196534",
   "metadata": {},
   "outputs": [
    {
     "ename": "SyntaxError",
     "evalue": "unterminated string literal (detected at line 1) (2983429064.py, line 1)",
     "output_type": "error",
     "traceback": [
      "\u001b[0;36m  Cell \u001b[0;32mIn[7], line 1\u001b[0;36m\u001b[0m\n\u001b[0;31m    incorrectly_formatted_string = \"hello'\u001b[0m\n\u001b[0m                                   ^\u001b[0m\n\u001b[0;31mSyntaxError\u001b[0m\u001b[0;31m:\u001b[0m unterminated string literal (detected at line 1)\n"
     ]
    }
   ],
   "source": [
    "incorrectly_formatted_string = \"hello' "
   ]
  },
  {
   "attachments": {},
   "cell_type": "markdown",
   "id": "4e422684",
   "metadata": {},
   "source": [
    "You'll notice that this gives a SyntaxError. The error tells you that the string was not properly terminated as it did not find a closing double quotation mark. Errors can tell you a lot about bugs in your code. If you don't understand what the error is, a quick Google search can be helpful!"
   ]
  },
  {
   "attachments": {},
   "cell_type": "markdown",
   "id": "79dd9604",
   "metadata": {},
   "source": [
    "### Escape Character\n",
    "\n",
    "So, what happens when we need to use the same kind of quotation marks in our string?\n",
    "\n",
    "We can tell the interpreter that a quotation mark is part of a string by treating it as a special character rather than their literal value. We do this by writing a backslash “\\” before the quotation mark inside the string."
   ]
  },
  {
   "cell_type": "code",
   "execution_count": null,
   "id": "f7d93ce8",
   "metadata": {},
   "outputs": [],
   "source": [
    "\"they said \"hello\" to james\"   # incorrect\n",
    "\"they said \\\"hello\\\" to james\" # correct"
   ]
  },
  {
   "attachments": {},
   "cell_type": "markdown",
   "id": "f8eaf04c",
   "metadata": {},
   "source": [
    "“\\” is known as the “escape character”. The computer treats it differently than all the other characters in the string. If you want to include an escape character in a string, prefix it with another escape character."
   ]
  },
  {
   "cell_type": "code",
   "execution_count": null,
   "id": "ece85877",
   "metadata": {},
   "outputs": [],
   "source": [
    "\"this is an escape character: \\\"  # incorrect\n",
    "\"this is an escape character: \\\\\" # correct"
   ]
  },
  {
   "attachments": {},
   "cell_type": "markdown",
   "id": "347b1a53",
   "metadata": {},
   "source": [
    "In Module 1c, you'll learn about other uses for the backslash character. These include newlines and tabs... stay tuned!"
   ]
  },
  {
   "attachments": {},
   "cell_type": "markdown",
   "id": "e9147d28",
   "metadata": {},
   "source": [
    "## Exercises:\n",
    "\n",
    "**Converting to Strings**\n",
    "\n",
    "Convert the following data to string format **without deleting anything**. The code should run without error once you have done this successfully"
   ]
  },
  {
   "cell_type": "code",
   "execution_count": 8,
   "id": "df42674f",
   "metadata": {},
   "outputs": [
    {
     "data": {
      "text/plain": [
       "6"
      ]
     },
     "execution_count": 8,
     "metadata": {},
     "output_type": "execute_result"
    }
   ],
   "source": [
    "3 + 3"
   ]
  },
  {
   "cell_type": "code",
   "execution_count": null,
   "id": "d51914bb",
   "metadata": {},
   "outputs": [],
   "source": [
    "ILikeDoughnuts!"
   ]
  },
  {
   "cell_type": "code",
   "execution_count": null,
   "id": "a70cf551",
   "metadata": {},
   "outputs": [],
   "source": [
    "I am 6 feet 10 inches tall"
   ]
  },
  {
   "cell_type": "code",
   "execution_count": null,
   "id": "faf696af",
   "metadata": {},
   "outputs": [],
   "source": [
    "She said \"ouch!\""
   ]
  },
  {
   "cell_type": "code",
   "execution_count": null,
   "id": "9fc64c40",
   "metadata": {},
   "outputs": [],
   "source": [
    "\"Good morning\\\""
   ]
  },
  {
   "attachments": {},
   "cell_type": "markdown",
   "id": "d8014f08",
   "metadata": {},
   "source": [
    "### Challenge exercise"
   ]
  },
  {
   "cell_type": "code",
   "execution_count": null,
   "id": "c03209d7",
   "metadata": {},
   "outputs": [],
   "source": [
    "'beebo went to the market and said 'bo' to the shopkeep who was named \"obeeb\"'"
   ]
  },
  {
   "attachments": {},
   "cell_type": "markdown",
   "id": "18593c6a",
   "metadata": {},
   "source": [
    "There are many things you can do with strings in Python! You can capitalize the first character, convert a string from lowercase to uppercase and vice versa, extract a substring from a string, and much more. Python provides a wide range of string methods that you can explore.\n",
    "\n",
    "If you want to learn more about the available string methods, you can refer to the official Python documentation or check out resources like W3Schools. The following link provides a list of string methods and their explanations: [Python String Methods](https://www.w3schools.com/python/python_ref_string.asp)\n",
    "\n",
    "By utilizing these methods, you can manipulate and transform strings to suit your needs. Happy exploring!\n"
   ]
  },
  {
   "attachments": {},
   "cell_type": "markdown",
   "id": "a74ae7c2",
   "metadata": {},
   "source": [
    "# Feedback Form\n",
    "\n",
    "Please take a moment to provide your thoughts on this Module.\n",
    "\n",
    "[Module 1a (Introduction to Strings) - Feedback form](https://forms.gle/PVF8R1WMNr1hJ8N28)"
   ]
  }
 ],
 "metadata": {
  "kernelspec": {
   "display_name": "Python 3",
   "language": "python",
   "name": "python3"
  },
  "language_info": {
   "codemirror_mode": {
    "name": "ipython",
    "version": 3
   },
   "file_extension": ".py",
   "mimetype": "text/x-python",
   "name": "python",
   "nbconvert_exporter": "python",
   "pygments_lexer": "ipython3",
   "version": "3.10.4"
  }
 },
 "nbformat": 4,
 "nbformat_minor": 5
}
