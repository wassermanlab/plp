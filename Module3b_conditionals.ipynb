{
 "cells": [
  {
   "cell_type": "markdown",
   "id": "9131c57b",
   "metadata": {},
   "source": [
    "# b. Using Conditionals: if, elif, and else statements\n",
    "\n",
    "<aside>\n",
    "📌 **Key points: control flow, structuring conditional statements**\n",
    "\n",
    "</aside>\n",
    "\n",
    "In this module we will explore a conditional, or “control flow” command. A conditional statement is a “switch” in your code that will only perform some specific behaviour if a certain condition is satisfied. The simplest of these commands is the “if” statement.\n",
    "\n",
    "- `if` statements are organized into “blocks”.\n",
    "- Each “block” checks to see if a condition in your code is `True`. If true, one or more lines of code will be executed. If `False`, this code is skipped over.\n",
    "\n",
    "## If, Elif, and Else Statements: **Controlling the “flow” of code**\n",
    "\n",
    "### `if` clause\n",
    "\n",
    "All the code we have written so far has:\n",
    "\n",
    "- executed every single line (there are no “skipped” lines)\n",
    "- produced the same result every time\n",
    "\n",
    "With `if` statements, we can write code that will:\n",
    "\n",
    "- execute a line of code in one circumstance and “skip” it in others\n",
    "- perform different functions based on the data we input\n",
    "\n",
    "`**if` clause syntax:**"
   ]
  },
  {
   "cell_type": "code",
   "execution_count": null,
   "id": "726f5828",
   "metadata": {},
   "outputs": [],
   "source": [
    "x = True\n",
    "\n",
    "if (x):\n",
    "\ty = 1 + 2\n",
    "\tprint(y)"
   ]
  },
  {
   "cell_type": "markdown",
   "id": "d19ee9b8",
   "metadata": {},
   "source": [
    "- If statements can be read like a sentence: “If x is true, do y.” If x is `True`, the code underneath the if statement will be executed. In this case, x is `True` so `y = 1 + 2` will be executed and the number 3 will be printed. If x is `False`, nothing will happen.\n",
    "- Note: The specified condition must result in a boolean data type. Otherwise, the compiler will throw an error message. Try it out yourself!\n",
    "\n",
    "### `else` clause\n",
    "\n",
    "What if we want to run one line of code if x is true, and a different line of code if x is false? One inefficient way to do this would be to include a second “if” statement that only executes if x is false:"
   ]
  },
  {
   "cell_type": "code",
   "execution_count": null,
   "id": "f7326b79",
   "metadata": {},
   "outputs": [],
   "source": [
    "x = 8\n",
    "\n",
    "if (x < 10):                                    # first if statement\n",
    "\tprint(\"input is less than 10\")\n",
    "if (x >= 10):                                   # second if statement\n",
    "\tprint(\"input is greater than or equal to 10\")"
   ]
  },
  {
   "cell_type": "markdown",
   "id": "c3b4e3e7",
   "metadata": {},
   "source": [
    "However, there is a simpler way to implement our desired behaviour by using an `else` operator.\n",
    "\n",
    "`**else` operators:**\n",
    "\n",
    "- are placed at the bottom of an `if` statement “block”\n",
    "- will execute only if all conditionals in the `if` statement “block” above evaluate to false.\n",
    "\n",
    "`**else` clause syntax**:"
   ]
  },
  {
   "cell_type": "code",
   "execution_count": null,
   "id": "b8678a26",
   "metadata": {},
   "outputs": [],
   "source": [
    "x = 12\n",
    "\n",
    "if (x < 10):\n",
    "\tprint(\"input is less than 10\")\n",
    "else:\n",
    "\tprint(\"input is greater than or equal to 10\")"
   ]
  },
  {
   "cell_type": "markdown",
   "id": "9d4ff556",
   "metadata": {},
   "source": [
    "Code involving if-else statements can be read: “if x is true, do y*,* otherwise do z”.\n",
    "\n",
    "### `elif` clause\n",
    "\n",
    "So far, we have seen that `if` and `else` statements can be used to evaluate if a value satisfies a single truth condition. However, what if a value needs to be evaluated against multiple different but related truth conditions?\n",
    "\n",
    "In this case, we would use  `elif` statements to consider multiple conditions of an if/else statement. \n",
    "\n",
    "`elif` **statements:**\n",
    "\n",
    "- have their own associated condition\n",
    "- can be added an arbitrary number of times after an `if` statement but before the `else` statement\n",
    "- will only execute if all the conditional “if” statements above it are false.\n",
    "\n",
    "An elif statement is added between  `if` and `else` statements. The group of statements, referred to as a “block”, will evaluate from top to bottom until one condition produces true or there are no clauses left to evaluate, in which case the `else` statement would be executed. \n",
    "\n",
    "`**elif` clause syntax:**"
   ]
  },
  {
   "cell_type": "code",
   "execution_count": null,
   "id": "8d148db6",
   "metadata": {},
   "outputs": [],
   "source": [
    "month = \"February\"\n",
    "looking_forward_to = \"\"\n",
    "\n",
    "if month == \"December\":               # first if clause\n",
    "\tlooking_forward_to = \"Winter Break\"\n",
    "elif month == \"February\":             # elif clause 1\n",
    "\tlooking_forward_to = \"Valentines Day\"\n",
    "elif month == \"January\":              # elif clause 2\n",
    "\tlooking_forward_to = \"New Years\"\n",
    "else:                                 # else clause\n",
    "\tlooking_forward_to = \"the weekend\"\n",
    "\n",
    "print(\"I am looking forward to \" + lookingForwardTo + \"!\") #print statement"
   ]
  },
  {
   "cell_type": "markdown",
   "id": "3f254fc7",
   "metadata": {},
   "source": [
    "<aside>\n",
    "💡 **Once an if or elif statement evaluates to true, all subsequent elif or else statements in that block will not be evaluated.**\n",
    "\n",
    "</aside>\n",
    "\n",
    "### `elif` vs `else` Clauses\n",
    "\n",
    "- We can think of an else clause as an elif clause that has its conditional set to `True` so that it always executes when reached.\n",
    "- `elif` clauses can evaluate to `True` or `False`. If `True`, the code underneath that elif statement is executed. If `False`, the compiler jumps to the next code block.\n",
    "- `else` clauses are only executed after every code statement above it has evaluated to False.\n",
    "\n",
    "## Structuring Conditional Code\n",
    "\n",
    "Now that we have looked at the basic “block” structure of `if` statements, we can begin to think about how we can organize multiple “blocks” to give our code more complex behavior.\n",
    "\n",
    "There are two main structures we can use to organize `if` “blocks”:\n",
    "\n",
    "1. Chained if statements\n",
    "2. Nested if statements\n",
    "\n",
    "### Chained `if` Statements\n",
    "\n",
    "As mentioned above, each `if` statement defines a single “block” of code that will evaluate from top to bottom until one of its conditionals produces `True` or if there are no clauses left to evaluate. \n",
    "\n",
    "We can refer to multiple adjacent `if` statements as a “chain”:"
   ]
  },
  {
   "cell_type": "code",
   "execution_count": null,
   "id": "792353af",
   "metadata": {},
   "outputs": [],
   "source": [
    "height1 = 150.8\n",
    "height2 = 160.3\n",
    "fiveFeet = 152.4\n",
    "\n",
    "if height1 > fiveFeet:\n",
    "\tprint(\"person1 is \", height1 - fiveFeet, \" cm above five feet tall\")\n",
    "if height2 > fiveFeet:\n",
    "\tprint(\"person 2 is \", height2 - fiveFeet, \" cm above five feet tall\")"
   ]
  },
  {
   "cell_type": "markdown",
   "id": "c1db2dca",
   "metadata": {},
   "source": [
    "Adjacent `if` statements are completely independent of each other, making it possible for the body of each `if` statement to be executed separately. \n",
    "\n",
    "This is useful in situations where we want to make multiple related but independent comparisons. \n",
    "\n",
    "### Nested `If` Statements\n",
    "\n",
    "It also possible to place an `if` statement within the body of another `if` statement. This is called “nesting” code. Nesting `if` statements allow us to make context-dependent comparisons. \n",
    "\n",
    "For example, rain would only be surprising if we were in the desert and not the rainforest. So, we would need to first determine our location before we made a decision about the rarity of the weather."
   ]
  },
  {
   "cell_type": "code",
   "execution_count": null,
   "id": "dc90a7de",
   "metadata": {},
   "outputs": [],
   "source": [
    "biome = \"Desert\"   # assume biome are only \"Desert\" and \"Rainforest\"\n",
    "weather = \"Rain\"   # assume weather can only be \"Rain\", \"Sun\", or \"Dry\"\n",
    "\n",
    "if biome == \"Desert\":                       # asks if biome is \"Desert\"\n",
    "\tif weather == \"Rain\":                     # asks if biome is \"Desert\" and the weather is \"Rain\"\n",
    "\t\tprint (\"This weather is very rare!\")    # if so, prints this line\n",
    "\telse:                                     # if biome is \"Desert\" and weather is not \"Rain\"\n",
    "\t\tprint (\"Hot as usual!\")                 # prints this line \n",
    "else:                                       # asks if biome is other than \"Desert\", in this case our only other option is \"Rainforest\"    \n",
    "\tif weather == \"Rain\":                     # asks if biome is \"Rainforest\" and weather is \"Rain\"\n",
    "\t\tprint (\"This weather is quite common!\") # if so, prints this line\n",
    "\telse:                                     # if biome is \"Rainforest\" and weather is not \"Rain\"\n",
    "\t\tprint (\"The rain has stopped. Hooray!\")\t# prints this line"
   ]
  },
  {
   "cell_type": "markdown",
   "id": "06321783",
   "metadata": {},
   "source": [
    "This code is a little complex but try to break them down into smaller pieces. Reading the comments helps as well!\n",
    "\n",
    "Here is a piece of code with the same behavior that does not require any nested `if` statements:"
   ]
  },
  {
   "cell_type": "code",
   "execution_count": null,
   "id": "c2ee80fd",
   "metadata": {},
   "outputs": [],
   "source": [
    "biome = \"Desert\"   # assume biome are only \"Desert\" and \"Rainforest\"\n",
    "weather = \"Rain\"   # assume weather can only be \"Rain\", \"Sun\", or \"Dry\"\n",
    "\n",
    "if biome == \"Desert\" and weather == \"Rain\":\n",
    "\tprint (\"This weather is very rare!\")\n",
    "elif biome == \"Desert\":\n",
    "\tprint (\"Hot as usual\")\n",
    "elif weather == \"Rain\":\n",
    "\tprint (\"This weather is quite common!\")\n",
    "else:\n",
    "\tprint (\"The rain has stopped. Hooray!\")"
   ]
  },
  {
   "cell_type": "markdown",
   "id": "0ee16628",
   "metadata": {},
   "source": [
    "Now, since we are only using one layer of `if` statements, the code is much simpler and easier to read. 🙂\n",
    "\n",
    "# Unit Project: Does the student pass the course?\n",
    "\n",
    "For this unit project you will be determining if a student passes a course. The course’s marking scheme is as follows:\n",
    "\n",
    "- Midterm: 20%\n",
    "- Final: 40%\n",
    "- Project: 15%\n",
    "- Homework assignments (2): 20% (each assignment is worth 10%)\n",
    "- Participation: 5%\n",
    "\n",
    "Here are a few requirements for your program\n",
    "\n",
    "- A passing grade is ≥50%\n",
    "- The weighted average of the final and midterm must be ≥50%\n",
    "    - (0.20 * midterm_exam_grade + 0.40 * final_exam_grade) / 0.60\n",
    "- You must pass the final exam\n",
    "- You must pass the entire course\n",
    "- If you do better on one assignment, your better assignment will be worth 15% and the worse one worth 5%\n",
    "- A final message telling the student if they passed or not and the percentage they earned for the course\n",
    "    - If they didn’t pass, the message should explain why\n",
    "- If the student’s total grade is ≥50%, but they did not meet at least one of the requirements, their final grade will be capped at 45%\n",
    "- If the student’s total grade is ≤50%, print their total grade\n",
    "- The final grade, weighted MT and final grade, and final exam grade should be rounded to the nearest whole number (49.5 would be rounded to 50 —> Pass) when determining if the student passes (but not during intermediate calculations)\n",
    "\n",
    "# Feedback Form\n",
    "\n",
    "Please take a moment to provide your thoughts on this module.\n",
    "\n",
    "[Module 3b (if, elif, else statements) - Feedback form](https://docs.google.com/forms/d/e/1FAIpQLSe6cDe2fUepFzRyUM81xOjzqxNWRPV5WjfdOoOHp0S9TT3DCA/viewform?usp=sf_link)"
   ]
  }
 ],
 "metadata": {
  "language_info": {
   "name": "python"
  }
 },
 "nbformat": 4,
 "nbformat_minor": 5
}
