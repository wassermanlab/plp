{
  "metadata": {
    "language_info": {
      "codemirror_mode": {
        "name": "python",
        "version": 3
      },
      "file_extension": ".py",
      "mimetype": "text/x-python",
      "name": "python",
      "nbconvert_exporter": "python",
      "pygments_lexer": "ipython3",
      "version": "3.8"
    },
    "kernelspec": {
      "name": "python",
      "display_name": "Python (Pyodide)",
      "language": "python"
    }
  },
  "nbformat_minor": 5,
  "nbformat": 4,
  "cells": [
    {
      "cell_type": "markdown",
      "source": "# 1b. Variables\n\n<aside>\n📌 Key points: What is a variable, writing variables in Python, naming conventions.\n\n</aside>\n\n# Introducing: Variables\n\n### Intro - the first computer program\n\n![Portrait of Ada (c. 1836)](images/Ada-Lovelace.jpg.webp)\n\nPortrait of Ada (c. 1836)\n\n![Portrait of Charles Babbage (c. 1820)](images/British_(English)_School_-_Charles_Babbage_(17921871)_-_814168_-_National_Trust.jpg)\nPortrait of Charles Babbage (c. 1820)\n\n> “Imagination is the Discovering Faculty, pre-eminently. It is that which penetrates into the unseen worlds around us, the worlds of Science.” - Ada Lovelace\n> \n\nAugusta Ada King, Countess of Lovelace, or Ada Lovelace for short, was an early 19th century English mathematician and writer. \n\nShe is perhaps best known for her work with the English polymath Charles Babbage on one of the world’s first computers, called the difference machine, a machine for performing complex mathematical calculations. \n\nAda saw the potential of such a machine to carry out operations beyond numerical calculation and wrote the first computer algorithm for a newer machine called the analytical engine. As a result, she is seen today as the first true computer programmer! \n\n![Part of Charles Babbage’s Difference Machine](images/440px-Difference_engine_plate_1853.jpg)\n\nPart of Charles Babbage’s Difference Machine\n\nTake a look at Ada’s algorithm below. What parts you recognize? How do you think the code is executed? What do you think it’s purpose is? Her code, written in 1840, is very similar to the modern programs that we write in languages like Python today.\n\n![Ada Lovelace’s first program](images/Diagram_for_the_computation_of_Bernoulli_numbers-2.jpg)\n\nAda Lovelace’s first program\n\nNotice that many of the column’s labels include the word “variable”. This concept was one of the core ideas of Ada and Babbage’s work and is a core concept in modern programming.\n\n## What is a variable?\n\nA variable is something that is used to store information. Here are some examples.",
      "metadata": {},
      "id": "03375196"
    },
    {
      "cell_type": "code",
      "source": "animal = \"bat\"                    # this is a **string** data type\n\nis_it_afternoon = True            # this is a **boolean** data type\n\ntemp = -109                       # this is a **integer** data type\n\ndistance_from_sun = 29283.19      # this is a **float** data type\n\n# you'll learn about the different data types in the upcoming modules :)",
      "metadata": {},
      "execution_count": null,
      "outputs": [],
      "id": "aef4ee08"
    },
    {
      "cell_type": "markdown",
      "source": "We give variables unique names that are referenced later on in our code. When referenced, we can use the variable as a stand-in for the data contained by the variable.",
      "metadata": {},
      "id": "a067f8cd"
    },
    {
      "cell_type": "code",
      "source": "animal = \"bat\" \n\n\"Hello \" + \"my favourite animal is a \" + animal    # reference to animal variable ",
      "metadata": {},
      "execution_count": null,
      "outputs": [],
      "id": "ddf5cf39"
    },
    {
      "cell_type": "markdown",
      "source": "While you might not have used variables in the context of computer programming before, you already use them all the time in your daily life.\n\n- In math, x and y are common names for variables that reference a particular number or equation\n- In English, we use “they”, “them”, “he”, “she”, or any other pronouns as variables that can be used to reference particular people\n\nSimilarly, we “assign” some data to a variable in a computer program. After the “assignment”, we can use the variable’s name to reference the stored data.\n\n## Variables in Python\n\nIn Python, we name a variable and assign data to it at the same time.\n\nThe syntax for this is:",
      "metadata": {},
      "id": "871fe6c9"
    },
    {
      "cell_type": "code",
      "source": "name = data",
      "metadata": {},
      "execution_count": null,
      "outputs": [],
      "id": "a6a7ad17"
    },
    {
      "cell_type": "markdown",
      "source": "**Name** always comes first and can be any combination of letters, numbers, and underscores. Names are case-sensitive, so Python will see “name” and “NAME” as two different variables.\n\nThe **data** field can be of any type.\n\nVariables can be re-assigned multiple times to different pieces of data. Re-assigning a variable replaces its previous value.",
      "metadata": {},
      "id": "d47522f0"
    },
    {
      "cell_type": "code",
      "source": "x = \"3\"\n\nprint(x)    # output: 3\n\nx = \"5\"     # the variable x now stores “5” instead of “3”\n\nprint(x)    # output: 5",
      "metadata": {},
      "execution_count": null,
      "outputs": [],
      "id": "e969d1c0"
    },
    {
      "cell_type": "markdown",
      "source": "### Naming Conventions\n\nProgrammers have adopted conventions that, while not necessary to make a program work, make code much easier to read and share with others. Have you noticed that readability and collaboration are very important themes in programming?\n\nA couple adopted conventions for naming your variables:\n\n1. Start all variable names with a lowercase letter or a number\n2. If more than one word is in a variable name, separate words with an underscore. \n\nTry to explain why each of the following follows naming conventions or not!\n\n<aside>\n👍🏼  **Correct naming**\n\nthis_is_a_variable_name\n\ntest_file_small_1\n\ngarage \n\n</aside>\n\n<aside>\n👎🏼 **Incorrect naming**\n\nIncorrect\n\nthis_Is_Incorrect\n\nthis-is-alsoIncorrect\n\n</aside>\n\n## Exercises\n\nCopy each of the following exercises to your Raspberry Pi and complete.\n\n**Exercise 1: Assigning Variables**",
      "metadata": {},
      "id": "addfdb2a"
    },
    {
      "cell_type": "code",
      "source": "# Assign your name, the grade that you're in, and school that you attend to \n# variables named \"name\", \"grade\", and \"school\" (without the quotation marks). \n# Run the program after you have done so. If you successfully assigned all \n# variables, the program should print a short summary about yourself.\n\n# Assign variables here. \n\nname = \n\ngrade = \n\nschool = \n\ndef printSummary():\n    print(\"My name is \" + name + \",\")\n    print(\"and I am in grade \" + grade + \" at \" + school + \".\" )\n\nprintSummary()",
      "metadata": {},
      "execution_count": null,
      "outputs": [],
      "id": "75069b7e"
    },
    {
      "cell_type": "markdown",
      "source": "**Exercise 2: Following Assignment Statements**",
      "metadata": {},
      "id": "0266884d"
    },
    {
      "cell_type": "code",
      "source": "# Consider the following variable assignments. \n# Please follow the instructions below. When you're done, run the code. \n# You should see 5 \"true\" statements printed to the console if correct.\n\nx = \"3\"\ny = \"5\"\nz = \"10\"\n\nx = \"5\"\n# What value does x now contain? Replace ... with your answer.\nx_answer1 = \"...\"\n\ny = x\n# What value do x and y now contain? Replace ... with your answer.\ny_answer1 = \"...\"\nx_answer2 = \"...\"\n\nx = z\n# What value does x now contain? Replace ... with your answer.\nx_answer3 = \"...\"\n\nz = y\nz = x\nx = z\n# What value does z now contain? Replace ... with your answer.\nz_answer1 = \"...\"\n\n# code to check your answers (you can ignore):\nprint(str(bin(ord(x_answer1))) == \"0b110101\")\nprint(str(bin(ord(y_answer1))) == \"0b110101\")\nprint(str(bin(ord(x_answer2))) == \"0b110101\")\nprint((str(bin(ord(x_answer3[0]))) + str(bin(ord(x_answer3[1])))) == \"0b1100010b110000\")\nprint((str(bin(ord(z_answer1[0]))) + str(bin(ord(z_answer1[1])))) == \"0b1100010b110000\")\n",
      "metadata": {},
      "execution_count": null,
      "outputs": [],
      "id": "613d68a2"
    },
    {
      "cell_type": "markdown",
      "source": "# Feedback Form\n\nPlease take a moment to provide your thoughts on this module.\n\n[Module 1a (Introduction to Variables & Strings) - Feedback form](https://forms.gle/yVkU8mxvb6ZbVmWb6)",
      "metadata": {},
      "id": "54e9529f"
    }
  ]
}