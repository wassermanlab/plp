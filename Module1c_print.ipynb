{
  "metadata": {
    "language_info": {
      "codemirror_mode": {
        "name": "python",
        "version": 3
      },
      "file_extension": ".py",
      "mimetype": "text/x-python",
      "name": "python",
      "nbconvert_exporter": "python",
      "pygments_lexer": "ipython3",
      "version": "3.8"
    },
    "kernelspec": {
      "name": "python",
      "display_name": "Python (Pyodide)",
      "language": "python"
    }
  },
  "nbformat_minor": 5,
  "nbformat": 4,
  "cells": [
    {
      "cell_type": "markdown",
      "source": "# 1c. Print Statements and Inputs\n\n# Chapter Summary\n\n- [Print Statements](https://www.notion.so/b-Print-Statements-and-Inputs-f5bf9c009e2f41f1989b7a392a7ab6ef)\n- [Concatenation of Strings](https://www.notion.so/b-Print-Statements-and-Inputs-f5bf9c009e2f41f1989b7a392a7ab6ef)\n- [Inputting Values](https://www.notion.so/b-Print-Statements-and-Inputs-f5bf9c009e2f41f1989b7a392a7ab6ef)\n\n# Print Statements\n\n- Previously, we learned about how different values of strings can be assigned to variable names, such as: `name = “John”` or `name = 'John'`\n- We know that the computer knows that, but how would other people see the name that you assigned to the variable?\n- A great way to display things on the *console* (area where any outputs will be shown) is to use something called **print statements**\n- For example, copy these lines of code into your IDE and run it to see what shows up:",
      "metadata": {},
      "id": "7543fb1c"
    },
    {
      "cell_type": "code",
      "source": "print(\"Hello World\")",
      "metadata": {},
      "execution_count": null,
      "outputs": [],
      "id": "f032fc03"
    },
    {
      "cell_type": "code",
      "source": "print('The weather is rainy again today')",
      "metadata": {},
      "execution_count": null,
      "outputs": [],
      "id": "c344fe89"
    },
    {
      "cell_type": "markdown",
      "source": "- We can see how the text we have entered inside the quotation marks (””) or apostrophes (’’) end up getting displayed in our IDE, called the *console*\n\n## Syntax\n\n- Try implementing your own `print` statements using the following syntax:",
      "metadata": {},
      "id": "83b33dfb"
    },
    {
      "cell_type": "code",
      "source": "print(\"text goes here\")",
      "metadata": {},
      "execution_count": null,
      "outputs": [],
      "id": "68e3a4b5"
    },
    {
      "cell_type": "code",
      "source": "print('text goes here')",
      "metadata": {},
      "execution_count": null,
      "outputs": [],
      "id": "a3428d40"
    },
    {
      "cell_type": "markdown",
      "source": "- For the statement to display properly, there must be a pair of quotation marks `''` or apostrophes `\"\"` surrounding what you would like to print\n- You can also input nothing into the print statement, which creates a new line space, similar to if you hit enter for a new paragraph on a text editor — try this out!",
      "metadata": {},
      "id": "c3937ad0"
    },
    {
      "cell_type": "code",
      "source": "# prints a blank line\n\nprint()",
      "metadata": {},
      "execution_count": null,
      "outputs": [],
      "id": "b3d7a869"
    },
    {
      "cell_type": "code",
      "source": "# you can see the space between \"Hello\" and \"World\" \n\nprint(\"Hello\")\nprint()\nprint(\"World\")",
      "metadata": {},
      "execution_count": null,
      "outputs": [],
      "id": "af5881e7"
    },
    {
      "cell_type": "markdown",
      "source": "- Using what we’ve learned about variables in the previous module, we can even declare a string variable, store a message, and use the variable name to print it out!",
      "metadata": {},
      "id": "24a17a96"
    },
    {
      "cell_type": "code",
      "source": "message = \"This whole message can be printed by just typing in the variable name\"\nanother_message = 'Try this out yourself!'\n\nprint(message)\nprint(another_message)",
      "metadata": {},
      "execution_count": null,
      "outputs": [],
      "id": "494cc194"
    },
    {
      "cell_type": "markdown",
      "source": "## Exercises\n\n- Create some print statements that introduce yourself! Write your name, what grade you’re\nin, and any hobbies/interests\n    - If you’re stuck, you can try out this template to give yourself a start.",
      "metadata": {},
      "id": "b0e17639"
    },
    {
      "cell_type": "code",
      "source": "print(\"Hi everyone! My name is ________\")\nprint(\"I'm in grade ___ and I like to do __________ in my free time\")",
      "metadata": {},
      "execution_count": null,
      "outputs": [],
      "id": "d7efdaf8"
    },
    {
      "cell_type": "markdown",
      "source": "- Try putting some of these values in variables and then using the variable names in your introduction message. Are you able to create the same print outputs?\n- What do you think the advantage of putting things in variables is versus writing everything out?\n\n## String Formatting\n\n- Along with letters and numbers, we might want to be able to format our strings in different ways, like adding new lines or new spaces without manually doing these things in our print statements\n- Additionally, what do we do if we want to use quotation marks in our `print` statement?\n    - Try printing a message that contains quotations marks, see what happens\n    - You will notice that an error message is given, since python uses quotations as a special character to declare strings!\n- In order to use special characters and add new lines/spaces, we need to use the escape character `\\` in our strings to have it print out what we would like:\n\n| String Formatting | Special Character | Usage Example | Output Example |\n| --- | --- | --- | --- |\n| New Line  | \\n | “123\\n45” | 123\n45 |\n| Tab Space | \\t | \"123\\t45” | 123        45 |\n| Backslash | \\\\ | \"123\\\\45” | 123\\45 |\n| Quotation | \\” | \"123\\”Hello\\”45” | 122”Hello”45 |\n| Multiple Lines | “” and “” | “Hello”\n”World” | Hello\nWorld |\n- If we want our strings to span multiple lines, we can enclose each line in its own double quote, for example:",
      "metadata": {},
      "id": "50d2ca67"
    },
    {
      "cell_type": "code",
      "source": "# strings can span multiple lines\n\nprint(\"You can break up long strings\"\n      \" into multiple lines, but \"\n        \"remember to include spaces\")",
      "metadata": {},
      "execution_count": null,
      "outputs": [],
      "id": "5a6ae6c7"
    },
    {
      "cell_type": "code",
      "source": "# combining ' and \" to print\n\nprint('\"This will show as a quote\"')\nprint(\"'This will show in apostrophes'\")\nprint(\"\\\"Using escape before works too\\\"\")",
      "metadata": {},
      "execution_count": null,
      "outputs": [],
      "id": "4efc463d"
    },
    {
      "cell_type": "markdown",
      "source": "## Exercises\n\n- Need to add Samuel’s previous exercises that cannot be accessed\n\n# Concatenation of Strings\n\n- When we merge two strings together, we call this string concatenation\n- There are many ways to combine strings together to print out word combinations or even create entirely new strings that can be stored in different variables!\n- We can use different operators to concatenate strings. Try running the following blocks of code and explain what they do. If you encounter any errors, try to explain why.",
      "metadata": {},
      "id": "41530c0b"
    },
    {
      "cell_type": "code",
      "source": "print(\"Hello \" + \"World\")",
      "metadata": {},
      "execution_count": null,
      "outputs": [],
      "id": "6d24d19d"
    },
    {
      "cell_type": "code",
      "source": "str1=\"Hello\"\nstr2=\"World\"\n\nstr=str1+str2\n\nprint(str)",
      "metadata": {},
      "execution_count": null,
      "outputs": [],
      "id": "1193c59e"
    },
    {
      "cell_type": "code",
      "source": "print(\"Hi\"*4)",
      "metadata": {},
      "execution_count": null,
      "outputs": [],
      "id": "34ffa461"
    },
    {
      "cell_type": "code",
      "source": "print(5 + \"1\")",
      "metadata": {},
      "execution_count": null,
      "outputs": [],
      "id": "5409b504"
    },
    {
      "cell_type": "markdown",
      "source": "# The `input()` function\n\n- The `input()` function is one of Python’s many built-in functions\n- It allows user input\n- The syntax of the function is `input(*prompt*)` where the prompt is a `String`\n- Take a look at the following examples\n\n**Example 1**",
      "metadata": {},
      "id": "399a166a"
    },
    {
      "cell_type": "code",
      "source": "day = input(\"What day is it today?:\")\nprint(\"Today is\" + \" \" + day)",
      "metadata": {},
      "execution_count": null,
      "outputs": [],
      "id": "9d86eef5"
    },
    {
      "cell_type": "markdown",
      "source": "**Example 2**",
      "metadata": {},
      "id": "aefd2073"
    },
    {
      "cell_type": "code",
      "source": "before_tax = input(\"How much does a milkshake cost? (approximately):\")\ntax = 1.05\ntotal_after_tax = tax * float(before_tax)\nprint(\"Your milkshake after tax is \" + \"$\" str(total_after_tax))",
      "metadata": {},
      "execution_count": null,
      "outputs": [],
      "id": "37a314cc"
    },
    {
      "cell_type": "markdown",
      "source": "### **Exercise: Total after Tax**\n\n- We will be building on example 2 in this exercise.\n- Lets say a milkshake costs `$8.11`, but if we input that number, we will notice that after tax, the milkshake would cost `$8.5155`! Have you ever paid x.xxxx amount?\n- Then try to value `$0`. You’ll notice that it only has one decimal place, but what if we wanted to keep it to two decimal places?\n- Lets ensure that our total cost is rounded to two decimal places and has exactly two decimal places using the `str.format()` built-in function. You learn how to use it [here](https://www.adamsmith.haus/python/answers/how-to-print-a-float-with-two-decimal-places-in-python).\n\n# Feedback Form\n\nPlease take a moment to provide your thoughts on this Module 1a.\n\n[Module 1b (Using and Displaying Data: Print Statements and Inputs) - Feedback form](https://docs.google.com/forms/d/e/1FAIpQLSfI_-IodU6mbMNONS5Qd33Tt4lEGB1s1LKl3x2tv6cs8VOISQ/viewform?usp=sf_link)",
      "metadata": {},
      "id": "e581a1e5"
    },
    {
      "cell_type": "code",
      "source": "",
      "metadata": {},
      "execution_count": null,
      "outputs": [],
      "id": "2b2c3f0c-62ab-4174-955b-e0a072f2210d"
    }
  ]
}