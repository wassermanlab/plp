{
  "metadata": {
    "language_info": {
      "codemirror_mode": {
        "name": "python",
        "version": 3
      },
      "file_extension": ".py",
      "mimetype": "text/x-python",
      "name": "python",
      "nbconvert_exporter": "python",
      "pygments_lexer": "ipython3",
      "version": "3.8"
    },
    "kernelspec": {
      "name": "python",
      "display_name": "Python (Pyodide)",
      "language": "python"
    }
  },
  "nbformat_minor": 4,
  "nbformat": 4,
  "cells": [
    {
      "cell_type": "markdown",
      "source": "# Intro to Jupyter Notebooks\n\nIn this tutorial you will learn about the basics of Jupyter Notebooks and JupyterLite.\n",
      "metadata": {}
    },
    {
      "cell_type": "markdown",
      "source": "## Jupyter Notebooks vs JupyterLite\n\n### Jupyter Notebooks \n- \"A notebook integrates code and its output into a single document that combines visualizations, narrative text, mathematical equations, and other rich media. \n- In other words: it’s a **single document where you can run code, display the output, and also add explanations, formulas, charts, and make your work more transparent, understandable, repeatable, and shareable**.\"\n\nFrom: https://www.dataquest.io/blog/jupyter-notebook-tutorial/ \n\n### JupyterLite\n- JupyterLite is a reboot of several attempts at making a full static Jupyter distribution that **runs in the browser, without having to start the Python Jupyter Server on the host machine, usually done by running jupyter lab or jupyter notebook in a terminal**.\n\n- The goal of the project is to provide a lightweight computing environment accessible in a matter of seconds with a single click, in a web browser, and without having to install anything on the end-user device.\n\nFrom: https://blog.jupyter.org/jupyterlite-jupyter-%EF%B8%8F-webassembly-%EF%B8%8F-python-f6e2e41ab3fa\n",
      "metadata": {}
    },
    {
      "cell_type": "markdown",
      "source": "## Markdown Cell\n\nJupyter Notebooks use Markdown cells to format text. Try running (by clicking on the 'Run' button) this cell and see what it does!\n\n### Heading 3\n##### Heading 5\n\n*Italic* <br>\n**bold** <br>\n***italic and bold***\n\n1. this\n2. is \n3. a\n4. numbered\n5. list\n\n```\n# code block\nprint(\"Hello, world\")\n\n```\nFor more examples of Markdown formatting, check out the link [here](https://commonmark.org/help/) or [here(more detailed)](https://notebook.community/tschinz/iPython_Workspace/00_Admin/CheatSheet/Markdown%20CheatSheet). We recommend playing around with different formatting!",
      "metadata": {}
    },
    {
      "cell_type": "markdown",
      "source": "## Code blocks\n\nYou can also use 'Code' blocks to add Python code to your notebook\n\nClick on the 'Insert cell' button and make sure the cell type is 'Code'\nThe code block below demonstrates how a Code cell can be used to run a simple Python statement",
      "metadata": {}
    },
    {
      "cell_type": "code",
      "source": "print('Hello World')",
      "metadata": {
        "trusted": true
      },
      "execution_count": 1,
      "outputs": [
        {
          "name": "stdout",
          "text": "Hello World\n",
          "output_type": "stream"
        }
      ]
    },
    {
      "cell_type": "code",
      "source": "Click on the Run button to execute it\n(todo: insert  image)\n![](image.png)\n",
      "metadata": {
        "trusted": true
      },
      "execution_count": null,
      "outputs": []
    },
    {
      "cell_type": "code",
      "source": "import random\n\nfor i in range(0, 5):\n     print(random.randint(1, 10))\n",
      "metadata": {
        "trusted": true
      },
      "execution_count": null,
      "outputs": []
    },
    {
      "cell_type": "code",
      "source": "# importing matplotlib module \nfrom matplotlib import pyplot as plt\n  \n# x-axis values\nx = [5, 2, 9, 4, 7]\n  \n# Y-axis values\ny = [10, 5, 8, 4, 2]\n  \n# Function to plot\nplt.plot(x,y)\n\nfig= plt.figure()\n\naxes= fig.add_axes([0,0,1,1])\n\naxes.plot(x,y, color='purple')\n  \n# function to show the plot\nplt.show()\n",
      "metadata": {
        "trusted": true
      },
      "execution_count": 16,
      "outputs": [
        {
          "output_type": "display_data",
          "data": {
            "text/plain": "<pyolite.display.Image at 0x48ffcd0>",
            "image/png": "[encoded data removed]"
          },
          "metadata": {}
        }
      ]
    },
    {
      "cell_type": "markdown",
      "source": "",
      "metadata": {}
    },
    {
      "cell_type": "markdown",
      "source": "The code above shows how you can change the color of the graph",
      "metadata": {}
    },
    {
      "cell_type": "code",
      "source": "str1=\"Hello\"\nstr2=\"World\"\n\nstr = str1 + \" \" + str2\n\nprint(str)\n",
      "metadata": {
        "trusted": true
      },
      "execution_count": 2,
      "outputs": [
        {
          "name": "stdout",
          "text": "Hello World\n",
          "output_type": "stream"
        }
      ]
    },
    {
      "cell_type": "markdown",
      "source": "You notice the space between Hello and World in the printed version",
      "metadata": {}
    },
    {
      "cell_type": "code",
      "source": "# arithmetic example",
      "metadata": {
        "trusted": true
      },
      "execution_count": 1,
      "outputs": []
    },
    {
      "cell_type": "markdown",
      "source": "## Some other things to know\n- if you'd like to reset your notebook, you can click on *Kernel -> Restart Kernel*, which will reset your notebook and remove all variables or methods you've defined\n- you can run the whole notebook by clicking on *Run -> Run All Cells*",
      "metadata": {}
    },
    {
      "cell_type": "markdown",
      "source": "Congratulations on learning the basics of JupyterNotebook! You'll feel more comfortable with using this platform as you try out examples and write your own code! ",
      "metadata": {}
    },
    {
      "cell_type": "markdown",
      "source": "link to module 8",
      "metadata": {}
    }
  ]
}