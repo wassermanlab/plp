{
  "metadata": {
    "language_info": {
      "codemirror_mode": {
        "name": "python",
        "version": 3
      },
      "file_extension": ".py",
      "mimetype": "text/x-python",
      "name": "python",
      "nbconvert_exporter": "python",
      "pygments_lexer": "ipython3",
      "version": "3.8"
    },
    "kernelspec": {
      "name": "python",
      "display_name": "Python (Pyodide)",
      "language": "python"
    }
  },
  "nbformat_minor": 5,
  "nbformat": 4,
  "cells": [
    {
      "cell_type": "markdown",
      "source": "# Introduction to Variables: Number Data Types\n\n# New Data Type: `int`s and `float`s\n\n- In the last module we introduced `str`(strings),  which are messages surrounded by quotation marks that represent text\n- What if instead of words or text, we wanted to represent a number, like 0, 100, or 3.14?\n- Python stores its numbers in many different types — we'll be exploring two of those: `int` and `float`\n\n## `int` Data Type\n\n### What is an `int`?\n\n- `int`s, also known as an integer, represent non-decimal numbers\n- Unlike `str`, they do not need to be surrounded by quotation marks and can simply be left on their own\n\n### Examples of the `int` Data Type",
      "metadata": {},
      "id": "90d0843f"
    },
    {
      "cell_type": "code",
      "source": "3\n0\n-10\n456123911235",
      "metadata": {},
      "execution_count": null,
      "outputs": [],
      "id": "a5afe1ab"
    },
    {
      "cell_type": "markdown",
      "source": "In fact, just like with `str` we can assign data of type `int` to a variable",
      "metadata": {},
      "id": "7126cb8e"
    },
    {
      "cell_type": "code",
      "source": "x = 3\ny = 0\ndegrees_in_celsius = -10\nburgers_eaten = 456123911235",
      "metadata": {},
      "execution_count": null,
      "outputs": [],
      "id": "0ffd1f96"
    },
    {
      "cell_type": "markdown",
      "source": "## `float` Data Type\n\n### What is a `float`?\n\n- `float`s represent all numbers, including decimal numbers\n\n### Examples of the `float` Data Type\n\nFor example, the following are data of `float` type:",
      "metadata": {},
      "id": "c0cc2f1d"
    },
    {
      "cell_type": "code",
      "source": "x = 3.0\ny = 0.00\ndegrees_in_celsius = -10.48129982\npizza_slices_eaten = 456123911235.2",
      "metadata": {},
      "execution_count": null,
      "outputs": [],
      "id": "ffe10d66"
    },
    {
      "cell_type": "markdown",
      "source": "### Exercise:\n\nWhich of the following are `int`s? Which are `float`s?",
      "metadata": {},
      "id": "f7baacf1"
    },
    {
      "cell_type": "code",
      "source": "a = 4.5\nb = 4.0\nc = 4\nd = \"2.9\"\ne = -4.5\nf = -4",
      "metadata": {},
      "execution_count": null,
      "outputs": [],
      "id": "4fd04f5c"
    },
    {
      "cell_type": "markdown",
      "source": "# Casting\n\n### Why use casting?\n\n- As a motivating example, consider a program that takes in two different numbers as inputs and prints their sum\n- We might write something like this:",
      "metadata": {},
      "id": "5eb5b4ff"
    },
    {
      "cell_type": "code",
      "source": "num_1 = input(\"Enter one number: \")\nnum_2 = input(\"Enter another number: \")\nprint(num_1 + num_2)\n\n### Exercise:\nWhat is the data type of `num_1` and `num_2`?",
      "metadata": {},
      "execution_count": null,
      "outputs": [],
      "id": "c708e4a7"
    },
    {
      "cell_type": "markdown",
      "source": "- So if we put in `3` and `4`, we should get back  `7` as our sum right?",
      "metadata": {},
      "id": "71de9fa6"
    },
    {
      "cell_type": "code",
      "source": ">>> Enter one number: 3\n>>> Enter another number: 4\n'34'\n\n- No! What did we do wrong?\n- Remember that to add numbers, we need them to be of a number data type, either an `int` or a `float`\n- We can use the function `type()` around a variable (or data) to see what type it is!\n\n>>> type(num_1)\n<class 'str'>\n>>> type(num_2)\n<class 'str'>\n\n- So because our variables are a `string` type, we can't add the two numbers together\n- Instead, we are performing **concatenation**  —  the action of combining strings\n- So how can we add the two inputs?\n- Let’s turn them into `int`s, or in other words, **cast them into `int`s.**",
      "metadata": {},
      "execution_count": null,
      "outputs": [],
      "id": "329a5c63"
    },
    {
      "cell_type": "markdown",
      "source": "## Casting\n\n- Casting is the process of transforming data from one variable type to another\n- In Python, we cast to a specific type using the format `data_type(data)`\n\n### Exercise\n\nTry running the following code. What data type is the code going to and from?",
      "metadata": {},
      "id": "a74fae82"
    },
    {
      "cell_type": "code",
      "source": ">>> int(2)   \n\n>>> int(\"2\") \n\n>>> int(2.9) ",
      "metadata": {},
      "execution_count": null,
      "outputs": [],
      "id": "489f0f31"
    },
    {
      "cell_type": "markdown",
      "source": "- If we try casting our variables to `int` and check the type, we see",
      "metadata": {},
      "id": "844b1920"
    },
    {
      "cell_type": "code",
      "source": ">>> type(int(num_1))\n<class 'int'>\n>>> type(int(num_2))\n<class 'int'>",
      "metadata": {},
      "execution_count": null,
      "outputs": [],
      "id": "ac08e9dc"
    },
    {
      "cell_type": "markdown",
      "source": "- We can also cast individual data before being assigned to variables, so to fix our original code we can cast the input to an `int` before assigning it to a variable",
      "metadata": {},
      "id": "4d9d5b92"
    },
    {
      "cell_type": "code",
      "source": "num_1 = int(input(\"Enter one number: \"))\nnum_2 = int(input(\"Enter another number: \"))\nprint(num_1 + num_2)",
      "metadata": {},
      "execution_count": null,
      "outputs": [],
      "id": "c598e59c"
    },
    {
      "cell_type": "markdown",
      "source": "## Different forms of casting\n\n- Based on the different data types we’ve seen so far, we can change the variable type in different ways\n\n### `str()`\n\n- Changing from the number to string representation is easy!\n- If we pass in the number it just changes it to a string, essentially adding quotation marks to all the numbers",
      "metadata": {},
      "id": "b243c516"
    },
    {
      "cell_type": "code",
      "source": ">>> str(3)\n'3'\n>>> str(3.14)\n'3.14'",
      "metadata": {},
      "execution_count": null,
      "outputs": [],
      "id": "d565c293"
    },
    {
      "cell_type": "markdown",
      "source": "### `float()`\n\n- If you are casting from an `int` to a `float`, it simply adds a decimal point and a 0 at the end",
      "metadata": {},
      "id": "810c5344"
    },
    {
      "cell_type": "code",
      "source": ">>> float(3)\n3.0",
      "metadata": {},
      "execution_count": null,
      "outputs": [],
      "id": "1510fac9"
    },
    {
      "cell_type": "markdown",
      "source": "- If you are casting from a `str` to a `float`, it’ll get rid of the quotation marks",
      "metadata": {},
      "id": "e930b1c7"
    },
    {
      "cell_type": "code",
      "source": ">>> float('3')\n3.0\n\n>>> float('3.4')\n3.4",
      "metadata": {},
      "execution_count": null,
      "outputs": [],
      "id": "b786ebac"
    },
    {
      "cell_type": "markdown",
      "source": "- But be careful, if the contents contain anything that makes it not possible to be a float, Python will run into an error!",
      "metadata": {},
      "id": "63608308"
    },
    {
      "cell_type": "code",
      "source": ">>> float('hi')\nTraceback (most recent call last):\n  File \"<stdin>\", line 1, in <module>\nValueError: could not convert string to float: 'hi'",
      "metadata": {},
      "execution_count": null,
      "outputs": [],
      "id": "17e1e445"
    },
    {
      "cell_type": "markdown",
      "source": "### `int()`\n\n- If you are casting from a `float` to an `int`, Python just cuts off everything from the decimal point onwards, meaning all the numbers would be rounded down",
      "metadata": {},
      "id": "10964e4d"
    },
    {
      "cell_type": "code",
      "source": ">>> int(3.14)\n3",
      "metadata": {},
      "execution_count": null,
      "outputs": [],
      "id": "4d343dc8"
    },
    {
      "cell_type": "markdown",
      "source": "- Casting from a `str` to an `int` is similar to that of a  `str` to a `float`, but your string needs to only include digits to be casted successfully",
      "metadata": {},
      "id": "5a4cdc91"
    },
    {
      "cell_type": "code",
      "source": ">>> int('3')\n3\n\n>>> int('3.0')\nTraceback (most recent call last):\n  File \"<stdin>\", line 1, in <module>\nValueError: invalid literal for int() with base 10: '3.0'\n\n>>> int('hi')\nTraceback (most recent call last):\n  File \"<stdin>\", line 1, in <module>\nValueError: invalid literal for int() with base 10: 'hi'",
      "metadata": {},
      "execution_count": null,
      "outputs": [],
      "id": "ec9f42b2"
    },
    {
      "cell_type": "markdown",
      "source": "# Project: Calculator\n\n**Step 1:** Ask for 3 inputs and store them in 3 separate variables: the first number, the second number, and the operator \n\n**Step 2:** Calculate the value using `eval()`. You learn how to use it [here](https://www.programiz.com/python-programming/methods/built-in/eval)\n\n**Step 3:** Print back their evaluated number in the form of an equation.\n\nExamples of your calculator:\n\n| first number | second number | operator | output |\n| --- | --- | --- | --- |\n| 1 | 2 | + | 1 + 2 = 3 |\n| 100 |  0.5 | * | 100 * 0.5 = 50.0 |\n\n# Feedback Form\n\nPlease take a moment to provide your thoughts on this module.\n\n[Module 2 (Number data types) - Feedback form](https://docs.google.com/forms/d/e/1FAIpQLSdQEOcTyQP3hMC_8hOWPoAxNtIZawz2Yq6i37NL-m5K30y5Lw/viewform?usp=sf_link)",
      "metadata": {},
      "id": "0dbae461"
    }
  ]
}