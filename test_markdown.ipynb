{
 "cells": [
  {
   "cell_type": "markdown",
   "id": "48601d64",
   "metadata": {},
   "source": [
    "# b. Print Statements and Inputs\n",
    "\n",
    "# Chapter Summary\n",
    "\n",
    "- [Print Statements](https://www.notion.so/b-Print-Statements-and-Inputs-f5bf9c009e2f41f1989b7a392a7ab6ef)\n",
    "- [Concatenation of Strings](https://www.notion.so/b-Print-Statements-and-Inputs-f5bf9c009e2f41f1989b7a392a7ab6ef)\n",
    "- [Inputting Values](https://www.notion.so/b-Print-Statements-and-Inputs-f5bf9c009e2f41f1989b7a392a7ab6ef)\n",
    "\n",
    "# Print Statements\n",
    "\n",
    "- Previously, we learned about how different values of strings can be assigned to variable names, such as: `name = “John”` or `name = 'John'`\n",
    "- We know that the computer knows that, but how would other people see the name that you assigned to the variable?\n",
    "- A great way to display things on the *console* (area where any outputs will be shown) is to use something called **print statements**\n",
    "- For example, copy these lines of code into your IDE and run it to see what shows up:"
   ]
  },
  {
   "cell_type": "code",
   "execution_count": null,
   "id": "c48c3929",
   "metadata": {},
   "outputs": [],
   "source": [
    "print(\"Hello World\")"
   ]
  },
  {
   "cell_type": "code",
   "execution_count": null,
   "id": "a37d2d93",
   "metadata": {},
   "outputs": [],
   "source": [
    "print('The weather is rainy again today')"
   ]
  },
  {
   "cell_type": "markdown",
   "id": "d1754787",
   "metadata": {},
   "source": [
    "- We can see how the text we have entered inside the quotation marks (””) or apostrophes (’’) end up getting displayed in our IDE, called the *console*\n",
    "\n",
    "## Syntax\n",
    "\n",
    "- Try implementing your own `print` statements using the following syntax:"
   ]
  },
  {
   "cell_type": "code",
   "execution_count": null,
   "id": "7bbf6d7c",
   "metadata": {},
   "outputs": [],
   "source": [
    "print(\"text goes here\")"
   ]
  },
  {
   "cell_type": "code",
   "execution_count": null,
   "id": "976e242c",
   "metadata": {},
   "outputs": [],
   "source": [
    "print('text goes here')"
   ]
  },
  {
   "cell_type": "markdown",
   "id": "cf662a33",
   "metadata": {},
   "source": [
    "- For the statement to display properly, there must be a pair of quotation marks `''` or apostrophes `\"\"` surrounding what you would like to print\n",
    "- You can also input nothing into the print statement, which creates a new line space, similar to if you hit enter for a new paragraph on a text editor — try this out!"
   ]
  },
  {
   "cell_type": "code",
   "execution_count": null,
   "id": "64cdd075",
   "metadata": {},
   "outputs": [],
   "source": [
    "# prints a blank line\n",
    "\n",
    "print()"
   ]
  },
  {
   "cell_type": "code",
   "execution_count": null,
   "id": "a8122fc3",
   "metadata": {},
   "outputs": [],
   "source": [
    "# you can see the space between \"Hello\" and \"World\" \n",
    "\n",
    "print(\"Hello\")\n",
    "print()\n",
    "print(\"World\")"
   ]
  },
  {
   "cell_type": "markdown",
   "id": "f20ac444",
   "metadata": {},
   "source": [
    "- Using what we’ve learned about variables in the previous module, we can even declare a string variable, store a message, and use the variable name to print it out!"
   ]
  },
  {
   "cell_type": "code",
   "execution_count": null,
   "id": "4bca5e7a",
   "metadata": {},
   "outputs": [],
   "source": [
    "message = \"This whole message can be printed by just typing in the variable name\"\n",
    "another_message = 'Try this out yourself!'\n",
    "\n",
    "print(message)\n",
    "print(another_message)"
   ]
  },
  {
   "cell_type": "markdown",
   "id": "852e0db6",
   "metadata": {},
   "source": [
    "## Exercises\n",
    "\n",
    "- Create some print statements that introduce yourself! Write your name, what grade you’re\n",
    "in, and any hobbies/interests\n",
    "    - If you’re stuck, you can try out this template to give yourself a start."
   ]
  },
  {
   "cell_type": "code",
   "execution_count": null,
   "id": "a4d7436c",
   "metadata": {},
   "outputs": [],
   "source": [
    "```python\n",
    "print(\"Hi everyone! My name is ________\")\n",
    "print(\"I'm in grade ___ and I like to do __________ in my free time\")\n",
    "```"
   ]
  },
  {
   "cell_type": "markdown",
   "id": "c5374be6",
   "metadata": {},
   "source": [
    "- Try putting some of these values in variables and then using the variable names in your introduction message. Are you able to create the same print outputs?\n",
    "- What do you think the advantage of putting things in variables is versus writing everything out?\n",
    "\n",
    "## String Formatting\n",
    "\n",
    "- Along with letters and numbers, we might want to be able to format our strings in different ways, like adding new lines or new spaces without manually doing these things in our print statements\n",
    "- Additionally, what do we do if we want to use quotation marks in our `print` statement?\n",
    "    - Try printing a message that contains quotations marks, see what happens\n",
    "    - You will notice that an error message is given, since python uses quotations as a special character to declare strings!\n",
    "- In order to use special characters and add new lines/spaces, we need to use the escape character `\\` in our strings to have it print out what we would like:\n",
    "\n",
    "| String Formatting | Special Character | Usage Example | Output Example |\n",
    "| --- | --- | --- | --- |\n",
    "| New Line  | \\n | “123\\n45” | 123\n",
    "45 |\n",
    "| Tab Space | \\t | \"123\\t45” | 123        45 |\n",
    "| Backslash | \\\\ | \"123\\\\45” | 123\\45 |\n",
    "| Quotation | \\” | \"123\\”Hello\\”45” | 122”Hello”45 |\n",
    "| Multiple Lines | “” and “” | “Hello”\n",
    "”World” | Hello\n",
    "World |\n",
    "- If we want our strings to span multiple lines, we can enclose each line in its own double quote, for example:"
   ]
  },
  {
   "cell_type": "code",
   "execution_count": null,
   "id": "4348259d",
   "metadata": {},
   "outputs": [],
   "source": [
    "# strings can span multiple lines\n",
    "\n",
    "print(\"You can break up long strings\"\n",
    "      \" into multiple lines, but \"\n",
    "\t\t\t\"remember to include spaces\")"
   ]
  },
  {
   "cell_type": "code",
   "execution_count": null,
   "id": "d897560f",
   "metadata": {},
   "outputs": [],
   "source": [
    "# combining ' and \" to print\n",
    "\n",
    "print('\"This will show as a quote\"')\n",
    "print(\"'This will show in apostrophes'\")\n",
    "print(\"\\\"Using escape before works too\\\"\")"
   ]
  },
  {
   "cell_type": "markdown",
   "id": "4c3488e9",
   "metadata": {},
   "source": [
    "## Exercises\n",
    "\n",
    "- Need to add Samuel’s previous exercises that cannot be accessed\n",
    "\n",
    "# Concatenation of Strings\n",
    "\n",
    "- When we merge two strings together, we call this string concatenation\n",
    "- There are many ways to combine strings together to print out word combinations or even create entirely new strings that can be stored in different variables!\n",
    "- We can use different operators to concatenate strings. Try running the following blocks of code and explain what they do. If you encounter any errors, try to explain why."
   ]
  },
  {
   "cell_type": "code",
   "execution_count": null,
   "id": "aa828601",
   "metadata": {},
   "outputs": [],
   "source": [
    "print(\"Hello \" + \"World\")"
   ]
  },
  {
   "cell_type": "code",
   "execution_count": null,
   "id": "5aaf7497",
   "metadata": {},
   "outputs": [],
   "source": [
    "str1=\"Hello\"\n",
    "str2=\"World\"\n",
    "\n",
    "str=str1+str2\n",
    "\n",
    "print(str)"
   ]
  },
  {
   "cell_type": "code",
   "execution_count": null,
   "id": "55ff4e01",
   "metadata": {},
   "outputs": [],
   "source": [
    "print(\"Hi\"*4)"
   ]
  },
  {
   "cell_type": "code",
   "execution_count": null,
   "id": "052c09b6",
   "metadata": {},
   "outputs": [],
   "source": [
    "print(5 + \"1\")"
   ]
  },
  {
   "cell_type": "markdown",
   "id": "d1b997fd",
   "metadata": {},
   "source": [
    "# The `input()` function\n",
    "\n",
    "- The `input()` function is one of Python’s many built-in functions\n",
    "- It allows user input\n",
    "- The syntax of the function is `input(*prompt*)` where the prompt is a `String`\n",
    "- Take a look at the following examples\n",
    "\n",
    "**Example 1**"
   ]
  },
  {
   "cell_type": "code",
   "execution_count": null,
   "id": "5d60e919",
   "metadata": {},
   "outputs": [],
   "source": [
    "day = input(\"What day is it today?:\")\n",
    "print(\"Today is\" + \" \" + day)"
   ]
  },
  {
   "cell_type": "markdown",
   "id": "f69ffc2f",
   "metadata": {},
   "source": [
    "**Example 2**"
   ]
  },
  {
   "cell_type": "code",
   "execution_count": null,
   "id": "901a6590",
   "metadata": {},
   "outputs": [],
   "source": [
    "before_tax = input(\"How much does a milkshake cost? (approximately):\")\n",
    "tax = 1.05\n",
    "total_after_tax = tax * float(before_tax)\n",
    "print(\"Your milkshake after tax is \" + \"$\" str(total_after_tax))"
   ]
  },
  {
   "cell_type": "markdown",
   "id": "e685ca74",
   "metadata": {},
   "source": [
    "### **Exercise: Total after Tax**\n",
    "\n",
    "- We will be building on example 2 in this exercise.\n",
    "- Lets say a milkshake costs $8.11, but if we input that number, we will notice that after tax, the milkshake would cost $8.5155! Have you ever paid x.xxxx amount?\n",
    "- Then try to value $0. You’ll notice that it only has one decimal place, but what if we wanted to keep it to two decimal places?\n",
    "- Lets ensure that our total cost is rounded to two decimal places and has exactly two decimal places using the `str.format()` built-in function. You learn how to use it [here](https://www.adamsmith.haus/python/answers/how-to-print-a-float-with-two-decimal-places-in-python).\n",
    "\n",
    "# Feedback Form\n",
    "\n",
    "Please take a moment to provide your thoughts on this Module 1a.\n",
    "\n",
    "[Module 1b (Using and Displaying Data: Print Statements and Inputs) - Feedback form](https://docs.google.com/forms/d/e/1FAIpQLSfI_-IodU6mbMNONS5Qd33Tt4lEGB1s1LKl3x2tv6cs8VOISQ/viewform?usp=sf_link)"
   ]
  }
 ],
 "metadata": {},
 "nbformat": 4,
 "nbformat_minor": 5
}
